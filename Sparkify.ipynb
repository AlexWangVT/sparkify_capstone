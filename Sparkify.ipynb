{
    "cells": [
        {
            "cell_type": "markdown",
            "metadata": {},
            "source": [
                "# Load raw dataset\n",
                "A medium-sized dataset is provided (rather than 12 GB full dataset as is in AWS) for data wrangling in the spark cluster of IBM Watson Studio. \n"
            ]
        },
        {
            "cell_type": "code",
            "execution_count": 1,
            "metadata": {},
            "outputs": [
                {
                    "ename": "NameError",
                    "evalue": "name 'sc' is not defined",
                    "output_type": "error",
                    "traceback": [
                        "\u001b[0;31m---------------------------------------------------------------------------\u001b[0m",
                        "\u001b[0;31mNameError\u001b[0m                                 Traceback (most recent call last)",
                        "\u001b[1;32m/Volumes/work/Course Lecture/Udacity/DataScientistNanodegree/projects/capstone/Sparkify/Sparkify.ipynb Cell 2\u001b[0m in \u001b[0;36m<cell line: 13>\u001b[0;34m()\u001b[0m\n\u001b[1;32m      <a href='vscode-notebook-cell:/Volumes/work/Course%20Lecture/Udacity/DataScientistNanodegree/projects/capstone/Sparkify/Sparkify.ipynb#W1sZmlsZQ%3D%3D?line=4'>5</a>\u001b[0m credentials \u001b[39m=\u001b[39m {\n\u001b[1;32m      <a href='vscode-notebook-cell:/Volumes/work/Course%20Lecture/Udacity/DataScientistNanodegree/projects/capstone/Sparkify/Sparkify.ipynb#W1sZmlsZQ%3D%3D?line=5'>6</a>\u001b[0m     \u001b[39m'\u001b[39m\u001b[39mendpoint\u001b[39m\u001b[39m'\u001b[39m: \u001b[39m'\u001b[39m\u001b[39mhttps://s3.private.us.cloud-object-storage.appdomain.cloud\u001b[39m\u001b[39m'\u001b[39m,\n\u001b[1;32m      <a href='vscode-notebook-cell:/Volumes/work/Course%20Lecture/Udacity/DataScientistNanodegree/projects/capstone/Sparkify/Sparkify.ipynb#W1sZmlsZQ%3D%3D?line=6'>7</a>\u001b[0m     \u001b[39m'\u001b[39m\u001b[39mservice_id\u001b[39m\u001b[39m'\u001b[39m: \u001b[39m'\u001b[39m\u001b[39miam-ServiceId-b314834d-5443-4359-8efa-88fb1ca94789\u001b[39m\u001b[39m'\u001b[39m,\n\u001b[1;32m      <a href='vscode-notebook-cell:/Volumes/work/Course%20Lecture/Udacity/DataScientistNanodegree/projects/capstone/Sparkify/Sparkify.ipynb#W1sZmlsZQ%3D%3D?line=7'>8</a>\u001b[0m     \u001b[39m'\u001b[39m\u001b[39miam_service_endpoint\u001b[39m\u001b[39m'\u001b[39m: \u001b[39m'\u001b[39m\u001b[39mhttps://iam.cloud.ibm.com/oidc/token\u001b[39m\u001b[39m'\u001b[39m,\n\u001b[1;32m      <a href='vscode-notebook-cell:/Volumes/work/Course%20Lecture/Udacity/DataScientistNanodegree/projects/capstone/Sparkify/Sparkify.ipynb#W1sZmlsZQ%3D%3D?line=8'>9</a>\u001b[0m     \u001b[39m'\u001b[39m\u001b[39mapi_key\u001b[39m\u001b[39m'\u001b[39m: \u001b[39m'\u001b[39m\u001b[39mNfS0KqvIB-QZO6PoO6p1UYPdzthvM2t3mOeNGUatbbnC\u001b[39m\u001b[39m'\u001b[39m\n\u001b[1;32m     <a href='vscode-notebook-cell:/Volumes/work/Course%20Lecture/Udacity/DataScientistNanodegree/projects/capstone/Sparkify/Sparkify.ipynb#W1sZmlsZQ%3D%3D?line=9'>10</a>\u001b[0m }\n\u001b[1;32m     <a href='vscode-notebook-cell:/Volumes/work/Course%20Lecture/Udacity/DataScientistNanodegree/projects/capstone/Sparkify/Sparkify.ipynb#W1sZmlsZQ%3D%3D?line=11'>12</a>\u001b[0m configuration_name \u001b[39m=\u001b[39m \u001b[39m'\u001b[39m\u001b[39mos_c4ce378e6d4243b4bee4d7f946ea0bff_configs\u001b[39m\u001b[39m'\u001b[39m\n\u001b[0;32m---> <a href='vscode-notebook-cell:/Volumes/work/Course%20Lecture/Udacity/DataScientistNanodegree/projects/capstone/Sparkify/Sparkify.ipynb#W1sZmlsZQ%3D%3D?line=12'>13</a>\u001b[0m cos \u001b[39m=\u001b[39m ibmos2spark\u001b[39m.\u001b[39mCloudObjectStorage(sc, credentials, configuration_name, \u001b[39m'\u001b[39m\u001b[39mbluemix_cos\u001b[39m\u001b[39m'\u001b[39m)\n\u001b[1;32m     <a href='vscode-notebook-cell:/Volumes/work/Course%20Lecture/Udacity/DataScientistNanodegree/projects/capstone/Sparkify/Sparkify.ipynb#W1sZmlsZQ%3D%3D?line=14'>15</a>\u001b[0m \u001b[39mfrom\u001b[39;00m \u001b[39mpyspark\u001b[39;00m\u001b[39m.\u001b[39;00m\u001b[39msql\u001b[39;00m \u001b[39mimport\u001b[39;00m SparkSession\n\u001b[1;32m     <a href='vscode-notebook-cell:/Volumes/work/Course%20Lecture/Udacity/DataScientistNanodegree/projects/capstone/Sparkify/Sparkify.ipynb#W1sZmlsZQ%3D%3D?line=15'>16</a>\u001b[0m spark \u001b[39m=\u001b[39m SparkSession\u001b[39m.\u001b[39mbuilder\u001b[39m.\u001b[39mgetOrCreate()\n",
                        "\u001b[0;31mNameError\u001b[0m: name 'sc' is not defined"
                    ]
                }
            ],
            "source": [
                "# Load raw data to spark\n",
                "\n",
                "import ibmos2spark, os\n",
                "# @hidden_cell\n",
                "credentials = {\n",
                "    'endpoint': 'https://s3.private.us.cloud-object-storage.appdomain.cloud',\n",
                "    'service_id': 'iam-ServiceId-b314834d-5443-4359-8efa-88fb1ca94789',\n",
                "    'iam_service_endpoint': 'https://iam.cloud.ibm.com/oidc/token',\n",
                "    'api_key': 'NfS0KqvIB-QZO6PoO6p1UYPdzthvM2t3mOeNGUatbbnC'\n",
                "}\n",
                "\n",
                "configuration_name = 'os_c4ce378e6d4243b4bee4d7f946ea0bff_configs'\n",
                "cos = ibmos2spark.CloudObjectStorage(sc, credentials, configuration_name, 'bluemix_cos')\n",
                "\n",
                "from pyspark.sql import SparkSession\n",
                "spark = SparkSession.builder.getOrCreate()\n",
                "# Since JSON data can be semi-structured and contain additional metadata, it is possible that you might face issues with the DataFrame layout.\n",
                "# Please read the documentation of 'SparkSession.read()' to learn more about the possibilities to adjust the data loading.\n",
                "# PySpark documentation: http://spark.apache.org/docs/2.0.2/api/python/pyspark.sql.html#pyspark.sql.DataFrameReader.json\n",
                "\n",
                "df_data_1 = spark.read.json(cos.url('medium-sparkify-event-data.json', 'sparkify-donotdelete-pr-crgpbxoft3rjye'))\n",
                "df_data_1.take(5)"
            ]
        },
        {
            "cell_type": "code",
            "execution_count": 2,
            "metadata": {},
            "outputs": [
                {
                    "name": "stdout",
                    "output_type": "stream",
                    "text": [
                        "22/08/10 08:55:32 WARN Utils: Your hostname, MacBook-Pro.local resolves to a loopback address: 127.0.0.1; using 192.168.0.81 instead (on interface en0)\n",
                        "22/08/10 08:55:32 WARN Utils: Set SPARK_LOCAL_IP if you need to bind to another address\n"
                    ]
                },
                {
                    "name": "stderr",
                    "output_type": "stream",
                    "text": [
                        "Setting default log level to \"WARN\".\n",
                        "To adjust logging level use sc.setLogLevel(newLevel). For SparkR, use setLogLevel(newLevel).\n"
                    ]
                },
                {
                    "name": "stdout",
                    "output_type": "stream",
                    "text": [
                        "22/08/10 08:55:33 WARN NativeCodeLoader: Unable to load native-hadoop library for your platform... using builtin-java classes where applicable\n"
                    ]
                },
                {
                    "name": "stderr",
                    "output_type": "stream",
                    "text": [
                        "                                                                                \r"
                    ]
                },
                {
                    "data": {
                        "text/plain": [
                            "[Row(artist='Martin Orford', auth='Logged In', firstName='Joseph', gender='M', itemInSession=20, lastName='Morales', length=597.55057, level='free', location='Corpus Christi, TX', method='PUT', page='NextSong', registration=1532063507000, sessionId=292, song='Grand Designs', status=200, ts=1538352011000, userAgent='\"Mozilla/5.0 (Macintosh; Intel Mac OS X 10_9_4) AppleWebKit/537.36 (KHTML, like Gecko) Chrome/36.0.1985.125 Safari/537.36\"', userId='293'),\n",
                            " Row(artist=\"John Brown's Body\", auth='Logged In', firstName='Sawyer', gender='M', itemInSession=74, lastName='Larson', length=380.21179, level='free', location='Houston-The Woodlands-Sugar Land, TX', method='PUT', page='NextSong', registration=1538069638000, sessionId=97, song='Bulls', status=200, ts=1538352025000, userAgent='\"Mozilla/5.0 (Macintosh; Intel Mac OS X 10_9_4) AppleWebKit/537.36 (KHTML, like Gecko) Chrome/36.0.1985.143 Safari/537.36\"', userId='98'),\n",
                            " Row(artist='Afroman', auth='Logged In', firstName='Maverick', gender='M', itemInSession=184, lastName='Santiago', length=202.37016, level='paid', location='Orlando-Kissimmee-Sanford, FL', method='PUT', page='NextSong', registration=1535953455000, sessionId=178, song='Because I Got High', status=200, ts=1538352118000, userAgent='\"Mozilla/5.0 (Macintosh; Intel Mac OS X 10_9_4) AppleWebKit/537.36 (KHTML, like Gecko) Chrome/36.0.1985.143 Safari/537.36\"', userId='179'),\n",
                            " Row(artist=None, auth='Logged In', firstName='Maverick', gender='M', itemInSession=185, lastName='Santiago', length=None, level='paid', location='Orlando-Kissimmee-Sanford, FL', method='PUT', page='Logout', registration=1535953455000, sessionId=178, song=None, status=307, ts=1538352119000, userAgent='\"Mozilla/5.0 (Macintosh; Intel Mac OS X 10_9_4) AppleWebKit/537.36 (KHTML, like Gecko) Chrome/36.0.1985.143 Safari/537.36\"', userId='179'),\n",
                            " Row(artist='Lily Allen', auth='Logged In', firstName='Gianna', gender='F', itemInSession=22, lastName='Campos', length=194.53342, level='paid', location='Mobile, AL', method='PUT', page='NextSong', registration=1535931018000, sessionId=245, song='Smile (Radio Edit)', status=200, ts=1538352124000, userAgent='Mozilla/5.0 (Windows NT 6.1; WOW64; rv:31.0) Gecko/20100101 Firefox/31.0', userId='246')]"
                        ]
                    },
                    "execution_count": 2,
                    "metadata": {},
                    "output_type": "execute_result"
                }
            ],
            "source": [
                "from pyspark.sql import SparkSession\n",
                "spark = SparkSession.builder.getOrCreate()\n",
                "# Since JSON data can be semi-structured and contain additional metadata, it is possible that you might face issues with the DataFrame layout.\n",
                "# Please read the documentation of 'SparkSession.read()' to learn more about the possibilities to adjust the data loading.\n",
                "# PySpark documentation: http://spark.apache.org/docs/2.0.2/api/python/pyspark.sql.html#pyspark.sql.DataFrameReader.json\n",
                "\n",
                "df_data_1 = spark.read.json('medium-sparkify-event-data.json')\n",
                "df_data_1.take(5)"
            ]
        },
        {
            "cell_type": "markdown",
            "metadata": {},
            "source": [
                "# Data cleanning and exploration \n",
                "In this section, data cleaning is completed including checking size of dataset, columns, invalid or missing data, drop duplicates, exploratory visualization, categorical data processing, and so forth. "
            ]
        },
        {
            "cell_type": "code",
            "execution_count": 76,
            "metadata": {},
            "outputs": [],
            "source": [
                "from pyspark.sql import Row\n",
                "from pyspark.sql.functions import *\n",
                "import matplotlib.pyplot as plt\n",
                "import pyspark.pandas as ps\n",
                "import pandas as pd\n",
                "import seaborn as sns\n",
                "import numpy as np"
            ]
        },
        {
            "cell_type": "code",
            "execution_count": 4,
            "metadata": {},
            "outputs": [
                {
                    "name": "stdout",
                    "output_type": "stream",
                    "text": [
                        "root\n",
                        " |-- artist: string (nullable = true)\n",
                        " |-- auth: string (nullable = true)\n",
                        " |-- firstName: string (nullable = true)\n",
                        " |-- gender: string (nullable = true)\n",
                        " |-- itemInSession: long (nullable = true)\n",
                        " |-- lastName: string (nullable = true)\n",
                        " |-- length: double (nullable = true)\n",
                        " |-- level: string (nullable = true)\n",
                        " |-- location: string (nullable = true)\n",
                        " |-- method: string (nullable = true)\n",
                        " |-- page: string (nullable = true)\n",
                        " |-- registration: long (nullable = true)\n",
                        " |-- sessionId: long (nullable = true)\n",
                        " |-- song: string (nullable = true)\n",
                        " |-- status: long (nullable = true)\n",
                        " |-- ts: long (nullable = true)\n",
                        " |-- userAgent: string (nullable = true)\n",
                        " |-- userId: string (nullable = true)\n",
                        "\n"
                    ]
                }
            ],
            "source": [
                "df_data_1.printSchema()"
            ]
        },
        {
            "cell_type": "code",
            "execution_count": 5,
            "metadata": {},
            "outputs": [
                {
                    "name": "stdout",
                    "output_type": "stream",
                    "text": [
                        "+--------------------+----------+---------+------+-------------+---------+---------+-----+--------------------+------+---------------+-------------+---------+--------------------+------+-------------+--------------------+------+\n",
                        "|              artist|      auth|firstName|gender|itemInSession| lastName|   length|level|            location|method|           page| registration|sessionId|                song|status|           ts|           userAgent|userId|\n",
                        "+--------------------+----------+---------+------+-------------+---------+---------+-----+--------------------+------+---------------+-------------+---------+--------------------+------+-------------+--------------------+------+\n",
                        "|       Martin Orford| Logged In|   Joseph|     M|           20|  Morales|597.55057| free|  Corpus Christi, TX|   PUT|       NextSong|1532063507000|      292|       Grand Designs|   200|1538352011000|\"Mozilla/5.0 (Mac...|   293|\n",
                        "|   John Brown's Body| Logged In|   Sawyer|     M|           74|   Larson|380.21179| free|Houston-The Woodl...|   PUT|       NextSong|1538069638000|       97|               Bulls|   200|1538352025000|\"Mozilla/5.0 (Mac...|    98|\n",
                        "|             Afroman| Logged In| Maverick|     M|          184| Santiago|202.37016| paid|Orlando-Kissimmee...|   PUT|       NextSong|1535953455000|      178|  Because I Got High|   200|1538352118000|\"Mozilla/5.0 (Mac...|   179|\n",
                        "|                null| Logged In| Maverick|     M|          185| Santiago|     null| paid|Orlando-Kissimmee...|   PUT|         Logout|1535953455000|      178|                null|   307|1538352119000|\"Mozilla/5.0 (Mac...|   179|\n",
                        "|          Lily Allen| Logged In|   Gianna|     F|           22|   Campos|194.53342| paid|          Mobile, AL|   PUT|       NextSong|1535931018000|      245|  Smile (Radio Edit)|   200|1538352124000|Mozilla/5.0 (Wind...|   246|\n",
                        "|          Carter USM| Logged In|    Sofia|     F|          266|   Gordon|138.29179| paid|       Rochester, MN|   PUT|       NextSong|1533175710000|      162|       Airplane Food|   200|1538352125000|\"Mozilla/5.0 (Mac...|   163|\n",
                        "|                null|Logged Out|     null|  null|          186|     null|     null| paid|                null|   GET|           Home|         null|      178|                null|   200|1538352148000|                null|      |\n",
                        "|                null|Logged Out|     null|  null|          187|     null|     null| paid|                null|   GET|           Home|         null|      178|                null|   200|1538352151000|                null|      |\n",
                        "|                null|Logged Out|     null|  null|          188|     null|     null| paid|                null|   GET|           Home|         null|      178|                null|   200|1538352168000|                null|      |\n",
                        "|                null|Logged Out|     null|  null|          189|     null|     null| paid|                null|   PUT|          Login|         null|      178|                null|   307|1538352169000|                null|      |\n",
                        "|                null| Logged In| Maverick|     M|          190| Santiago|     null| paid|Orlando-Kissimmee...|   GET|           Home|1535953455000|      178|                null|   200|1538352176000|\"Mozilla/5.0 (Mac...|   179|\n",
                        "|           Aerosmith| Logged In|    Lacey|     F|          107|Castaneda|220.39465| free|        El Campo, TX|   PUT|       NextSong|1537536032000|      442|       Walk This Way|   200|1538352215000|\"Mozilla/5.0 (Mac...|   175|\n",
                        "|                null| Logged In|    Colin|     M|            0|   Larson|     null| free|Dallas-Fort Worth...|   GET|           Home|1537982255000|      497|                null|   200|1538352241000|Mozilla/5.0 (Wind...|   100|\n",
                        "|       Amy Winehouse| Logged In|    Colin|     M|            1|   Larson|201.50812| free|Dallas-Fort Worth...|   PUT|       NextSong|1537982255000|      497|    Teach Me Tonight|   200|1538352259000|Mozilla/5.0 (Wind...|   100|\n",
                        "|Drake / Kanye Wes...| Logged In|    Sofia|     F|          267|   Gordon|357.66812| paid|       Rochester, MN|   PUT|       NextSong|1533175710000|      162|             Forever|   200|1538352263000|\"Mozilla/5.0 (Mac...|   163|\n",
                        "|           Bob Dylan| Logged In|   Gianna|     F|           23|   Campos|256.96608| paid|          Mobile, AL|   PUT|       NextSong|1535931018000|      245|Simple Twist Of Fate|   200|1538352318000|Mozilla/5.0 (Wind...|   246|\n",
                        "|        The Bar-Kays| Logged In| Maverick|     M|          191| Santiago|164.23138| paid|Orlando-Kissimmee...|   PUT|       NextSong|1535953455000|      178|         Montego Bay|   200|1538352320000|\"Mozilla/5.0 (Mac...|   179|\n",
                        "|          Black Kids| Logged In|   Payton|     F|           83| Campbell|251.48036| free|Los Angeles-Long ...|   PUT|       NextSong|1529027541000|       38|Look At Me (When ...|   200|1538352323000|\"Mozilla/5.0 (Win...|    39|\n",
                        "|                null| Logged In|    Sofia|     F|          268|   Gordon|     null| paid|       Rochester, MN|   GET|      Downgrade|1533175710000|      162|                null|   200|1538352336000|\"Mozilla/5.0 (Mac...|   163|\n",
                        "|                null| Logged In| Maverick|     M|          192| Santiago|     null| paid|Orlando-Kissimmee...|   PUT|Add to Playlist|1535953455000|      178|                null|   200|1538352376000|\"Mozilla/5.0 (Mac...|   179|\n",
                        "+--------------------+----------+---------+------+-------------+---------+---------+-----+--------------------+------+---------------+-------------+---------+--------------------+------+-------------+--------------------+------+\n",
                        "only showing top 20 rows\n",
                        "\n"
                    ]
                }
            ],
            "source": [
                "df_data_1.show()"
            ]
        },
        {
            "cell_type": "code",
            "execution_count": 6,
            "metadata": {},
            "outputs": [
                {
                    "name": "stdout",
                    "output_type": "stream",
                    "text": [
                        "(543705, 18)\n"
                    ]
                },
                {
                    "name": "stderr",
                    "output_type": "stream",
                    "text": [
                        "                                                                                \r"
                    ]
                }
            ],
            "source": [
                "print((df_data_1.count(), len(df_data_1.columns)))"
            ]
        },
        {
            "cell_type": "code",
            "execution_count": 7,
            "metadata": {},
            "outputs": [
                {
                    "name": "stdout",
                    "output_type": "stream",
                    "text": [
                        "+-------------------------+\n",
                        "|page                     |\n",
                        "+-------------------------+\n",
                        "|Cancel                   |\n",
                        "|Submit Downgrade         |\n",
                        "|Thumbs Down              |\n",
                        "|Home                     |\n",
                        "|Downgrade                |\n",
                        "|Roll Advert              |\n",
                        "|Logout                   |\n",
                        "|Save Settings            |\n",
                        "|Cancellation Confirmation|\n",
                        "|About                    |\n",
                        "|Settings                 |\n",
                        "|Login                    |\n",
                        "|Add to Playlist          |\n",
                        "|Add Friend               |\n",
                        "|NextSong                 |\n",
                        "|Thumbs Up                |\n",
                        "|Help                     |\n",
                        "|Upgrade                  |\n",
                        "|Error                    |\n",
                        "|Submit Upgrade           |\n",
                        "|Submit Registration      |\n",
                        "|Register                 |\n",
                        "+-------------------------+\n",
                        "\n"
                    ]
                },
                {
                    "name": "stderr",
                    "output_type": "stream",
                    "text": [
                        "                                                                                \r"
                    ]
                }
            ],
            "source": [
                "df_data_1.select('page').distinct().show(100, False)"
            ]
        },
        {
            "cell_type": "code",
            "execution_count": 8,
            "metadata": {},
            "outputs": [
                {
                    "data": {
                        "text/plain": [
                            "80293"
                        ]
                    },
                    "execution_count": 8,
                    "metadata": {},
                    "output_type": "execute_result"
                }
            ],
            "source": [
                "df_data_1.select('song').distinct().count()"
            ]
        },
        {
            "cell_type": "code",
            "execution_count": 9,
            "metadata": {},
            "outputs": [
                {
                    "data": {
                        "text/plain": [
                            "Row(max(length)=3024.66567)"
                        ]
                    },
                    "execution_count": 9,
                    "metadata": {},
                    "output_type": "execute_result"
                }
            ],
            "source": [
                "df_data_1.agg({'length': 'max'}).collect()[0]"
            ]
        },
        {
            "cell_type": "markdown",
            "metadata": {},
            "source": [
                "## 1. Create Churn column based on \"page\" column"
            ]
        },
        {
            "cell_type": "code",
            "execution_count": 10,
            "metadata": {
                "scrolled": false
            },
            "outputs": [
                {
                    "name": "stdout",
                    "output_type": "stream",
                    "text": [
                        "+--------------------+----------+---------+------+-------------+---------+---------+-----+--------------------+------+---------------+-------------+---------+--------------------+------+-------------+--------------------+------+-----+\n",
                        "|              artist|      auth|firstName|gender|itemInSession| lastName|   length|level|            location|method|           page| registration|sessionId|                song|status|           ts|           userAgent|userId|Churn|\n",
                        "+--------------------+----------+---------+------+-------------+---------+---------+-----+--------------------+------+---------------+-------------+---------+--------------------+------+-------------+--------------------+------+-----+\n",
                        "|       Martin Orford| Logged In|   Joseph|     M|           20|  Morales|597.55057| free|  Corpus Christi, TX|   PUT|       NextSong|1532063507000|      292|       Grand Designs|   200|1538352011000|\"Mozilla/5.0 (Mac...|   293|    0|\n",
                        "|   John Brown's Body| Logged In|   Sawyer|     M|           74|   Larson|380.21179| free|Houston-The Woodl...|   PUT|       NextSong|1538069638000|       97|               Bulls|   200|1538352025000|\"Mozilla/5.0 (Mac...|    98|    0|\n",
                        "|             Afroman| Logged In| Maverick|     M|          184| Santiago|202.37016| paid|Orlando-Kissimmee...|   PUT|       NextSong|1535953455000|      178|  Because I Got High|   200|1538352118000|\"Mozilla/5.0 (Mac...|   179|    0|\n",
                        "|                null| Logged In| Maverick|     M|          185| Santiago|     null| paid|Orlando-Kissimmee...|   PUT|         Logout|1535953455000|      178|                null|   307|1538352119000|\"Mozilla/5.0 (Mac...|   179|    0|\n",
                        "|          Lily Allen| Logged In|   Gianna|     F|           22|   Campos|194.53342| paid|          Mobile, AL|   PUT|       NextSong|1535931018000|      245|  Smile (Radio Edit)|   200|1538352124000|Mozilla/5.0 (Wind...|   246|    0|\n",
                        "|          Carter USM| Logged In|    Sofia|     F|          266|   Gordon|138.29179| paid|       Rochester, MN|   PUT|       NextSong|1533175710000|      162|       Airplane Food|   200|1538352125000|\"Mozilla/5.0 (Mac...|   163|    0|\n",
                        "|                null|Logged Out|     null|  null|          186|     null|     null| paid|                null|   GET|           Home|         null|      178|                null|   200|1538352148000|                null|      |    0|\n",
                        "|                null|Logged Out|     null|  null|          187|     null|     null| paid|                null|   GET|           Home|         null|      178|                null|   200|1538352151000|                null|      |    0|\n",
                        "|                null|Logged Out|     null|  null|          188|     null|     null| paid|                null|   GET|           Home|         null|      178|                null|   200|1538352168000|                null|      |    0|\n",
                        "|                null|Logged Out|     null|  null|          189|     null|     null| paid|                null|   PUT|          Login|         null|      178|                null|   307|1538352169000|                null|      |    0|\n",
                        "|                null| Logged In| Maverick|     M|          190| Santiago|     null| paid|Orlando-Kissimmee...|   GET|           Home|1535953455000|      178|                null|   200|1538352176000|\"Mozilla/5.0 (Mac...|   179|    0|\n",
                        "|           Aerosmith| Logged In|    Lacey|     F|          107|Castaneda|220.39465| free|        El Campo, TX|   PUT|       NextSong|1537536032000|      442|       Walk This Way|   200|1538352215000|\"Mozilla/5.0 (Mac...|   175|    0|\n",
                        "|                null| Logged In|    Colin|     M|            0|   Larson|     null| free|Dallas-Fort Worth...|   GET|           Home|1537982255000|      497|                null|   200|1538352241000|Mozilla/5.0 (Wind...|   100|    0|\n",
                        "|       Amy Winehouse| Logged In|    Colin|     M|            1|   Larson|201.50812| free|Dallas-Fort Worth...|   PUT|       NextSong|1537982255000|      497|    Teach Me Tonight|   200|1538352259000|Mozilla/5.0 (Wind...|   100|    0|\n",
                        "|Drake / Kanye Wes...| Logged In|    Sofia|     F|          267|   Gordon|357.66812| paid|       Rochester, MN|   PUT|       NextSong|1533175710000|      162|             Forever|   200|1538352263000|\"Mozilla/5.0 (Mac...|   163|    0|\n",
                        "|           Bob Dylan| Logged In|   Gianna|     F|           23|   Campos|256.96608| paid|          Mobile, AL|   PUT|       NextSong|1535931018000|      245|Simple Twist Of Fate|   200|1538352318000|Mozilla/5.0 (Wind...|   246|    0|\n",
                        "|        The Bar-Kays| Logged In| Maverick|     M|          191| Santiago|164.23138| paid|Orlando-Kissimmee...|   PUT|       NextSong|1535953455000|      178|         Montego Bay|   200|1538352320000|\"Mozilla/5.0 (Mac...|   179|    0|\n",
                        "|          Black Kids| Logged In|   Payton|     F|           83| Campbell|251.48036| free|Los Angeles-Long ...|   PUT|       NextSong|1529027541000|       38|Look At Me (When ...|   200|1538352323000|\"Mozilla/5.0 (Win...|    39|    0|\n",
                        "|                null| Logged In|    Sofia|     F|          268|   Gordon|     null| paid|       Rochester, MN|   GET|      Downgrade|1533175710000|      162|                null|   200|1538352336000|\"Mozilla/5.0 (Mac...|   163|    1|\n",
                        "|                null| Logged In| Maverick|     M|          192| Santiago|     null| paid|Orlando-Kissimmee...|   PUT|Add to Playlist|1535953455000|      178|                null|   200|1538352376000|\"Mozilla/5.0 (Mac...|   179|    0|\n",
                        "+--------------------+----------+---------+------+-------------+---------+---------+-----+--------------------+------+---------------+-------------+---------+--------------------+------+-------------+--------------------+------+-----+\n",
                        "only showing top 20 rows\n",
                        "\n"
                    ]
                }
            ],
            "source": [
                "cancel_set = ['Cancel', 'Submit Downgrade', 'Thumbs Down', 'Downgrade', 'Cancellation Confirmation']\n",
                "df_data_1 = df_data_1.withColumn('Churn', when(df_data_1.page.isin(cancel_set), 1).otherwise(0))\n",
                "df_data_1.show()"
            ]
        },
        {
            "cell_type": "markdown",
            "metadata": {},
            "source": [
                "## 2. Remove invalid, missing, duplicate records\n",
                "1. Intuitively, we do not think the leave or stay of a customer would be affected by his/her name and registration ID. So the columns \"firstName\", \"lastName\", and \"registration\" can be simply dropped.\n",
                "2. Based on the aggregation results of groupBy('Churn', 'artist'), groupBy('Churn', 'song'), and column \"length\", all cases of Churn==1 have null artist, song, and length, so churn rate is also not related to them in this dataset. Here we drop columns \"artist\", \"song\", and \"length\" as well.\n",
                "3. After dropping unused columns, we filter out rows with null value. "
            ]
        },
        {
            "cell_type": "code",
            "execution_count": 11,
            "metadata": {},
            "outputs": [
                {
                    "name": "stderr",
                    "output_type": "stream",
                    "text": [
                        "[Stage 19:====>                                                   (1 + 11) / 12]\r"
                    ]
                },
                {
                    "name": "stdout",
                    "output_type": "stream",
                    "text": [
                        "+------+----+---------+------+-------------+--------+------+-----+--------+------+----+------------+---------+------+------+---+---------+------+-----+\n",
                        "|artist|auth|firstName|gender|itemInSession|lastName|length|level|location|method|page|registration|sessionId|  song|status| ts|userAgent|userId|Churn|\n",
                        "+------+----+---------+------+-------------+--------+------+-----+--------+------+----+------------+---------+------+------+---+---------+------+-----+\n",
                        "|110828|   0|    15700| 15700|            0|   15700|110828|    0|   15700|     0|   0|       15700|        0|110829|     0|  0|    15700|     0|    0|\n",
                        "+------+----+---------+------+-------------+--------+------+-----+--------+------+----+------------+---------+------+------+---+---------+------+-----+\n",
                        "\n"
                    ]
                },
                {
                    "name": "stderr",
                    "output_type": "stream",
                    "text": [
                        "                                                                                \r"
                    ]
                }
            ],
            "source": [
                "# Count missing values for each column\n",
                "df_data_1.select([count(when(isnan(c) | col(c).isNull(), c)).alias(c) for c in df_data_1.columns]).show()"
            ]
        },
        {
            "cell_type": "code",
            "execution_count": 12,
            "metadata": {},
            "outputs": [
                {
                    "name": "stderr",
                    "output_type": "stream",
                    "text": [
                        "                                                                                \r"
                    ]
                },
                {
                    "name": "stdout",
                    "output_type": "stream",
                    "text": [
                        "+-----+--------------------+-----+\n",
                        "|Churn|              artist|count|\n",
                        "+-----+--------------------+-----+\n",
                        "|    0|           The Kooks|  467|\n",
                        "|    0|             Bacilos|  121|\n",
                        "|    0|Brigitte Bardot /...|    7|\n",
                        "|    0|         Passion Pit|  345|\n",
                        "|    0|        Supersuckers|    8|\n",
                        "|    0|         Los Bunkers|   46|\n",
                        "|    0|               Opeth|  117|\n",
                        "|    0|         State Radio|   40|\n",
                        "|    0|                 Mud|   48|\n",
                        "|    0|Jack Johnson / Ka...|   21|\n",
                        "|    0|   Story Of The Year|  100|\n",
                        "|    0|    Peter And Gordon|   29|\n",
                        "|    0|    David Arkenstone|   24|\n",
                        "|    0|          Eskimo Joe|   30|\n",
                        "|    0|         Brian Regan|   17|\n",
                        "|    0|     Massive TÃÂ¶ne|    4|\n",
                        "|    0|       Elvis Presley|   33|\n",
                        "|    0|         Boney James|   57|\n",
                        "|    0|      The Fire Theft|   17|\n",
                        "|    0|Major Lazer / Vyb...|   16|\n",
                        "+-----+--------------------+-----+\n",
                        "only showing top 20 rows\n",
                        "\n",
                        "+-----+------+-----+\n",
                        "|Churn|artist|count|\n",
                        "+-----+------+-----+\n",
                        "|    1|  null| 9037|\n",
                        "+-----+------+-----+\n",
                        "\n"
                    ]
                }
            ],
            "source": [
                "count_churn_0 = df_data_1.groupBy('Churn', 'artist').count().filter(df_data_1.Churn == 0)\n",
                "count_churn_1 = df_data_1.groupBy('Churn', 'artist').count().filter(df_data_1.Churn == 1)\n",
                "count_churn_0.show()\n",
                "count_churn_1.show()"
            ]
        },
        {
            "cell_type": "code",
            "execution_count": 13,
            "metadata": {},
            "outputs": [
                {
                    "name": "stderr",
                    "output_type": "stream",
                    "text": [
                        "                                                                                \r"
                    ]
                },
                {
                    "name": "stdout",
                    "output_type": "stream",
                    "text": [
                        "+-----+--------------------+-----+\n",
                        "|Churn|                song|count|\n",
                        "+-----+--------------------+-----+\n",
                        "|    0|               Reign|   10|\n",
                        "|    0|    Ne Me Quitte Pas|    2|\n",
                        "|    0|    Snow White Queen|    9|\n",
                        "|    0|            Auto-Dub|   15|\n",
                        "|    0|          Release Me|   20|\n",
                        "|    0|The Desperate Kin...|    3|\n",
                        "|    0|             Dragula|   29|\n",
                        "|    0|      Zamba de Usted|    1|\n",
                        "|    0|May The Words Of ...|    6|\n",
                        "|    0|I MÃÂ¶rkret Med Dej|   11|\n",
                        "|    0|Searching (So Muc...|    4|\n",
                        "|    0|Hypnotized (featu...|   24|\n",
                        "|    0|           Entertain|    6|\n",
                        "|    0|Diverse City (Wel...|    3|\n",
                        "|    0|My Drink (I Remem...|   14|\n",
                        "|    0|Machine Gun Funk ...|   19|\n",
                        "|    0|               Saxon|    5|\n",
                        "|    0|            Over You|   15|\n",
                        "|    0|Rubber & Soul (An...|    2|\n",
                        "|    0|          Fast-Track|   16|\n",
                        "+-----+--------------------+-----+\n",
                        "only showing top 20 rows\n",
                        "\n",
                        "+-----+----+-----+\n",
                        "|Churn|song|count|\n",
                        "+-----+----+-----+\n",
                        "|    1|null| 9037|\n",
                        "+-----+----+-----+\n",
                        "\n"
                    ]
                }
            ],
            "source": [
                "count_churn_0 = df_data_1.groupBy('Churn', 'song').count().filter(df_data_1.Churn == 0)\n",
                "count_churn_1 = df_data_1.groupBy('Churn', 'song').count().filter(df_data_1.Churn == 1)\n",
                "count_churn_0.show()\n",
                "count_churn_1.show()"
            ]
        },
        {
            "cell_type": "code",
            "execution_count": 14,
            "metadata": {},
            "outputs": [
                {
                    "name": "stdout",
                    "output_type": "stream",
                    "text": [
                        "+---------+\n",
                        "|   length|\n",
                        "+---------+\n",
                        "|597.55057|\n",
                        "|380.21179|\n",
                        "|202.37016|\n",
                        "|     null|\n",
                        "|194.53342|\n",
                        "|138.29179|\n",
                        "|     null|\n",
                        "|     null|\n",
                        "|     null|\n",
                        "|     null|\n",
                        "|     null|\n",
                        "|220.39465|\n",
                        "|     null|\n",
                        "|201.50812|\n",
                        "|357.66812|\n",
                        "|256.96608|\n",
                        "|164.23138|\n",
                        "|251.48036|\n",
                        "|     null|\n",
                        "|157.67465|\n",
                        "+---------+\n",
                        "only showing top 20 rows\n",
                        "\n",
                        "+------+\n",
                        "|length|\n",
                        "+------+\n",
                        "|  null|\n",
                        "|  null|\n",
                        "|  null|\n",
                        "|  null|\n",
                        "|  null|\n",
                        "|  null|\n",
                        "|  null|\n",
                        "|  null|\n",
                        "|  null|\n",
                        "|  null|\n",
                        "|  null|\n",
                        "|  null|\n",
                        "|  null|\n",
                        "|  null|\n",
                        "|  null|\n",
                        "|  null|\n",
                        "|  null|\n",
                        "|  null|\n",
                        "|  null|\n",
                        "|  null|\n",
                        "+------+\n",
                        "only showing top 20 rows\n",
                        "\n"
                    ]
                }
            ],
            "source": [
                "count_churn_0 = df_data_1.filter(df_data_1.Churn == 0).select('length').show()\n",
                "count_churn_1 = df_data_1.filter(df_data_1.Churn == 1).select('length').show()"
            ]
        },
        {
            "cell_type": "code",
            "execution_count": 15,
            "metadata": {},
            "outputs": [
                {
                    "name": "stdout",
                    "output_type": "stream",
                    "text": [
                        "root\n",
                        " |-- auth: string (nullable = true)\n",
                        " |-- gender: string (nullable = true)\n",
                        " |-- itemInSession: long (nullable = true)\n",
                        " |-- level: string (nullable = true)\n",
                        " |-- location: string (nullable = true)\n",
                        " |-- method: string (nullable = true)\n",
                        " |-- page: string (nullable = true)\n",
                        " |-- sessionId: long (nullable = true)\n",
                        " |-- status: long (nullable = true)\n",
                        " |-- ts: long (nullable = true)\n",
                        " |-- userAgent: string (nullable = true)\n",
                        " |-- userId: string (nullable = true)\n",
                        " |-- Churn: integer (nullable = false)\n",
                        "\n"
                    ]
                }
            ],
            "source": [
                "cols = ('artist' ,'firstName', 'lastName', 'length', 'song', 'registration')\n",
                "df_drop = df_data_1.drop(*cols)\n",
                "df_drop.printSchema()"
            ]
        },
        {
            "cell_type": "code",
            "execution_count": 16,
            "metadata": {},
            "outputs": [
                {
                    "data": {
                        "text/plain": [
                            "528005"
                        ]
                    },
                    "execution_count": 16,
                    "metadata": {},
                    "output_type": "execute_result"
                }
            ],
            "source": [
                "# Remove null records\n",
                "df_drop = df_drop.na.drop()\n",
                "df_drop.count()"
            ]
        },
        {
            "cell_type": "code",
            "execution_count": 102,
            "metadata": {},
            "outputs": [],
            "source": [
                "# Remove error records of column \"page\"\n",
                "df_drop = df_drop.filter(df_drop.page != 'Error')"
            ]
        },
        {
            "cell_type": "code",
            "execution_count": 103,
            "metadata": {},
            "outputs": [
                {
                    "name": "stderr",
                    "output_type": "stream",
                    "text": [
                        "                                                                                \r"
                    ]
                },
                {
                    "data": {
                        "text/plain": [
                            "527502"
                        ]
                    },
                    "execution_count": 103,
                    "metadata": {},
                    "output_type": "execute_result"
                }
            ],
            "source": [
                "# Drop duplicates\n",
                "# Drop page column because we already get dummy variables for this column \n",
                "df_cleaned = df_drop.drop_duplicates()\n",
                "df_cleaned = df_cleaned.drop('page')\n",
                "df_cleaned.count()"
            ]
        },
        {
            "cell_type": "markdown",
            "metadata": {},
            "source": [
                "## 3. Data exploration"
            ]
        },
        {
            "cell_type": "code",
            "execution_count": 19,
            "metadata": {},
            "outputs": [
                {
                    "name": "stderr",
                    "output_type": "stream",
                    "text": [
                        "[Stage 45:====>                                                   (1 + 11) / 12]\r"
                    ]
                },
                {
                    "name": "stdout",
                    "output_type": "stream",
                    "text": [
                        "+---------+------+-------------+-----+--------------------+------+---------+------+-------------+--------------------+------+-----+\n",
                        "|     auth|gender|itemInSession|level|            location|method|sessionId|status|           ts|           userAgent|userId|Churn|\n",
                        "+---------+------+-------------+-----+--------------------+------+---------+------+-------------+--------------------+------+-----+\n",
                        "|Logged In|     M|           17| free|New York-Newark-J...|   PUT|      485|   307|1538358281000|\"Mozilla/5.0 (Mac...|   273|    0|\n",
                        "|Logged In|     M|           32| free|Dallas-Fort Worth...|   PUT|      497|   200|1538358545000|Mozilla/5.0 (Wind...|   100|    0|\n",
                        "|Logged In|     M|           27| free|New York-Newark-J...|   GET|      485|   200|1538359820000|\"Mozilla/5.0 (Mac...|   273|    0|\n",
                        "|Logged In|     M|           76| free|  Corpus Christi, TX|   PUT|      292|   200|1538362379000|\"Mozilla/5.0 (Mac...|   293|    0|\n",
                        "|Logged In|     F|           15| paid|Dallas-Fort Worth...|   GET|      418|   200|1538366282000|\"Mozilla/5.0 (Win...|   127|    1|\n",
                        "|Logged In|     M|           11| free|Kingsport-Bristol...|   PUT|      487|   200|1538368016000|\"Mozilla/5.0 (Mac...|   131|    0|\n",
                        "|Logged In|     M|           64| free|       Knoxville, TN|   PUT|      249|   200|1538375165000|\"Mozilla/5.0 (Mac...|   250|    0|\n",
                        "|Logged In|     M|           19| free|        Richmond, VA|   PUT|      529|   200|1538376380000|\"Mozilla/5.0 (Win...|   207|    0|\n",
                        "|Logged In|     M|          317| paid|Orlando-Kissimmee...|   PUT|      178|   307|1538378914000|\"Mozilla/5.0 (Mac...|   179|    0|\n",
                        "|Logged In|     M|           37| paid|Lexington-Fayette...|   PUT|      493|   200|1538380798000|\"Mozilla/5.0 (Win...|    51|    0|\n",
                        "|Logged In|     F|          119| free|New Philadelphia-...|   GET|       27|   200|1538384439000|Mozilla/5.0 (Wind...|    28|    0|\n",
                        "|Logged In|     F|           96| paid|Phoenix-Mesa-Scot...|   PUT|      492|   200|1538392357000|Mozilla/5.0 (Maci...|    95|    0|\n",
                        "|Logged In|     F|           33| free|Los Angeles-Long ...|   PUT|      518|   200|1538398204000|\"Mozilla/5.0 (Win...|    39|    0|\n",
                        "|Logged In|     F|            2| free|Boston-Cambridge-...|   GET|      441|   200|1538410573000|Mozilla/5.0 (Wind...|   274|    0|\n",
                        "|Logged In|     M|           16| free|Miami-Fort Lauder...|   PUT|      504|   307|1538412268000|Mozilla/5.0 (Wind...|   238|    0|\n",
                        "|Logged In|     M|           32| free|Houston-The Woodl...|   PUT|        5|   200|1538412857000|\"Mozilla/5.0 (Mac...|     6|    0|\n",
                        "|Logged In|     F|           10| free|San Antonio-New B...|   PUT|       39|   200|1538415104000|Mozilla/5.0 (Wind...|    40|    0|\n",
                        "|Logged In|     M|          135| paid|Grand Rapids-Wyom...|   PUT|      235|   200|1538415139000|\"Mozilla/5.0 (Win...|   236|    0|\n",
                        "|Logged In|     F|          103| free|San Francisco-Oak...|   PUT|      477|   200|1538421554000|\"Mozilla/5.0 (Mac...|   232|    0|\n",
                        "|Logged In|     M|           32| free|         Concord, NH|   PUT|       64|   200|1538422685000|Mozilla/5.0 (X11;...|    65|    0|\n",
                        "+---------+------+-------------+-----+--------------------+------+---------+------+-------------+--------------------+------+-----+\n",
                        "only showing top 20 rows\n",
                        "\n"
                    ]
                },
                {
                    "name": "stderr",
                    "output_type": "stream",
                    "text": [
                        "                                                                                \r"
                    ]
                }
            ],
            "source": [
                "df_cleaned.show()"
            ]
        },
        {
            "cell_type": "code",
            "execution_count": 20,
            "metadata": {},
            "outputs": [
                {
                    "data": {
                        "text/plain": [
                            "9037"
                        ]
                    },
                    "execution_count": 20,
                    "metadata": {},
                    "output_type": "execute_result"
                }
            ],
            "source": [
                "df_cleaned.filter(df_cleaned.Churn == 1).count()"
            ]
        },
        {
            "cell_type": "markdown",
            "metadata": {},
            "source": [
                "### 3.1 Check how userAgent and location relate to churn\n",
                "The histogram of number of user agents and locations are consistent between churn 1 and churn 0, which demonstrates that churn behavior is also unrelated to these two factors. So we drop these two columns as well. "
            ]
        },
        {
            "cell_type": "code",
            "execution_count": 104,
            "metadata": {},
            "outputs": [
                {
                    "name": "stderr",
                    "output_type": "stream",
                    "text": [
                        "                                                                                \r"
                    ]
                },
                {
                    "data": {
                        "text/html": [
                            "<div>\n",
                            "<style scoped>\n",
                            "    .dataframe tbody tr th:only-of-type {\n",
                            "        vertical-align: middle;\n",
                            "    }\n",
                            "\n",
                            "    .dataframe tbody tr th {\n",
                            "        vertical-align: top;\n",
                            "    }\n",
                            "\n",
                            "    .dataframe thead th {\n",
                            "        text-align: right;\n",
                            "    }\n",
                            "</style>\n",
                            "<table border=\"1\" class=\"dataframe\">\n",
                            "  <thead>\n",
                            "    <tr style=\"text-align: right;\">\n",
                            "      <th></th>\n",
                            "      <th>count_1</th>\n",
                            "      <th>count_0</th>\n",
                            "    </tr>\n",
                            "  </thead>\n",
                            "  <tbody>\n",
                            "    <tr>\n",
                            "      <th>0</th>\n",
                            "      <td>0.232915</td>\n",
                            "      <td>0.038064</td>\n",
                            "    </tr>\n",
                            "    <tr>\n",
                            "      <th>1</th>\n",
                            "      <td>0.008368</td>\n",
                            "      <td>0.077592</td>\n",
                            "    </tr>\n",
                            "    <tr>\n",
                            "      <th>2</th>\n",
                            "      <td>0.161785</td>\n",
                            "      <td>0.206202</td>\n",
                            "    </tr>\n",
                            "    <tr>\n",
                            "      <th>3</th>\n",
                            "      <td>0.104603</td>\n",
                            "      <td>0.039816</td>\n",
                            "    </tr>\n",
                            "    <tr>\n",
                            "      <th>4</th>\n",
                            "      <td>0.001395</td>\n",
                            "      <td>0.012688</td>\n",
                            "    </tr>\n",
                            "  </tbody>\n",
                            "</table>\n",
                            "</div>"
                        ],
                        "text/plain": [
                            "    count_1   count_0\n",
                            "0  0.232915  0.038064\n",
                            "1  0.008368  0.077592\n",
                            "2  0.161785  0.206202\n",
                            "3  0.104603  0.039816\n",
                            "4  0.001395  0.012688"
                        ]
                    },
                    "execution_count": 104,
                    "metadata": {},
                    "output_type": "execute_result"
                }
            ],
            "source": [
                "df_1 = df_cleaned.groupBy('Churn', 'userAgent').count().filter(df_cleaned.Churn == 1).toPandas().rename(columns={\"count\": \"count_1\"})\n",
                "df_0 = df_cleaned.groupBy('Churn', 'userAgent').count().filter(df_cleaned.Churn == 0).toPandas().rename(columns={\"count\": \"count_0\"})\n",
                "df_combined = pd.concat([df_1['count_1'], df_0['count_0']], axis = 1)\n",
                "df_combined['count_1'] = (df_combined['count_1'] - df_combined['count_1'].min()) / (df_combined['count_1'].max() - df_combined['count_1'].min())\n",
                "df_combined['count_0'] = (df_combined['count_0'] - df_combined['count_0'].min()) / (df_combined['count_0'].max() - df_combined['count_0'].min())\n",
                "df_combined.head()"
            ]
        },
        {
            "cell_type": "code",
            "execution_count": 105,
            "metadata": {},
            "outputs": [
                {
                    "data": {
                        "text/plain": [
                            "Text(0, 0.5, 'Frequency')"
                        ]
                    },
                    "execution_count": 105,
                    "metadata": {},
                    "output_type": "execute_result"
                },
                {
                    "data": {
                        "image/png": "[encoded data removed]",
                        "text/plain": [
                            "<Figure size 432x288 with 1 Axes>"
                        ]
                    },
                    "metadata": {
                        "needs_background": "light"
                    },
                    "output_type": "display_data"
                }
            ],
            "source": [
                "plt.hist(df_combined, color=['#A0E8AF', '#FFCF56'])\n",
                "plt.legend(['churn 1', 'churn 0'])\n",
                "plt.title('Histogram of User Agent')\n",
                "plt.xlabel('Scaled Number of User Agent')\n",
                "plt.ylabel('Frequency')"
            ]
        },
        {
            "cell_type": "code",
            "execution_count": 106,
            "metadata": {},
            "outputs": [
                {
                    "name": "stderr",
                    "output_type": "stream",
                    "text": [
                        "                                                                                \r"
                    ]
                },
                {
                    "data": {
                        "text/plain": [
                            "Text(0, 0.5, 'Frequency')"
                        ]
                    },
                    "execution_count": 106,
                    "metadata": {},
                    "output_type": "execute_result"
                },
                {
                    "data": {
                        "image/png": "[encoded data removed]",
                        "text/plain": [
                            "<Figure size 432x288 with 1 Axes>"
                        ]
                    },
                    "metadata": {
                        "needs_background": "light"
                    },
                    "output_type": "display_data"
                }
            ],
            "source": [
                "df_1 = df_cleaned.groupBy('Churn', 'location').count().filter(df_cleaned.Churn == 1).toPandas().rename(columns={\"count\": \"count_1\"})\n",
                "df_0 = df_cleaned.groupBy('Churn', 'location').count().filter(df_cleaned.Churn == 0).toPandas().rename(columns={\"count\": \"count_0\"})\n",
                "df_combined = pd.concat([df_1['count_1'], df_0['count_0']], axis = 1)\n",
                "df_combined['count_1'] = (df_combined['count_1'] - df_combined['count_1'].min()) / (df_combined['count_1'].max() - df_combined['count_1'].min())\n",
                "df_combined['count_0'] = (df_combined['count_0'] - df_combined['count_0'].min()) / (df_combined['count_0'].max() - df_combined['count_0'].min())\n",
                "\n",
                "plt.hist(df_combined, color=['#A0E8AF', '#FFCF56'])\n",
                "plt.legend(['churn 1', 'churn 0'])\n",
                "plt.title('Histogram of Location')\n",
                "plt.xlabel('Scaled Number of Location')\n",
                "plt.ylabel('Frequency')"
            ]
        },
        {
            "cell_type": "code",
            "execution_count": 107,
            "metadata": {},
            "outputs": [
                {
                    "name": "stderr",
                    "output_type": "stream",
                    "text": [
                        "[Stage 483:>                                                      (0 + 12) / 12]\r"
                    ]
                },
                {
                    "name": "stdout",
                    "output_type": "stream",
                    "text": [
                        "+---------+------+-------------+-----+------+---------+------+-------------+------+-----+\n",
                        "|     auth|gender|itemInSession|level|method|sessionId|status|           ts|userId|Churn|\n",
                        "+---------+------+-------------+-----+------+---------+------+-------------+------+-----+\n",
                        "|Logged In|     M|           17| free|   PUT|      485|   307|1538358281000|   273|    0|\n",
                        "|Logged In|     M|           32| free|   PUT|      497|   200|1538358545000|   100|    0|\n",
                        "|Logged In|     M|           27| free|   GET|      485|   200|1538359820000|   273|    0|\n",
                        "|Logged In|     M|           76| free|   PUT|      292|   200|1538362379000|   293|    0|\n",
                        "|Logged In|     F|           15| paid|   GET|      418|   200|1538366282000|   127|    1|\n",
                        "|Logged In|     M|           11| free|   PUT|      487|   200|1538368016000|   131|    0|\n",
                        "|Logged In|     M|           64| free|   PUT|      249|   200|1538375165000|   250|    0|\n",
                        "|Logged In|     M|           19| free|   PUT|      529|   200|1538376380000|   207|    0|\n",
                        "|Logged In|     M|          317| paid|   PUT|      178|   307|1538378914000|   179|    0|\n",
                        "|Logged In|     M|           37| paid|   PUT|      493|   200|1538380798000|    51|    0|\n",
                        "|Logged In|     F|          119| free|   GET|       27|   200|1538384439000|    28|    0|\n",
                        "|Logged In|     F|           96| paid|   PUT|      492|   200|1538392357000|    95|    0|\n",
                        "|Logged In|     F|           33| free|   PUT|      518|   200|1538398204000|    39|    0|\n",
                        "|Logged In|     F|            2| free|   GET|      441|   200|1538410573000|   274|    0|\n",
                        "|Logged In|     M|           16| free|   PUT|      504|   307|1538412268000|   238|    0|\n",
                        "|Logged In|     M|           32| free|   PUT|        5|   200|1538412857000|     6|    0|\n",
                        "|Logged In|     F|           10| free|   PUT|       39|   200|1538415104000|    40|    0|\n",
                        "|Logged In|     M|          135| paid|   PUT|      235|   200|1538415139000|   236|    0|\n",
                        "|Logged In|     F|          103| free|   PUT|      477|   200|1538421554000|   232|    0|\n",
                        "|Logged In|     M|           32| free|   PUT|       64|   200|1538422685000|    65|    0|\n",
                        "+---------+------+-------------+-----+------+---------+------+-------------+------+-----+\n",
                        "only showing top 20 rows\n",
                        "\n"
                    ]
                },
                {
                    "name": "stderr",
                    "output_type": "stream",
                    "text": [
                        "                                                                                \r"
                    ]
                }
            ],
            "source": [
                "# Drop unused columns\n",
                "df_cleaned = df_cleaned.drop('location', 'userAgent')\n",
                "df_cleaned.show()"
            ]
        },
        {
            "cell_type": "markdown",
            "metadata": {},
            "source": [
                "### 3.2 Process date time"
            ]
        },
        {
            "cell_type": "code",
            "execution_count": 108,
            "metadata": {},
            "outputs": [
                {
                    "name": "stderr",
                    "output_type": "stream",
                    "text": [
                        "[Stage 486:====>                                                  (1 + 11) / 12]\r"
                    ]
                },
                {
                    "name": "stdout",
                    "output_type": "stream",
                    "text": [
                        "+---------+------+-------------+-----+------+---------+------+-------------+------+-----+------------+--------+\n",
                        "|     auth|gender|itemInSession|level|method|sessionId|status|           ts|userId|Churn|        date|    time|\n",
                        "+---------+------+-------------+-----+------+---------+------+-------------+------+-----+------------+--------+\n",
                        "|Logged In|     M|           17| free|   PUT|      485|   307|1538358281000|   273|    0|+50718-08-20|12:43:20|\n",
                        "|Logged In|     M|           32| free|   PUT|      497|   200|1538358545000|   100|    0|+50718-08-23|14:03:20|\n",
                        "|Logged In|     M|           27| free|   GET|      485|   200|1538359820000|   273|    0|+50718-09-07|08:13:20|\n",
                        "|Logged In|     M|           76| free|   PUT|      292|   200|1538362379000|   293|    0|+50718-10-06|23:03:20|\n",
                        "|Logged In|     F|           15| paid|   GET|      418|   200|1538366282000|   127|    1|+50718-11-21|02:13:20|\n",
                        "|Logged In|     M|           11| free|   PUT|      487|   200|1538368016000|   131|    0|+50718-12-11|03:53:20|\n",
                        "|Logged In|     M|           64| free|   PUT|      249|   200|1538375165000|   250|    0|+50719-03-03|21:43:20|\n",
                        "|Logged In|     M|           19| free|   PUT|      529|   200|1538376380000|   207|    0|+50719-03-18|00:13:20|\n",
                        "|Logged In|     M|          317| paid|   PUT|      178|   307|1538378914000|   179|    0|+50719-04-16|08:06:40|\n",
                        "|Logged In|     M|           37| paid|   PUT|      493|   200|1538380798000|    51|    0|+50719-05-08|03:26:40|\n",
                        "|Logged In|     F|          119| free|   GET|       27|   200|1538384439000|    28|    0|+50719-06-19|06:50:00|\n",
                        "|Logged In|     F|           96| paid|   PUT|      492|   200|1538392357000|    95|    0|+50719-09-18|22:16:40|\n",
                        "|Logged In|     F|           33| free|   PUT|      518|   200|1538398204000|    39|    0|+50719-11-25|13:26:40|\n",
                        "|Logged In|     F|            2| free|   GET|      441|   200|1538410573000|   274|    0|+50720-04-16|18:16:40|\n",
                        "|Logged In|     M|           16| free|   PUT|      504|   307|1538412268000|   238|    0|+50720-05-06|09:06:40|\n",
                        "|Logged In|     M|           32| free|   PUT|        5|   200|1538412857000|     6|    0|+50720-05-13|04:43:20|\n",
                        "|Logged In|     F|           10| free|   PUT|       39|   200|1538415104000|    40|    0|+50720-06-08|04:53:20|\n",
                        "|Logged In|     M|          135| paid|   PUT|      235|   200|1538415139000|   236|    0|+50720-06-08|14:36:40|\n",
                        "|Logged In|     F|          103| free|   PUT|      477|   200|1538421554000|   232|    0|+50720-08-21|20:33:20|\n",
                        "|Logged In|     M|           32| free|   PUT|       64|   200|1538422685000|    65|    0|+50720-09-03|22:43:20|\n",
                        "+---------+------+-------------+-----+------+---------+------+-------------+------+-----+------------+--------+\n",
                        "only showing top 20 rows\n",
                        "\n"
                    ]
                },
                {
                    "name": "stderr",
                    "output_type": "stream",
                    "text": [
                        "                                                                                \r"
                    ]
                }
            ],
            "source": [
                "df_cleaned = df_cleaned.withColumn('date' ,from_unixtime(col('ts'), 'yyyy-MM-dd'))\n",
                "df_cleaned = df_cleaned.withColumn('time', from_unixtime(col('ts'), \"HH:mm:ss\"))\n",
                "df_cleaned.show()"
            ]
        },
        {
            "cell_type": "code",
            "execution_count": 109,
            "metadata": {},
            "outputs": [
                {
                    "name": "stderr",
                    "output_type": "stream",
                    "text": [
                        "[Stage 489:====>                                                  (1 + 11) / 12]\r"
                    ]
                },
                {
                    "name": "stdout",
                    "output_type": "stream",
                    "text": [
                        "+---------+------+-------------+-----+------+---------+------+-------------+------+-----+-----+\n",
                        "|     auth|gender|itemInSession|level|method|sessionId|status|           ts|userId|Churn|hours|\n",
                        "+---------+------+-------------+-----+------+---------+------+-------------+------+-----+-----+\n",
                        "|Logged In|     M|           17| free|   PUT|      485|   307|1538358281000|   273|    0|   12|\n",
                        "|Logged In|     M|           32| free|   PUT|      497|   200|1538358545000|   100|    0|   14|\n",
                        "|Logged In|     M|           27| free|   GET|      485|   200|1538359820000|   273|    0|   08|\n",
                        "|Logged In|     M|           76| free|   PUT|      292|   200|1538362379000|   293|    0|   23|\n",
                        "|Logged In|     F|           15| paid|   GET|      418|   200|1538366282000|   127|    1|   02|\n",
                        "|Logged In|     M|           11| free|   PUT|      487|   200|1538368016000|   131|    0|   03|\n",
                        "|Logged In|     M|           64| free|   PUT|      249|   200|1538375165000|   250|    0|   21|\n",
                        "|Logged In|     M|           19| free|   PUT|      529|   200|1538376380000|   207|    0|   00|\n",
                        "|Logged In|     M|          317| paid|   PUT|      178|   307|1538378914000|   179|    0|   08|\n",
                        "|Logged In|     M|           37| paid|   PUT|      493|   200|1538380798000|    51|    0|   03|\n",
                        "|Logged In|     F|          119| free|   GET|       27|   200|1538384439000|    28|    0|   06|\n",
                        "|Logged In|     F|           96| paid|   PUT|      492|   200|1538392357000|    95|    0|   22|\n",
                        "|Logged In|     F|           33| free|   PUT|      518|   200|1538398204000|    39|    0|   13|\n",
                        "|Logged In|     F|            2| free|   GET|      441|   200|1538410573000|   274|    0|   18|\n",
                        "|Logged In|     M|           16| free|   PUT|      504|   307|1538412268000|   238|    0|   09|\n",
                        "|Logged In|     M|           32| free|   PUT|        5|   200|1538412857000|     6|    0|   04|\n",
                        "|Logged In|     F|           10| free|   PUT|       39|   200|1538415104000|    40|    0|   04|\n",
                        "|Logged In|     M|          135| paid|   PUT|      235|   200|1538415139000|   236|    0|   14|\n",
                        "|Logged In|     F|          103| free|   PUT|      477|   200|1538421554000|   232|    0|   20|\n",
                        "|Logged In|     M|           32| free|   PUT|       64|   200|1538422685000|    65|    0|   22|\n",
                        "+---------+------+-------------+-----+------+---------+------+-------------+------+-----+-----+\n",
                        "only showing top 20 rows\n",
                        "\n"
                    ]
                },
                {
                    "name": "stderr",
                    "output_type": "stream",
                    "text": [
                        "                                                                                \r"
                    ]
                }
            ],
            "source": [
                "# It is meaningful to study churn behavior by day of week, but we cannot get correct date format based on timestamp in the ts column, so we don't use date in this project\n",
                "# It might be useful to study hourly churn behavior but not on minute or second basis\n",
                "df_cleaned = df_cleaned.withColumn('hours', split(df_cleaned['time'], ':').getItem(0))\n",
                "\n",
                "# Drop the columns not to use\n",
                "df_cleaned = df_cleaned.drop('date', 'time')\n",
                "df_cleaned.show()"
            ]
        },
        {
            "cell_type": "code",
            "execution_count": 126,
            "metadata": {},
            "outputs": [
                {
                    "name": "stderr",
                    "output_type": "stream",
                    "text": [
                        "/Volumes/work/Course Lecture/Udacity/DataScientistNanodegree/.venv/lib/python3.9/site-packages/pyspark/pandas/utils.py:975: PandasAPIOnSparkAdviceWarning: `to_pandas` loads all data into the driver's memory. It should only be used if the resulting pandas DataFrame is expected to be small.\n",
                        "  warnings.warn(message, PandasAPIOnSparkAdviceWarning)\n",
                        "                                                                                \r"
                    ]
                },
                {
                    "data": {
                        "text/plain": [
                            "<AxesSubplot:xlabel='auth', ylabel='Churn'>"
                        ]
                    },
                    "execution_count": 126,
                    "metadata": {},
                    "output_type": "execute_result"
                },
                {
                    "data": {
                        "image/png": "[encoded data removed]",
                        "text/plain": [
                            "<Figure size 432x288 with 1 Axes>"
                        ]
                    },
                    "metadata": {
                        "needs_background": "light"
                    },
                    "output_type": "display_data"
                }
            ],
            "source": [
                "df_cleaned_df = ps.DataFrame(df_cleaned).to_pandas()\n",
                "sns.violinplot(x = 'auth', y = 'Churn', data = df_cleaned_df)"
            ]
        },
        {
            "cell_type": "markdown",
            "metadata": {},
            "source": [
                "### 3.3 Process categorical variables"
            ]
        },
        {
            "cell_type": "code",
            "execution_count": 51,
            "metadata": {},
            "outputs": [
                {
                    "name": "stderr",
                    "output_type": "stream",
                    "text": [
                        "[Stage 149:====>                                                  (1 + 11) / 12]\r"
                    ]
                },
                {
                    "name": "stdout",
                    "output_type": "stream",
                    "text": [
                        "+---------+-------------+---------+------+------+-----+-----+----------+---------+----------+\n",
                        "|     auth|itemInSession|sessionId|status|userId|Churn|hours|gender_num|level_num|method_num|\n",
                        "+---------+-------------+---------+------+------+-----+-----+----------+---------+----------+\n",
                        "|Logged In|           17|      485|   307|   273|    0|   12|         1|        0|         1|\n",
                        "|Logged In|           32|      497|   200|   100|    0|   14|         1|        0|         1|\n",
                        "|Logged In|           27|      485|   200|   273|    0|   08|         1|        0|         0|\n",
                        "|Logged In|           76|      292|   200|   293|    0|   23|         1|        0|         1|\n",
                        "|Logged In|           15|      418|   200|   127|    1|   02|         0|        1|         0|\n",
                        "|Logged In|           11|      487|   200|   131|    0|   03|         1|        0|         1|\n",
                        "|Logged In|           64|      249|   200|   250|    0|   21|         1|        0|         1|\n",
                        "|Logged In|           19|      529|   200|   207|    0|   00|         1|        0|         1|\n",
                        "|Logged In|          317|      178|   307|   179|    0|   08|         1|        1|         1|\n",
                        "|Logged In|           37|      493|   200|    51|    0|   03|         1|        1|         1|\n",
                        "|Logged In|          119|       27|   200|    28|    0|   06|         0|        0|         0|\n",
                        "|Logged In|           96|      492|   200|    95|    0|   22|         0|        1|         1|\n",
                        "|Logged In|           33|      518|   200|    39|    0|   13|         0|        0|         1|\n",
                        "|Logged In|            2|      441|   200|   274|    0|   18|         0|        0|         0|\n",
                        "|Logged In|           16|      504|   307|   238|    0|   09|         1|        0|         1|\n",
                        "|Logged In|           32|        5|   200|     6|    0|   04|         1|        0|         1|\n",
                        "|Logged In|           10|       39|   200|    40|    0|   04|         0|        0|         1|\n",
                        "|Logged In|          135|      235|   200|   236|    0|   14|         1|        1|         1|\n",
                        "|Logged In|          103|      477|   200|   232|    0|   20|         0|        0|         1|\n",
                        "|Logged In|           32|       64|   200|    65|    0|   22|         1|        0|         1|\n",
                        "+---------+-------------+---------+------+------+-----+-----+----------+---------+----------+\n",
                        "only showing top 20 rows\n",
                        "\n"
                    ]
                },
                {
                    "name": "stderr",
                    "output_type": "stream",
                    "text": [
                        "                                                                                \r"
                    ]
                }
            ],
            "source": [
                "df_cleaned = df_cleaned.withColumn('gender_num', when(df_cleaned.gender == 'M', 1).otherwise(0)).drop('gender')\n",
                "df_cleaned = df_cleaned.withColumn('level_num', when(df_cleaned.level == 'paid', 1).otherwise(0)).drop('level')\n",
                "df_cleaned = df_cleaned.withColumn('method_num', when(df_cleaned.method == 'PUT', 1).otherwise(0)).drop('method', 'ts')"
            ]
        },
        {
            "cell_type": "code",
            "execution_count": 68,
            "metadata": {},
            "outputs": [
                {
                    "name": "stderr",
                    "output_type": "stream",
                    "text": [
                        "[Stage 215:====>                                                  (1 + 11) / 12]\r"
                    ]
                },
                {
                    "name": "stdout",
                    "output_type": "stream",
                    "text": [
                        "+-------------+---------+------+------+-----+-----+----------+---------+----------+--------+\n",
                        "|itemInSession|sessionId|status|userId|Churn|hours|gender_num|level_num|method_num|auth_num|\n",
                        "+-------------+---------+------+------+-----+-----+----------+---------+----------+--------+\n",
                        "|           17|      485|   307|   273|    0|   12|         1|        0|         1|       0|\n",
                        "|           32|      497|   200|   100|    0|   14|         1|        0|         1|       0|\n",
                        "|           27|      485|   200|   273|    0|   08|         1|        0|         0|       0|\n",
                        "|           76|      292|   200|   293|    0|   23|         1|        0|         1|       0|\n",
                        "|           15|      418|   200|   127|    1|   02|         0|        1|         0|       0|\n",
                        "|           11|      487|   200|   131|    0|   03|         1|        0|         1|       0|\n",
                        "|           64|      249|   200|   250|    0|   21|         1|        0|         1|       0|\n",
                        "|           19|      529|   200|   207|    0|   00|         1|        0|         1|       0|\n",
                        "|          317|      178|   307|   179|    0|   08|         1|        1|         1|       0|\n",
                        "|           37|      493|   200|    51|    0|   03|         1|        1|         1|       0|\n",
                        "|          119|       27|   200|    28|    0|   06|         0|        0|         0|       0|\n",
                        "|           96|      492|   200|    95|    0|   22|         0|        1|         1|       0|\n",
                        "|           33|      518|   200|    39|    0|   13|         0|        0|         1|       0|\n",
                        "|            2|      441|   200|   274|    0|   18|         0|        0|         0|       0|\n",
                        "|           16|      504|   307|   238|    0|   09|         1|        0|         1|       0|\n",
                        "|           32|        5|   200|     6|    0|   04|         1|        0|         1|       0|\n",
                        "|           10|       39|   200|    40|    0|   04|         0|        0|         1|       0|\n",
                        "|          135|      235|   200|   236|    0|   14|         1|        1|         1|       0|\n",
                        "|          103|      477|   200|   232|    0|   20|         0|        0|         1|       0|\n",
                        "|           32|       64|   200|    65|    0|   22|         1|        0|         1|       0|\n",
                        "+-------------+---------+------+------+-----+-----+----------+---------+----------+--------+\n",
                        "only showing top 20 rows\n",
                        "\n"
                    ]
                },
                {
                    "name": "stderr",
                    "output_type": "stream",
                    "text": [
                        "                                                                                \r"
                    ]
                }
            ],
            "source": [
                "df_cleaned = df_cleaned.withColumn('auth_num', when(df_cleaned.auth == 'Cancelled', 1).otherwise(0)).drop('auth')\n",
                "df_cleaned.show()"
            ]
        },
        {
            "cell_type": "code",
            "execution_count": 98,
            "metadata": {},
            "outputs": [
                {
                    "name": "stderr",
                    "output_type": "stream",
                    "text": [
                        "                                                                                \r"
                    ]
                },
                {
                    "data": {
                        "text/html": [
                            "<div>\n",
                            "<style scoped>\n",
                            "    .dataframe tbody tr th:only-of-type {\n",
                            "        vertical-align: middle;\n",
                            "    }\n",
                            "\n",
                            "    .dataframe tbody tr th {\n",
                            "        vertical-align: top;\n",
                            "    }\n",
                            "\n",
                            "    .dataframe thead th {\n",
                            "        text-align: right;\n",
                            "    }\n",
                            "</style>\n",
                            "<table border=\"1\" class=\"dataframe\">\n",
                            "  <thead>\n",
                            "    <tr style=\"text-align: right;\">\n",
                            "      <th></th>\n",
                            "      <th>itemInSession</th>\n",
                            "      <th>sessionId</th>\n",
                            "      <th>status</th>\n",
                            "      <th>userId</th>\n",
                            "      <th>Churn</th>\n",
                            "      <th>hours</th>\n",
                            "      <th>gender_num</th>\n",
                            "      <th>level_num</th>\n",
                            "      <th>method_num</th>\n",
                            "      <th>auth_num</th>\n",
                            "    </tr>\n",
                            "  </thead>\n",
                            "  <tbody>\n",
                            "    <tr>\n",
                            "      <th>0</th>\n",
                            "      <td>17</td>\n",
                            "      <td>485</td>\n",
                            "      <td>307</td>\n",
                            "      <td>273</td>\n",
                            "      <td>0</td>\n",
                            "      <td>12</td>\n",
                            "      <td>1</td>\n",
                            "      <td>0</td>\n",
                            "      <td>1</td>\n",
                            "      <td>0</td>\n",
                            "    </tr>\n",
                            "    <tr>\n",
                            "      <th>1</th>\n",
                            "      <td>32</td>\n",
                            "      <td>497</td>\n",
                            "      <td>200</td>\n",
                            "      <td>100</td>\n",
                            "      <td>0</td>\n",
                            "      <td>14</td>\n",
                            "      <td>1</td>\n",
                            "      <td>0</td>\n",
                            "      <td>1</td>\n",
                            "      <td>0</td>\n",
                            "    </tr>\n",
                            "    <tr>\n",
                            "      <th>2</th>\n",
                            "      <td>27</td>\n",
                            "      <td>485</td>\n",
                            "      <td>200</td>\n",
                            "      <td>273</td>\n",
                            "      <td>0</td>\n",
                            "      <td>08</td>\n",
                            "      <td>1</td>\n",
                            "      <td>0</td>\n",
                            "      <td>0</td>\n",
                            "      <td>0</td>\n",
                            "    </tr>\n",
                            "    <tr>\n",
                            "      <th>3</th>\n",
                            "      <td>76</td>\n",
                            "      <td>292</td>\n",
                            "      <td>200</td>\n",
                            "      <td>293</td>\n",
                            "      <td>0</td>\n",
                            "      <td>23</td>\n",
                            "      <td>1</td>\n",
                            "      <td>0</td>\n",
                            "      <td>1</td>\n",
                            "      <td>0</td>\n",
                            "    </tr>\n",
                            "    <tr>\n",
                            "      <th>4</th>\n",
                            "      <td>15</td>\n",
                            "      <td>418</td>\n",
                            "      <td>200</td>\n",
                            "      <td>127</td>\n",
                            "      <td>1</td>\n",
                            "      <td>02</td>\n",
                            "      <td>0</td>\n",
                            "      <td>1</td>\n",
                            "      <td>0</td>\n",
                            "      <td>0</td>\n",
                            "    </tr>\n",
                            "  </tbody>\n",
                            "</table>\n",
                            "</div>"
                        ],
                        "text/plain": [
                            "   itemInSession  sessionId  status userId  Churn hours  gender_num  level_num  method_num  auth_num\n",
                            "0             17        485     307    273      0    12           1          0           1         0\n",
                            "1             32        497     200    100      0    14           1          0           1         0\n",
                            "2             27        485     200    273      0    08           1          0           0         0\n",
                            "3             76        292     200    293      0    23           1          0           1         0\n",
                            "4             15        418     200    127      1    02           0          1           0         0"
                        ]
                    },
                    "execution_count": 98,
                    "metadata": {},
                    "output_type": "execute_result"
                }
            ],
            "source": [
                "df_cleaned_ps = ps.DataFrame(df_cleaned)\n",
                "df_cleaned_ps.head()"
            ]
        },
        {
            "cell_type": "code",
            "execution_count": 99,
            "metadata": {},
            "outputs": [
                {
                    "name": "stderr",
                    "output_type": "stream",
                    "text": [
                        "/Volumes/work/Course Lecture/Udacity/DataScientistNanodegree/.venv/lib/python3.9/site-packages/pyspark/pandas/utils.py:975: PandasAPIOnSparkAdviceWarning: `to_pandas` loads all data into the driver's memory. It should only be used if the resulting pandas DataFrame is expected to be small.\n",
                        "  warnings.warn(message, PandasAPIOnSparkAdviceWarning)\n"
                    ]
                },
                {
                    "data": {
                        "text/plain": [
                            "<AxesSubplot:>"
                        ]
                    },
                    "execution_count": 99,
                    "metadata": {},
                    "output_type": "execute_result"
                },
                {
                    "data": {
                        "image/png": "[encoded data removed]",
                        "text/plain": [
                            "<Figure size 432x288 with 2 Axes>"
                        ]
                    },
                    "metadata": {
                        "needs_background": "light"
                    },
                    "output_type": "display_data"
                }
            ],
            "source": [
                "data_corr = df_cleaned_ps.corr().to_pandas()\n",
                "sns.heatmap(data_corr, cmap=\"YlGnBu\", annot=True, xticklabels=True)"
            ]
        },
        {
            "cell_type": "code",
            "execution_count": null,
            "metadata": {},
            "outputs": [],
            "source": []
        }
    ],
    "metadata": {
        "kernelspec": {
            "display_name": "Python 3.9.12 ('.venv': venv)",
            "language": "python",
            "name": "python3"
        },
        "language_info": {
            "codemirror_mode": {
                "name": "ipython",
                "version": 3
            },
            "file_extension": ".py",
            "mimetype": "text/x-python",
            "name": "python",
            "nbconvert_exporter": "python",
            "pygments_lexer": "ipython3",
            "version": "3.9.12"
        },
        "vscode": {
            "interpreter": {
                "hash": "8d1ef3b3d21a8f5d62fec297b2de45fe0670853a5f20151ae07585d912ea79d8"
            }
        }
    },
    "nbformat": 4,
    "nbformat_minor": 1
}
