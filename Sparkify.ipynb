{
    "cells": [
        {
            "metadata": {},
            "cell_type": "code",
            "source": "\nimport ibmos2spark, os\n# @hidden_cell\ncredentials = {\n    'endpoint': 'https://s3.private.us.cloud-object-storage.appdomain.cloud',\n    'service_id': 'iam-ServiceId-b314834d-5443-4359-8efa-88fb1ca94789',\n    'iam_service_endpoint': 'https://iam.cloud.ibm.com/oidc/token',\n    'api_key': 'NfS0KqvIB-QZO6PoO6p1UYPdzthvM2t3mOeNGUatbbnC'\n}\n\nconfiguration_name = 'os_c4ce378e6d4243b4bee4d7f946ea0bff_configs'\ncos = ibmos2spark.CloudObjectStorage(sc, credentials, configuration_name, 'bluemix_cos')\n\nfrom pyspark.sql import SparkSession\nspark = SparkSession.builder.getOrCreate()\n# Since JSON data can be semi-structured and contain additional metadata, it is possible that you might face issues with the DataFrame layout.\n# Please read the documentation of 'SparkSession.read()' to learn more about the possibilities to adjust the data loading.\n# PySpark documentation: http://spark.apache.org/docs/2.0.2/api/python/pyspark.sql.html#pyspark.sql.DataFrameReader.json\n\ndf_data_1 = spark.read.json(cos.url('medium-sparkify-event-data.json', 'sparkify-donotdelete-pr-crgpbxoft3rjye'))\ndf_data_1.take(5)\n",
            "execution_count": null,
            "outputs": []
        },
        {
            "metadata": {},
            "cell_type": "code",
            "source": "print((df_data_1.count(), len(df_data_1.columns)))",
            "execution_count": 6,
            "outputs": [
                {
                    "output_type": "stream",
                    "text": "(543705, 18)\n",
                    "name": "stdout"
                }
            ]
        },
        {
            "metadata": {},
            "cell_type": "code",
            "source": "",
            "execution_count": null,
            "outputs": []
        }
    ],
    "metadata": {
        "kernelspec": {
            "name": "python39",
            "display_name": "Python 3.9 with Spark",
            "language": "python3"
        },
        "language_info": {
            "name": "python",
            "version": "3.9.7",
            "mimetype": "text/x-python",
            "codemirror_mode": {
                "name": "ipython",
                "version": 3
            },
            "pygments_lexer": "ipython3",
            "nbconvert_exporter": "python",
            "file_extension": ".py"
        }
    },
    "nbformat": 4,
    "nbformat_minor": 1
}