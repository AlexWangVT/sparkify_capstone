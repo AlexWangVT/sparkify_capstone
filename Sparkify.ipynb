{
    "cells": [
        {
            "cell_type": "markdown",
            "metadata": {},
            "source": [
                "# Load raw dataset\n",
                "A medium-sized dataset is provided (rather than 12 GB full dataset as is in AWS) for data wrangling in the spark cluster of IBM Watson Studio. \n"
            ]
        },
        {
            "cell_type": "code",
            "execution_count": 1,
            "metadata": {},
            "outputs": [
                {
                    "ename": "NameError",
                    "evalue": "name 'sc' is not defined",
                    "output_type": "error",
                    "traceback": [
                        "\u001b[0;31m---------------------------------------------------------------------------\u001b[0m",
                        "\u001b[0;31mNameError\u001b[0m                                 Traceback (most recent call last)",
                        "\u001b[1;32m/Volumes/work/Course Lecture/Udacity/DataScientistNanodegree/projects/capstone/Sparkify/Sparkify.ipynb Cell 2\u001b[0m in \u001b[0;36m<cell line: 13>\u001b[0;34m()\u001b[0m\n\u001b[1;32m      <a href='vscode-notebook-cell:/Volumes/work/Course%20Lecture/Udacity/DataScientistNanodegree/projects/capstone/Sparkify/Sparkify.ipynb#W1sZmlsZQ%3D%3D?line=4'>5</a>\u001b[0m credentials \u001b[39m=\u001b[39m {\n\u001b[1;32m      <a href='vscode-notebook-cell:/Volumes/work/Course%20Lecture/Udacity/DataScientistNanodegree/projects/capstone/Sparkify/Sparkify.ipynb#W1sZmlsZQ%3D%3D?line=5'>6</a>\u001b[0m     \u001b[39m'\u001b[39m\u001b[39mendpoint\u001b[39m\u001b[39m'\u001b[39m: \u001b[39m'\u001b[39m\u001b[39mhttps://s3.private.us.cloud-object-storage.appdomain.cloud\u001b[39m\u001b[39m'\u001b[39m,\n\u001b[1;32m      <a href='vscode-notebook-cell:/Volumes/work/Course%20Lecture/Udacity/DataScientistNanodegree/projects/capstone/Sparkify/Sparkify.ipynb#W1sZmlsZQ%3D%3D?line=6'>7</a>\u001b[0m     \u001b[39m'\u001b[39m\u001b[39mservice_id\u001b[39m\u001b[39m'\u001b[39m: \u001b[39m'\u001b[39m\u001b[39miam-ServiceId-b314834d-5443-4359-8efa-88fb1ca94789\u001b[39m\u001b[39m'\u001b[39m,\n\u001b[1;32m      <a href='vscode-notebook-cell:/Volumes/work/Course%20Lecture/Udacity/DataScientistNanodegree/projects/capstone/Sparkify/Sparkify.ipynb#W1sZmlsZQ%3D%3D?line=7'>8</a>\u001b[0m     \u001b[39m'\u001b[39m\u001b[39miam_service_endpoint\u001b[39m\u001b[39m'\u001b[39m: \u001b[39m'\u001b[39m\u001b[39mhttps://iam.cloud.ibm.com/oidc/token\u001b[39m\u001b[39m'\u001b[39m,\n\u001b[1;32m      <a href='vscode-notebook-cell:/Volumes/work/Course%20Lecture/Udacity/DataScientistNanodegree/projects/capstone/Sparkify/Sparkify.ipynb#W1sZmlsZQ%3D%3D?line=8'>9</a>\u001b[0m     \u001b[39m'\u001b[39m\u001b[39mapi_key\u001b[39m\u001b[39m'\u001b[39m: \u001b[39m'\u001b[39m\u001b[39mNfS0KqvIB-QZO6PoO6p1UYPdzthvM2t3mOeNGUatbbnC\u001b[39m\u001b[39m'\u001b[39m\n\u001b[1;32m     <a href='vscode-notebook-cell:/Volumes/work/Course%20Lecture/Udacity/DataScientistNanodegree/projects/capstone/Sparkify/Sparkify.ipynb#W1sZmlsZQ%3D%3D?line=9'>10</a>\u001b[0m }\n\u001b[1;32m     <a href='vscode-notebook-cell:/Volumes/work/Course%20Lecture/Udacity/DataScientistNanodegree/projects/capstone/Sparkify/Sparkify.ipynb#W1sZmlsZQ%3D%3D?line=11'>12</a>\u001b[0m configuration_name \u001b[39m=\u001b[39m \u001b[39m'\u001b[39m\u001b[39mos_c4ce378e6d4243b4bee4d7f946ea0bff_configs\u001b[39m\u001b[39m'\u001b[39m\n\u001b[0;32m---> <a href='vscode-notebook-cell:/Volumes/work/Course%20Lecture/Udacity/DataScientistNanodegree/projects/capstone/Sparkify/Sparkify.ipynb#W1sZmlsZQ%3D%3D?line=12'>13</a>\u001b[0m cos \u001b[39m=\u001b[39m ibmos2spark\u001b[39m.\u001b[39mCloudObjectStorage(sc, credentials, configuration_name, \u001b[39m'\u001b[39m\u001b[39mbluemix_cos\u001b[39m\u001b[39m'\u001b[39m)\n\u001b[1;32m     <a href='vscode-notebook-cell:/Volumes/work/Course%20Lecture/Udacity/DataScientistNanodegree/projects/capstone/Sparkify/Sparkify.ipynb#W1sZmlsZQ%3D%3D?line=14'>15</a>\u001b[0m \u001b[39mfrom\u001b[39;00m \u001b[39mpyspark\u001b[39;00m\u001b[39m.\u001b[39;00m\u001b[39msql\u001b[39;00m \u001b[39mimport\u001b[39;00m SparkSession\n\u001b[1;32m     <a href='vscode-notebook-cell:/Volumes/work/Course%20Lecture/Udacity/DataScientistNanodegree/projects/capstone/Sparkify/Sparkify.ipynb#W1sZmlsZQ%3D%3D?line=15'>16</a>\u001b[0m spark \u001b[39m=\u001b[39m SparkSession\u001b[39m.\u001b[39mbuilder\u001b[39m.\u001b[39mgetOrCreate()\n",
                        "\u001b[0;31mNameError\u001b[0m: name 'sc' is not defined"
                    ]
                }
            ],
            "source": [
                "# Load raw data to spark\n",
                "\n",
                "import ibmos2spark, os\n",
                "# @hidden_cell\n",
                "credentials = {\n",
                "    'endpoint': 'https://s3.private.us.cloud-object-storage.appdomain.cloud',\n",
                "    'service_id': 'iam-ServiceId-b314834d-5443-4359-8efa-88fb1ca94789',\n",
                "    'iam_service_endpoint': 'https://iam.cloud.ibm.com/oidc/token',\n",
                "    'api_key': 'NfS0KqvIB-QZO6PoO6p1UYPdzthvM2t3mOeNGUatbbnC'\n",
                "}\n",
                "\n",
                "configuration_name = 'os_c4ce378e6d4243b4bee4d7f946ea0bff_configs'\n",
                "cos = ibmos2spark.CloudObjectStorage(sc, credentials, configuration_name, 'bluemix_cos')\n",
                "\n",
                "from pyspark.sql import SparkSession\n",
                "spark = SparkSession.builder.getOrCreate()\n",
                "# Since JSON data can be semi-structured and contain additional metadata, it is possible that you might face issues with the DataFrame layout.\n",
                "# Please read the documentation of 'SparkSession.read()' to learn more about the possibilities to adjust the data loading.\n",
                "# PySpark documentation: http://spark.apache.org/docs/2.0.2/api/python/pyspark.sql.html#pyspark.sql.DataFrameReader.json\n",
                "\n",
                "df_data_1 = spark.read.json(cos.url('medium-sparkify-event-data.json', 'sparkify-donotdelete-pr-crgpbxoft3rjye'))\n",
                "df_data_1.take(5)"
            ]
        },
        {
            "cell_type": "code",
            "execution_count": 2,
            "metadata": {},
            "outputs": [
                {
                    "name": "stdout",
                    "output_type": "stream",
                    "text": [
                        "22/08/09 09:25:11 WARN Utils: Your hostname, MacBook-Pro.local resolves to a loopback address: 127.0.0.1; using 192.168.1.23 instead (on interface en0)\n",
                        "22/08/09 09:25:11 WARN Utils: Set SPARK_LOCAL_IP if you need to bind to another address\n"
                    ]
                },
                {
                    "name": "stderr",
                    "output_type": "stream",
                    "text": [
                        "Setting default log level to \"WARN\".\n",
                        "To adjust logging level use sc.setLogLevel(newLevel). For SparkR, use setLogLevel(newLevel).\n"
                    ]
                },
                {
                    "name": "stdout",
                    "output_type": "stream",
                    "text": [
                        "22/08/09 09:25:12 WARN NativeCodeLoader: Unable to load native-hadoop library for your platform... using builtin-java classes where applicable\n"
                    ]
                },
                {
                    "name": "stderr",
                    "output_type": "stream",
                    "text": [
                        "                                                                                \r"
                    ]
                },
                {
                    "data": {
                        "text/plain": [
                            "[Row(artist='Martin Orford', auth='Logged In', firstName='Joseph', gender='M', itemInSession=20, lastName='Morales', length=597.55057, level='free', location='Corpus Christi, TX', method='PUT', page='NextSong', registration=1532063507000, sessionId=292, song='Grand Designs', status=200, ts=1538352011000, userAgent='\"Mozilla/5.0 (Macintosh; Intel Mac OS X 10_9_4) AppleWebKit/537.36 (KHTML, like Gecko) Chrome/36.0.1985.125 Safari/537.36\"', userId='293'),\n",
                            " Row(artist=\"John Brown's Body\", auth='Logged In', firstName='Sawyer', gender='M', itemInSession=74, lastName='Larson', length=380.21179, level='free', location='Houston-The Woodlands-Sugar Land, TX', method='PUT', page='NextSong', registration=1538069638000, sessionId=97, song='Bulls', status=200, ts=1538352025000, userAgent='\"Mozilla/5.0 (Macintosh; Intel Mac OS X 10_9_4) AppleWebKit/537.36 (KHTML, like Gecko) Chrome/36.0.1985.143 Safari/537.36\"', userId='98'),\n",
                            " Row(artist='Afroman', auth='Logged In', firstName='Maverick', gender='M', itemInSession=184, lastName='Santiago', length=202.37016, level='paid', location='Orlando-Kissimmee-Sanford, FL', method='PUT', page='NextSong', registration=1535953455000, sessionId=178, song='Because I Got High', status=200, ts=1538352118000, userAgent='\"Mozilla/5.0 (Macintosh; Intel Mac OS X 10_9_4) AppleWebKit/537.36 (KHTML, like Gecko) Chrome/36.0.1985.143 Safari/537.36\"', userId='179'),\n",
                            " Row(artist=None, auth='Logged In', firstName='Maverick', gender='M', itemInSession=185, lastName='Santiago', length=None, level='paid', location='Orlando-Kissimmee-Sanford, FL', method='PUT', page='Logout', registration=1535953455000, sessionId=178, song=None, status=307, ts=1538352119000, userAgent='\"Mozilla/5.0 (Macintosh; Intel Mac OS X 10_9_4) AppleWebKit/537.36 (KHTML, like Gecko) Chrome/36.0.1985.143 Safari/537.36\"', userId='179'),\n",
                            " Row(artist='Lily Allen', auth='Logged In', firstName='Gianna', gender='F', itemInSession=22, lastName='Campos', length=194.53342, level='paid', location='Mobile, AL', method='PUT', page='NextSong', registration=1535931018000, sessionId=245, song='Smile (Radio Edit)', status=200, ts=1538352124000, userAgent='Mozilla/5.0 (Windows NT 6.1; WOW64; rv:31.0) Gecko/20100101 Firefox/31.0', userId='246')]"
                        ]
                    },
                    "execution_count": 2,
                    "metadata": {},
                    "output_type": "execute_result"
                }
            ],
            "source": [
                "from pyspark.sql import SparkSession\n",
                "spark = SparkSession.builder.getOrCreate()\n",
                "# Since JSON data can be semi-structured and contain additional metadata, it is possible that you might face issues with the DataFrame layout.\n",
                "# Please read the documentation of 'SparkSession.read()' to learn more about the possibilities to adjust the data loading.\n",
                "# PySpark documentation: http://spark.apache.org/docs/2.0.2/api/python/pyspark.sql.html#pyspark.sql.DataFrameReader.json\n",
                "\n",
                "df_data_1 = spark.read.json('medium-sparkify-event-data.json')\n",
                "df_data_1.take(5)"
            ]
        },
        {
            "cell_type": "markdown",
            "metadata": {},
            "source": [
                "# Data cleanning and exploration \n",
                "In this section, data cleaning is completed including checking size of dataset, columns, invalid or missing data, drop duplicates, exploratory visualization, categorical data processing, and so forth. "
            ]
        },
        {
            "cell_type": "code",
            "execution_count": 3,
            "metadata": {},
            "outputs": [],
            "source": [
                "from pyspark.sql import Row\n",
                "from pyspark.sql.functions import col,isnan, when, count\n",
                "import matplotlib.pyplot as plt"
            ]
        },
        {
            "cell_type": "code",
            "execution_count": 4,
            "metadata": {},
            "outputs": [
                {
                    "name": "stdout",
                    "output_type": "stream",
                    "text": [
                        "root\n",
                        " |-- artist: string (nullable = true)\n",
                        " |-- auth: string (nullable = true)\n",
                        " |-- firstName: string (nullable = true)\n",
                        " |-- gender: string (nullable = true)\n",
                        " |-- itemInSession: long (nullable = true)\n",
                        " |-- lastName: string (nullable = true)\n",
                        " |-- length: double (nullable = true)\n",
                        " |-- level: string (nullable = true)\n",
                        " |-- location: string (nullable = true)\n",
                        " |-- method: string (nullable = true)\n",
                        " |-- page: string (nullable = true)\n",
                        " |-- registration: long (nullable = true)\n",
                        " |-- sessionId: long (nullable = true)\n",
                        " |-- song: string (nullable = true)\n",
                        " |-- status: long (nullable = true)\n",
                        " |-- ts: long (nullable = true)\n",
                        " |-- userAgent: string (nullable = true)\n",
                        " |-- userId: string (nullable = true)\n",
                        "\n"
                    ]
                }
            ],
            "source": [
                "df_data_1.printSchema()"
            ]
        },
        {
            "cell_type": "code",
            "execution_count": 5,
            "metadata": {},
            "outputs": [
                {
                    "name": "stdout",
                    "output_type": "stream",
                    "text": [
                        "+--------------------+----------+---------+------+-------------+---------+---------+-----+--------------------+------+---------------+-------------+---------+--------------------+------+-------------+--------------------+------+\n",
                        "|              artist|      auth|firstName|gender|itemInSession| lastName|   length|level|            location|method|           page| registration|sessionId|                song|status|           ts|           userAgent|userId|\n",
                        "+--------------------+----------+---------+------+-------------+---------+---------+-----+--------------------+------+---------------+-------------+---------+--------------------+------+-------------+--------------------+------+\n",
                        "|       Martin Orford| Logged In|   Joseph|     M|           20|  Morales|597.55057| free|  Corpus Christi, TX|   PUT|       NextSong|1532063507000|      292|       Grand Designs|   200|1538352011000|\"Mozilla/5.0 (Mac...|   293|\n",
                        "|   John Brown's Body| Logged In|   Sawyer|     M|           74|   Larson|380.21179| free|Houston-The Woodl...|   PUT|       NextSong|1538069638000|       97|               Bulls|   200|1538352025000|\"Mozilla/5.0 (Mac...|    98|\n",
                        "|             Afroman| Logged In| Maverick|     M|          184| Santiago|202.37016| paid|Orlando-Kissimmee...|   PUT|       NextSong|1535953455000|      178|  Because I Got High|   200|1538352118000|\"Mozilla/5.0 (Mac...|   179|\n",
                        "|                null| Logged In| Maverick|     M|          185| Santiago|     null| paid|Orlando-Kissimmee...|   PUT|         Logout|1535953455000|      178|                null|   307|1538352119000|\"Mozilla/5.0 (Mac...|   179|\n",
                        "|          Lily Allen| Logged In|   Gianna|     F|           22|   Campos|194.53342| paid|          Mobile, AL|   PUT|       NextSong|1535931018000|      245|  Smile (Radio Edit)|   200|1538352124000|Mozilla/5.0 (Wind...|   246|\n",
                        "|          Carter USM| Logged In|    Sofia|     F|          266|   Gordon|138.29179| paid|       Rochester, MN|   PUT|       NextSong|1533175710000|      162|       Airplane Food|   200|1538352125000|\"Mozilla/5.0 (Mac...|   163|\n",
                        "|                null|Logged Out|     null|  null|          186|     null|     null| paid|                null|   GET|           Home|         null|      178|                null|   200|1538352148000|                null|      |\n",
                        "|                null|Logged Out|     null|  null|          187|     null|     null| paid|                null|   GET|           Home|         null|      178|                null|   200|1538352151000|                null|      |\n",
                        "|                null|Logged Out|     null|  null|          188|     null|     null| paid|                null|   GET|           Home|         null|      178|                null|   200|1538352168000|                null|      |\n",
                        "|                null|Logged Out|     null|  null|          189|     null|     null| paid|                null|   PUT|          Login|         null|      178|                null|   307|1538352169000|                null|      |\n",
                        "|                null| Logged In| Maverick|     M|          190| Santiago|     null| paid|Orlando-Kissimmee...|   GET|           Home|1535953455000|      178|                null|   200|1538352176000|\"Mozilla/5.0 (Mac...|   179|\n",
                        "|           Aerosmith| Logged In|    Lacey|     F|          107|Castaneda|220.39465| free|        El Campo, TX|   PUT|       NextSong|1537536032000|      442|       Walk This Way|   200|1538352215000|\"Mozilla/5.0 (Mac...|   175|\n",
                        "|                null| Logged In|    Colin|     M|            0|   Larson|     null| free|Dallas-Fort Worth...|   GET|           Home|1537982255000|      497|                null|   200|1538352241000|Mozilla/5.0 (Wind...|   100|\n",
                        "|       Amy Winehouse| Logged In|    Colin|     M|            1|   Larson|201.50812| free|Dallas-Fort Worth...|   PUT|       NextSong|1537982255000|      497|    Teach Me Tonight|   200|1538352259000|Mozilla/5.0 (Wind...|   100|\n",
                        "|Drake / Kanye Wes...| Logged In|    Sofia|     F|          267|   Gordon|357.66812| paid|       Rochester, MN|   PUT|       NextSong|1533175710000|      162|             Forever|   200|1538352263000|\"Mozilla/5.0 (Mac...|   163|\n",
                        "|           Bob Dylan| Logged In|   Gianna|     F|           23|   Campos|256.96608| paid|          Mobile, AL|   PUT|       NextSong|1535931018000|      245|Simple Twist Of Fate|   200|1538352318000|Mozilla/5.0 (Wind...|   246|\n",
                        "|        The Bar-Kays| Logged In| Maverick|     M|          191| Santiago|164.23138| paid|Orlando-Kissimmee...|   PUT|       NextSong|1535953455000|      178|         Montego Bay|   200|1538352320000|\"Mozilla/5.0 (Mac...|   179|\n",
                        "|          Black Kids| Logged In|   Payton|     F|           83| Campbell|251.48036| free|Los Angeles-Long ...|   PUT|       NextSong|1529027541000|       38|Look At Me (When ...|   200|1538352323000|\"Mozilla/5.0 (Win...|    39|\n",
                        "|                null| Logged In|    Sofia|     F|          268|   Gordon|     null| paid|       Rochester, MN|   GET|      Downgrade|1533175710000|      162|                null|   200|1538352336000|\"Mozilla/5.0 (Mac...|   163|\n",
                        "|                null| Logged In| Maverick|     M|          192| Santiago|     null| paid|Orlando-Kissimmee...|   PUT|Add to Playlist|1535953455000|      178|                null|   200|1538352376000|\"Mozilla/5.0 (Mac...|   179|\n",
                        "+--------------------+----------+---------+------+-------------+---------+---------+-----+--------------------+------+---------------+-------------+---------+--------------------+------+-------------+--------------------+------+\n",
                        "only showing top 20 rows\n",
                        "\n"
                    ]
                }
            ],
            "source": [
                "df_data_1.show()"
            ]
        },
        {
            "cell_type": "code",
            "execution_count": 6,
            "metadata": {},
            "outputs": [
                {
                    "name": "stdout",
                    "output_type": "stream",
                    "text": [
                        "(543705, 18)\n"
                    ]
                },
                {
                    "name": "stderr",
                    "output_type": "stream",
                    "text": [
                        "                                                                                \r"
                    ]
                }
            ],
            "source": [
                "print((df_data_1.count(), len(df_data_1.columns)))"
            ]
        },
        {
            "cell_type": "code",
            "execution_count": 7,
            "metadata": {},
            "outputs": [
                {
                    "name": "stderr",
                    "output_type": "stream",
                    "text": [
                        "[Stage 6:>                                                        (0 + 12) / 12]\r"
                    ]
                },
                {
                    "name": "stdout",
                    "output_type": "stream",
                    "text": [
                        "+-------------------------+\n",
                        "|page                     |\n",
                        "+-------------------------+\n",
                        "|Cancel                   |\n",
                        "|Submit Downgrade         |\n",
                        "|Thumbs Down              |\n",
                        "|Home                     |\n",
                        "|Downgrade                |\n",
                        "|Roll Advert              |\n",
                        "|Logout                   |\n",
                        "|Save Settings            |\n",
                        "|Cancellation Confirmation|\n",
                        "|About                    |\n",
                        "|Settings                 |\n",
                        "|Login                    |\n",
                        "|Add to Playlist          |\n",
                        "|Add Friend               |\n",
                        "|NextSong                 |\n",
                        "|Thumbs Up                |\n",
                        "|Help                     |\n",
                        "|Upgrade                  |\n",
                        "|Error                    |\n",
                        "|Submit Upgrade           |\n",
                        "|Submit Registration      |\n",
                        "|Register                 |\n",
                        "+-------------------------+\n",
                        "\n"
                    ]
                },
                {
                    "name": "stderr",
                    "output_type": "stream",
                    "text": [
                        "                                                                                \r"
                    ]
                }
            ],
            "source": [
                "df_data_1.select('page').distinct().show(100, False)"
            ]
        },
        {
            "cell_type": "code",
            "execution_count": 8,
            "metadata": {},
            "outputs": [
                {
                    "name": "stderr",
                    "output_type": "stream",
                    "text": [
                        "                                                                                \r"
                    ]
                },
                {
                    "data": {
                        "text/plain": [
                            "80293"
                        ]
                    },
                    "execution_count": 8,
                    "metadata": {},
                    "output_type": "execute_result"
                }
            ],
            "source": [
                "df_data_1.select('song').distinct().count()"
            ]
        },
        {
            "cell_type": "code",
            "execution_count": 9,
            "metadata": {},
            "outputs": [
                {
                    "data": {
                        "text/plain": [
                            "Row(max(length)=3024.66567)"
                        ]
                    },
                    "execution_count": 9,
                    "metadata": {},
                    "output_type": "execute_result"
                }
            ],
            "source": [
                "df_data_1.agg({'length': 'max'}).collect()[0]"
            ]
        },
        {
            "cell_type": "markdown",
            "metadata": {},
            "source": [
                "# Create Churn column based on \"page\" column"
            ]
        },
        {
            "cell_type": "code",
            "execution_count": 10,
            "metadata": {
                "scrolled": false
            },
            "outputs": [
                {
                    "name": "stdout",
                    "output_type": "stream",
                    "text": [
                        "+--------------------+----------+---------+------+-------------+---------+---------+-----+--------------------+------+---------------+-------------+---------+--------------------+------+-------------+--------------------+------+-----+\n",
                        "|              artist|      auth|firstName|gender|itemInSession| lastName|   length|level|            location|method|           page| registration|sessionId|                song|status|           ts|           userAgent|userId|Churn|\n",
                        "+--------------------+----------+---------+------+-------------+---------+---------+-----+--------------------+------+---------------+-------------+---------+--------------------+------+-------------+--------------------+------+-----+\n",
                        "|       Martin Orford| Logged In|   Joseph|     M|           20|  Morales|597.55057| free|  Corpus Christi, TX|   PUT|       NextSong|1532063507000|      292|       Grand Designs|   200|1538352011000|\"Mozilla/5.0 (Mac...|   293|    0|\n",
                        "|   John Brown's Body| Logged In|   Sawyer|     M|           74|   Larson|380.21179| free|Houston-The Woodl...|   PUT|       NextSong|1538069638000|       97|               Bulls|   200|1538352025000|\"Mozilla/5.0 (Mac...|    98|    0|\n",
                        "|             Afroman| Logged In| Maverick|     M|          184| Santiago|202.37016| paid|Orlando-Kissimmee...|   PUT|       NextSong|1535953455000|      178|  Because I Got High|   200|1538352118000|\"Mozilla/5.0 (Mac...|   179|    0|\n",
                        "|                null| Logged In| Maverick|     M|          185| Santiago|     null| paid|Orlando-Kissimmee...|   PUT|         Logout|1535953455000|      178|                null|   307|1538352119000|\"Mozilla/5.0 (Mac...|   179|    0|\n",
                        "|          Lily Allen| Logged In|   Gianna|     F|           22|   Campos|194.53342| paid|          Mobile, AL|   PUT|       NextSong|1535931018000|      245|  Smile (Radio Edit)|   200|1538352124000|Mozilla/5.0 (Wind...|   246|    0|\n",
                        "|          Carter USM| Logged In|    Sofia|     F|          266|   Gordon|138.29179| paid|       Rochester, MN|   PUT|       NextSong|1533175710000|      162|       Airplane Food|   200|1538352125000|\"Mozilla/5.0 (Mac...|   163|    0|\n",
                        "|                null|Logged Out|     null|  null|          186|     null|     null| paid|                null|   GET|           Home|         null|      178|                null|   200|1538352148000|                null|      |    0|\n",
                        "|                null|Logged Out|     null|  null|          187|     null|     null| paid|                null|   GET|           Home|         null|      178|                null|   200|1538352151000|                null|      |    0|\n",
                        "|                null|Logged Out|     null|  null|          188|     null|     null| paid|                null|   GET|           Home|         null|      178|                null|   200|1538352168000|                null|      |    0|\n",
                        "|                null|Logged Out|     null|  null|          189|     null|     null| paid|                null|   PUT|          Login|         null|      178|                null|   307|1538352169000|                null|      |    0|\n",
                        "|                null| Logged In| Maverick|     M|          190| Santiago|     null| paid|Orlando-Kissimmee...|   GET|           Home|1535953455000|      178|                null|   200|1538352176000|\"Mozilla/5.0 (Mac...|   179|    0|\n",
                        "|           Aerosmith| Logged In|    Lacey|     F|          107|Castaneda|220.39465| free|        El Campo, TX|   PUT|       NextSong|1537536032000|      442|       Walk This Way|   200|1538352215000|\"Mozilla/5.0 (Mac...|   175|    0|\n",
                        "|                null| Logged In|    Colin|     M|            0|   Larson|     null| free|Dallas-Fort Worth...|   GET|           Home|1537982255000|      497|                null|   200|1538352241000|Mozilla/5.0 (Wind...|   100|    0|\n",
                        "|       Amy Winehouse| Logged In|    Colin|     M|            1|   Larson|201.50812| free|Dallas-Fort Worth...|   PUT|       NextSong|1537982255000|      497|    Teach Me Tonight|   200|1538352259000|Mozilla/5.0 (Wind...|   100|    0|\n",
                        "|Drake / Kanye Wes...| Logged In|    Sofia|     F|          267|   Gordon|357.66812| paid|       Rochester, MN|   PUT|       NextSong|1533175710000|      162|             Forever|   200|1538352263000|\"Mozilla/5.0 (Mac...|   163|    0|\n",
                        "|           Bob Dylan| Logged In|   Gianna|     F|           23|   Campos|256.96608| paid|          Mobile, AL|   PUT|       NextSong|1535931018000|      245|Simple Twist Of Fate|   200|1538352318000|Mozilla/5.0 (Wind...|   246|    0|\n",
                        "|        The Bar-Kays| Logged In| Maverick|     M|          191| Santiago|164.23138| paid|Orlando-Kissimmee...|   PUT|       NextSong|1535953455000|      178|         Montego Bay|   200|1538352320000|\"Mozilla/5.0 (Mac...|   179|    0|\n",
                        "|          Black Kids| Logged In|   Payton|     F|           83| Campbell|251.48036| free|Los Angeles-Long ...|   PUT|       NextSong|1529027541000|       38|Look At Me (When ...|   200|1538352323000|\"Mozilla/5.0 (Win...|    39|    0|\n",
                        "|                null| Logged In|    Sofia|     F|          268|   Gordon|     null| paid|       Rochester, MN|   GET|      Downgrade|1533175710000|      162|                null|   200|1538352336000|\"Mozilla/5.0 (Mac...|   163|    1|\n",
                        "|                null| Logged In| Maverick|     M|          192| Santiago|     null| paid|Orlando-Kissimmee...|   PUT|Add to Playlist|1535953455000|      178|                null|   200|1538352376000|\"Mozilla/5.0 (Mac...|   179|    0|\n",
                        "+--------------------+----------+---------+------+-------------+---------+---------+-----+--------------------+------+---------------+-------------+---------+--------------------+------+-------------+--------------------+------+-----+\n",
                        "only showing top 20 rows\n",
                        "\n"
                    ]
                }
            ],
            "source": [
                "cancel_set = ['Cancel', 'Submit Downgrade', 'Thumbs Down', 'Downgrade', 'Cancellation Confirmation']\n",
                "df_data_1 = df_data_1.withColumn('Churn', when(df_data_1.page.isin(cancel_set), 1).otherwise(0))\n",
                "df_data_1.show()"
            ]
        },
        {
            "cell_type": "markdown",
            "metadata": {},
            "source": [
                "# Remove invalid and missing values\n",
                "1. Intuitively, we do not think the leave or stay of a customer would be affected by his/her name. So the columns \"firstName\" and \"lastName\" can be simply dropped.\n",
                "2. Based on the aggregation results of groupBy('Churn', 'artist'), groupBy('Churn', 'song'), and column \"length\", all cases of Churn==1 have null artist, song, and length, so churn rate is also not related to them in this dataset. Here we drop columns \"artist\", \"song\", and \"length\" as well.\n",
                "3. After dropping unused columns, we filter out rows with null value. "
            ]
        },
        {
            "cell_type": "code",
            "execution_count": 11,
            "metadata": {},
            "outputs": [
                {
                    "name": "stderr",
                    "output_type": "stream",
                    "text": [
                        "[Stage 19:====>                                                   (1 + 11) / 12]\r"
                    ]
                },
                {
                    "name": "stdout",
                    "output_type": "stream",
                    "text": [
                        "+------+----+---------+------+-------------+--------+------+-----+--------+------+----+------------+---------+------+------+---+---------+------+-----+\n",
                        "|artist|auth|firstName|gender|itemInSession|lastName|length|level|location|method|page|registration|sessionId|  song|status| ts|userAgent|userId|Churn|\n",
                        "+------+----+---------+------+-------------+--------+------+-----+--------+------+----+------------+---------+------+------+---+---------+------+-----+\n",
                        "|110828|   0|    15700| 15700|            0|   15700|110828|    0|   15700|     0|   0|       15700|        0|110829|     0|  0|    15700|     0|    0|\n",
                        "+------+----+---------+------+-------------+--------+------+-----+--------+------+----+------------+---------+------+------+---+---------+------+-----+\n",
                        "\n"
                    ]
                },
                {
                    "name": "stderr",
                    "output_type": "stream",
                    "text": [
                        "                                                                                \r"
                    ]
                }
            ],
            "source": [
                "# Count missing values for each column\n",
                "df_data_1.select([count(when(isnan(c) | col(c).isNull(), c)).alias(c) for c in df_data_1.columns]).show()"
            ]
        },
        {
            "cell_type": "code",
            "execution_count": 12,
            "metadata": {},
            "outputs": [
                {
                    "name": "stderr",
                    "output_type": "stream",
                    "text": [
                        "                                                                                \r"
                    ]
                },
                {
                    "name": "stdout",
                    "output_type": "stream",
                    "text": [
                        "+-----+--------------------+-----+\n",
                        "|Churn|              artist|count|\n",
                        "+-----+--------------------+-----+\n",
                        "|    0|           The Kooks|  467|\n",
                        "|    0|             Bacilos|  121|\n",
                        "|    0|Brigitte Bardot /...|    7|\n",
                        "|    0|         Passion Pit|  345|\n",
                        "|    0|        Supersuckers|    8|\n",
                        "|    0|         Los Bunkers|   46|\n",
                        "|    0|               Opeth|  117|\n",
                        "|    0|         State Radio|   40|\n",
                        "|    0|                 Mud|   48|\n",
                        "|    0|Jack Johnson / Ka...|   21|\n",
                        "|    0|   Story Of The Year|  100|\n",
                        "|    0|    Peter And Gordon|   29|\n",
                        "|    0|    David Arkenstone|   24|\n",
                        "|    0|          Eskimo Joe|   30|\n",
                        "|    0|         Brian Regan|   17|\n",
                        "|    0|     Massive TÃÂ¶ne|    4|\n",
                        "|    0|       Elvis Presley|   33|\n",
                        "|    0|         Boney James|   57|\n",
                        "|    0|      The Fire Theft|   17|\n",
                        "|    0|Major Lazer / Vyb...|   16|\n",
                        "+-----+--------------------+-----+\n",
                        "only showing top 20 rows\n",
                        "\n",
                        "+-----+------+-----+\n",
                        "|Churn|artist|count|\n",
                        "+-----+------+-----+\n",
                        "|    1|  null| 9037|\n",
                        "+-----+------+-----+\n",
                        "\n"
                    ]
                }
            ],
            "source": [
                "count_churn_0 = df_data_1.groupBy('Churn', 'artist').count().filter(df_data_1.Churn == 0)\n",
                "count_churn_1 = df_data_1.groupBy('Churn', 'artist').count().filter(df_data_1.Churn == 1)\n",
                "count_churn_0.show()\n",
                "count_churn_1.show()"
            ]
        },
        {
            "cell_type": "code",
            "execution_count": 13,
            "metadata": {},
            "outputs": [
                {
                    "name": "stderr",
                    "output_type": "stream",
                    "text": [
                        "                                                                                \r"
                    ]
                },
                {
                    "name": "stdout",
                    "output_type": "stream",
                    "text": [
                        "+-----+--------------------+-----+\n",
                        "|Churn|                song|count|\n",
                        "+-----+--------------------+-----+\n",
                        "|    0|               Reign|   10|\n",
                        "|    0|    Ne Me Quitte Pas|    2|\n",
                        "|    0|    Snow White Queen|    9|\n",
                        "|    0|            Auto-Dub|   15|\n",
                        "|    0|          Release Me|   20|\n",
                        "|    0|The Desperate Kin...|    3|\n",
                        "|    0|             Dragula|   29|\n",
                        "|    0|      Zamba de Usted|    1|\n",
                        "|    0|May The Words Of ...|    6|\n",
                        "|    0|I MÃÂ¶rkret Med Dej|   11|\n",
                        "|    0|Searching (So Muc...|    4|\n",
                        "|    0|Hypnotized (featu...|   24|\n",
                        "|    0|           Entertain|    6|\n",
                        "|    0|Diverse City (Wel...|    3|\n",
                        "|    0|My Drink (I Remem...|   14|\n",
                        "|    0|Machine Gun Funk ...|   19|\n",
                        "|    0|               Saxon|    5|\n",
                        "|    0|            Over You|   15|\n",
                        "|    0|Rubber & Soul (An...|    2|\n",
                        "|    0|          Fast-Track|   16|\n",
                        "+-----+--------------------+-----+\n",
                        "only showing top 20 rows\n",
                        "\n",
                        "+-----+----+-----+\n",
                        "|Churn|song|count|\n",
                        "+-----+----+-----+\n",
                        "|    1|null| 9037|\n",
                        "+-----+----+-----+\n",
                        "\n"
                    ]
                }
            ],
            "source": [
                "count_churn_0 = df_data_1.groupBy('Churn', 'song').count().filter(df_data_1.Churn == 0)\n",
                "count_churn_1 = df_data_1.groupBy('Churn', 'song').count().filter(df_data_1.Churn == 1)\n",
                "count_churn_0.show()\n",
                "count_churn_1.show()"
            ]
        },
        {
            "cell_type": "code",
            "execution_count": 14,
            "metadata": {},
            "outputs": [
                {
                    "name": "stdout",
                    "output_type": "stream",
                    "text": [
                        "+---------+\n",
                        "|   length|\n",
                        "+---------+\n",
                        "|597.55057|\n",
                        "|380.21179|\n",
                        "|202.37016|\n",
                        "|     null|\n",
                        "|194.53342|\n",
                        "|138.29179|\n",
                        "|     null|\n",
                        "|     null|\n",
                        "|     null|\n",
                        "|     null|\n",
                        "|     null|\n",
                        "|220.39465|\n",
                        "|     null|\n",
                        "|201.50812|\n",
                        "|357.66812|\n",
                        "|256.96608|\n",
                        "|164.23138|\n",
                        "|251.48036|\n",
                        "|     null|\n",
                        "|157.67465|\n",
                        "+---------+\n",
                        "only showing top 20 rows\n",
                        "\n",
                        "+------+\n",
                        "|length|\n",
                        "+------+\n",
                        "|  null|\n",
                        "|  null|\n",
                        "|  null|\n",
                        "|  null|\n",
                        "|  null|\n",
                        "|  null|\n",
                        "|  null|\n",
                        "|  null|\n",
                        "|  null|\n",
                        "|  null|\n",
                        "|  null|\n",
                        "|  null|\n",
                        "|  null|\n",
                        "|  null|\n",
                        "|  null|\n",
                        "|  null|\n",
                        "|  null|\n",
                        "|  null|\n",
                        "|  null|\n",
                        "|  null|\n",
                        "+------+\n",
                        "only showing top 20 rows\n",
                        "\n"
                    ]
                }
            ],
            "source": [
                "count_churn_0 = df_data_1.filter(df_data_1.Churn == 0).select('length').show()\n",
                "count_churn_1 = df_data_1.filter(df_data_1.Churn == 1).select('length').show()"
            ]
        },
        {
            "cell_type": "code",
            "execution_count": 15,
            "metadata": {},
            "outputs": [
                {
                    "name": "stdout",
                    "output_type": "stream",
                    "text": [
                        "root\n",
                        " |-- auth: string (nullable = true)\n",
                        " |-- gender: string (nullable = true)\n",
                        " |-- itemInSession: long (nullable = true)\n",
                        " |-- level: string (nullable = true)\n",
                        " |-- location: string (nullable = true)\n",
                        " |-- method: string (nullable = true)\n",
                        " |-- page: string (nullable = true)\n",
                        " |-- registration: long (nullable = true)\n",
                        " |-- sessionId: long (nullable = true)\n",
                        " |-- status: long (nullable = true)\n",
                        " |-- ts: long (nullable = true)\n",
                        " |-- userAgent: string (nullable = true)\n",
                        " |-- userId: string (nullable = true)\n",
                        " |-- Churn: integer (nullable = false)\n",
                        "\n"
                    ]
                }
            ],
            "source": [
                "cols = ('artist' ,'firstName', 'lastName', 'length', 'song')\n",
                "df_drop = df_data_1.drop(*cols)\n",
                "df_drop.printSchema()"
            ]
        },
        {
            "cell_type": "code",
            "execution_count": 16,
            "metadata": {},
            "outputs": [
                {
                    "data": {
                        "text/plain": [
                            "528005"
                        ]
                    },
                    "execution_count": 16,
                    "metadata": {},
                    "output_type": "execute_result"
                }
            ],
            "source": [
                "# Remove null records\n",
                "df_drop = df_drop.na.drop()\n",
                "df_drop.count()"
            ]
        },
        {
            "cell_type": "code",
            "execution_count": null,
            "metadata": {},
            "outputs": [],
            "source": []
        }
    ],
    "metadata": {
        "kernelspec": {
            "display_name": "Python 3.9.12 ('.venv': venv)",
            "language": "python",
            "name": "python3"
        },
        "language_info": {
            "codemirror_mode": {
                "name": "ipython",
                "version": 3
            },
            "file_extension": ".py",
            "mimetype": "text/x-python",
            "name": "python",
            "nbconvert_exporter": "python",
            "pygments_lexer": "ipython3",
            "version": "3.9.12"
        },
        "vscode": {
            "interpreter": {
                "hash": "8d1ef3b3d21a8f5d62fec297b2de45fe0670853a5f20151ae07585d912ea79d8"
            }
        }
    },
    "nbformat": 4,
    "nbformat_minor": 1
}
