{
    "cells": [
        {
            "cell_type": "markdown",
            "metadata": {},
            "source": [
                "# Load raw dataset\n",
                "A medium-sized dataset is provided (rather than 12 GB full dataset as is in AWS) for data wrangling in the spark cluster of IBM Watson Studio. \n"
            ]
        },
        {
            "cell_type": "code",
            "execution_count": 1,
            "metadata": {},
            "outputs": [
                {
                    "ename": "NameError",
                    "evalue": "name 'sc' is not defined",
                    "output_type": "error",
                    "traceback": [
                        "\u001b[0;31m---------------------------------------------------------------------------\u001b[0m",
                        "\u001b[0;31mNameError\u001b[0m                                 Traceback (most recent call last)",
                        "\u001b[1;32m/Volumes/work/Course Lecture/Udacity/DataScientistNanodegree/projects/capstone/Sparkify/Sparkify.ipynb Cell 2\u001b[0m in \u001b[0;36m<cell line: 13>\u001b[0;34m()\u001b[0m\n\u001b[1;32m      <a href='vscode-notebook-cell:/Volumes/work/Course%20Lecture/Udacity/DataScientistNanodegree/projects/capstone/Sparkify/Sparkify.ipynb#W1sZmlsZQ%3D%3D?line=4'>5</a>\u001b[0m credentials \u001b[39m=\u001b[39m {\n\u001b[1;32m      <a href='vscode-notebook-cell:/Volumes/work/Course%20Lecture/Udacity/DataScientistNanodegree/projects/capstone/Sparkify/Sparkify.ipynb#W1sZmlsZQ%3D%3D?line=5'>6</a>\u001b[0m     \u001b[39m'\u001b[39m\u001b[39mendpoint\u001b[39m\u001b[39m'\u001b[39m: \u001b[39m'\u001b[39m\u001b[39mhttps://s3.private.us.cloud-object-storage.appdomain.cloud\u001b[39m\u001b[39m'\u001b[39m,\n\u001b[1;32m      <a href='vscode-notebook-cell:/Volumes/work/Course%20Lecture/Udacity/DataScientistNanodegree/projects/capstone/Sparkify/Sparkify.ipynb#W1sZmlsZQ%3D%3D?line=6'>7</a>\u001b[0m     \u001b[39m'\u001b[39m\u001b[39mservice_id\u001b[39m\u001b[39m'\u001b[39m: \u001b[39m'\u001b[39m\u001b[39miam-ServiceId-b314834d-5443-4359-8efa-88fb1ca94789\u001b[39m\u001b[39m'\u001b[39m,\n\u001b[1;32m      <a href='vscode-notebook-cell:/Volumes/work/Course%20Lecture/Udacity/DataScientistNanodegree/projects/capstone/Sparkify/Sparkify.ipynb#W1sZmlsZQ%3D%3D?line=7'>8</a>\u001b[0m     \u001b[39m'\u001b[39m\u001b[39miam_service_endpoint\u001b[39m\u001b[39m'\u001b[39m: \u001b[39m'\u001b[39m\u001b[39mhttps://iam.cloud.ibm.com/oidc/token\u001b[39m\u001b[39m'\u001b[39m,\n\u001b[1;32m      <a href='vscode-notebook-cell:/Volumes/work/Course%20Lecture/Udacity/DataScientistNanodegree/projects/capstone/Sparkify/Sparkify.ipynb#W1sZmlsZQ%3D%3D?line=8'>9</a>\u001b[0m     \u001b[39m'\u001b[39m\u001b[39mapi_key\u001b[39m\u001b[39m'\u001b[39m: \u001b[39m'\u001b[39m\u001b[39mNfS0KqvIB-QZO6PoO6p1UYPdzthvM2t3mOeNGUatbbnC\u001b[39m\u001b[39m'\u001b[39m\n\u001b[1;32m     <a href='vscode-notebook-cell:/Volumes/work/Course%20Lecture/Udacity/DataScientistNanodegree/projects/capstone/Sparkify/Sparkify.ipynb#W1sZmlsZQ%3D%3D?line=9'>10</a>\u001b[0m }\n\u001b[1;32m     <a href='vscode-notebook-cell:/Volumes/work/Course%20Lecture/Udacity/DataScientistNanodegree/projects/capstone/Sparkify/Sparkify.ipynb#W1sZmlsZQ%3D%3D?line=11'>12</a>\u001b[0m configuration_name \u001b[39m=\u001b[39m \u001b[39m'\u001b[39m\u001b[39mos_c4ce378e6d4243b4bee4d7f946ea0bff_configs\u001b[39m\u001b[39m'\u001b[39m\n\u001b[0;32m---> <a href='vscode-notebook-cell:/Volumes/work/Course%20Lecture/Udacity/DataScientistNanodegree/projects/capstone/Sparkify/Sparkify.ipynb#W1sZmlsZQ%3D%3D?line=12'>13</a>\u001b[0m cos \u001b[39m=\u001b[39m ibmos2spark\u001b[39m.\u001b[39mCloudObjectStorage(sc, credentials, configuration_name, \u001b[39m'\u001b[39m\u001b[39mbluemix_cos\u001b[39m\u001b[39m'\u001b[39m)\n\u001b[1;32m     <a href='vscode-notebook-cell:/Volumes/work/Course%20Lecture/Udacity/DataScientistNanodegree/projects/capstone/Sparkify/Sparkify.ipynb#W1sZmlsZQ%3D%3D?line=14'>15</a>\u001b[0m \u001b[39mfrom\u001b[39;00m \u001b[39mpyspark\u001b[39;00m\u001b[39m.\u001b[39;00m\u001b[39msql\u001b[39;00m \u001b[39mimport\u001b[39;00m SparkSession\n\u001b[1;32m     <a href='vscode-notebook-cell:/Volumes/work/Course%20Lecture/Udacity/DataScientistNanodegree/projects/capstone/Sparkify/Sparkify.ipynb#W1sZmlsZQ%3D%3D?line=15'>16</a>\u001b[0m spark \u001b[39m=\u001b[39m SparkSession\u001b[39m.\u001b[39mbuilder\u001b[39m.\u001b[39mgetOrCreate()\n",
                        "\u001b[0;31mNameError\u001b[0m: name 'sc' is not defined"
                    ]
                }
            ],
            "source": [
                "# Load raw data to spark\n",
                "# IBM Watson Studio is not free to use unlimited even for the lite version, I complete this project locally\n",
                "\n",
                "import ibmos2spark, os\n",
                "# @hidden_cell\n",
                "credentials = {\n",
                "    'endpoint': 'https://s3.private.us.cloud-object-storage.appdomain.cloud',\n",
                "    'service_id': 'iam-ServiceId-b314834d-5443-4359-8efa-88fb1ca94789',\n",
                "    'iam_service_endpoint': 'https://iam.cloud.ibm.com/oidc/token',\n",
                "    'api_key': 'NfS0KqvIB-QZO6PoO6p1UYPdzthvM2t3mOeNGUatbbnC'\n",
                "}\n",
                "\n",
                "configuration_name = 'os_c4ce378e6d4243b4bee4d7f946ea0bff_configs'\n",
                "cos = ibmos2spark.CloudObjectStorage(sc, credentials, configuration_name, 'bluemix_cos')\n",
                "\n",
                "from pyspark.sql import SparkSession\n",
                "spark = SparkSession.builder.getOrCreate()\n",
                "# Since JSON data can be semi-structured and contain additional metadata, it is possible that you might face issues with the DataFrame layout.\n",
                "# Please read the documentation of 'SparkSession.read()' to learn more about the possibilities to adjust the data loading.\n",
                "# PySpark documentation: http://spark.apache.org/docs/2.0.2/api/python/pyspark.sql.html#pyspark.sql.DataFrameReader.json\n",
                "\n",
                "df_data_1 = spark.read.json(cos.url('medium-sparkify-event-data.json', 'sparkify-donotdelete-pr-crgpbxoft3rjye'))\n",
                "df_data_1.take(5)"
            ]
        },
        {
            "cell_type": "code",
            "execution_count": 2,
            "metadata": {},
            "outputs": [
                {
                    "name": "stdout",
                    "output_type": "stream",
                    "text": [
                        "22/08/16 12:59:00 WARN Utils: Your hostname, MacBook-Pro.local resolves to a loopback address: 127.0.0.1; using 192.168.3.187 instead (on interface en0)\n",
                        "22/08/16 12:59:00 WARN Utils: Set SPARK_LOCAL_IP if you need to bind to another address\n"
                    ]
                },
                {
                    "name": "stderr",
                    "output_type": "stream",
                    "text": [
                        "Setting default log level to \"WARN\".\n",
                        "To adjust logging level use sc.setLogLevel(newLevel). For SparkR, use setLogLevel(newLevel).\n"
                    ]
                },
                {
                    "name": "stdout",
                    "output_type": "stream",
                    "text": [
                        "22/08/16 12:59:01 WARN NativeCodeLoader: Unable to load native-hadoop library for your platform... using builtin-java classes where applicable\n"
                    ]
                },
                {
                    "name": "stderr",
                    "output_type": "stream",
                    "text": [
                        "                                                                                \r"
                    ]
                },
                {
                    "data": {
                        "text/plain": [
                            "[Row(artist='Martin Orford', auth='Logged In', firstName='Joseph', gender='M', itemInSession=20, lastName='Morales', length=597.55057, level='free', location='Corpus Christi, TX', method='PUT', page='NextSong', registration=1532063507000, sessionId=292, song='Grand Designs', status=200, ts=1538352011000, userAgent='\"Mozilla/5.0 (Macintosh; Intel Mac OS X 10_9_4) AppleWebKit/537.36 (KHTML, like Gecko) Chrome/36.0.1985.125 Safari/537.36\"', userId='293'),\n",
                            " Row(artist=\"John Brown's Body\", auth='Logged In', firstName='Sawyer', gender='M', itemInSession=74, lastName='Larson', length=380.21179, level='free', location='Houston-The Woodlands-Sugar Land, TX', method='PUT', page='NextSong', registration=1538069638000, sessionId=97, song='Bulls', status=200, ts=1538352025000, userAgent='\"Mozilla/5.0 (Macintosh; Intel Mac OS X 10_9_4) AppleWebKit/537.36 (KHTML, like Gecko) Chrome/36.0.1985.143 Safari/537.36\"', userId='98'),\n",
                            " Row(artist='Afroman', auth='Logged In', firstName='Maverick', gender='M', itemInSession=184, lastName='Santiago', length=202.37016, level='paid', location='Orlando-Kissimmee-Sanford, FL', method='PUT', page='NextSong', registration=1535953455000, sessionId=178, song='Because I Got High', status=200, ts=1538352118000, userAgent='\"Mozilla/5.0 (Macintosh; Intel Mac OS X 10_9_4) AppleWebKit/537.36 (KHTML, like Gecko) Chrome/36.0.1985.143 Safari/537.36\"', userId='179'),\n",
                            " Row(artist=None, auth='Logged In', firstName='Maverick', gender='M', itemInSession=185, lastName='Santiago', length=None, level='paid', location='Orlando-Kissimmee-Sanford, FL', method='PUT', page='Logout', registration=1535953455000, sessionId=178, song=None, status=307, ts=1538352119000, userAgent='\"Mozilla/5.0 (Macintosh; Intel Mac OS X 10_9_4) AppleWebKit/537.36 (KHTML, like Gecko) Chrome/36.0.1985.143 Safari/537.36\"', userId='179'),\n",
                            " Row(artist='Lily Allen', auth='Logged In', firstName='Gianna', gender='F', itemInSession=22, lastName='Campos', length=194.53342, level='paid', location='Mobile, AL', method='PUT', page='NextSong', registration=1535931018000, sessionId=245, song='Smile (Radio Edit)', status=200, ts=1538352124000, userAgent='Mozilla/5.0 (Windows NT 6.1; WOW64; rv:31.0) Gecko/20100101 Firefox/31.0', userId='246')]"
                        ]
                    },
                    "execution_count": 2,
                    "metadata": {},
                    "output_type": "execute_result"
                }
            ],
            "source": [
                "from pyspark.sql import SparkSession\n",
                "spark = SparkSession.builder.getOrCreate()\n",
                "# Since JSON data can be semi-structured and contain additional metadata, it is possible that you might face issues with the DataFrame layout.\n",
                "# Please read the documentation of 'SparkSession.read()' to learn more about the possibilities to adjust the data loading.\n",
                "# PySpark documentation: http://spark.apache.org/docs/2.0.2/api/python/pyspark.sql.html#pyspark.sql.DataFrameReader.json\n",
                "\n",
                "df_data_1 = spark.read.json('medium-sparkify-event-data.json')\n",
                "df_data_1.take(5)"
            ]
        },
        {
            "cell_type": "markdown",
            "metadata": {},
            "source": [
                "# Data cleanning and exploration \n",
                "In this section, data cleaning is completed including checking size of dataset, columns, invalid or missing data, drop duplicates, exploratory visualization, categorical data processing, and so forth. "
            ]
        },
        {
            "cell_type": "code",
            "execution_count": 8,
            "metadata": {},
            "outputs": [],
            "source": [
                "from pyspark.sql import Row, Window\n",
                "import builtins as p\n",
                "from pyspark.sql.functions import *\n",
                "from pyspark.sql.types import IntegerType, StringType\n",
                "import matplotlib.pyplot as plt\n",
                "import pyspark.pandas as ps\n",
                "import pandas as pd\n",
                "import seaborn as sns\n",
                "import numpy as np"
            ]
        },
        {
            "cell_type": "code",
            "execution_count": 4,
            "metadata": {},
            "outputs": [
                {
                    "name": "stdout",
                    "output_type": "stream",
                    "text": [
                        "root\n",
                        " |-- artist: string (nullable = true)\n",
                        " |-- auth: string (nullable = true)\n",
                        " |-- firstName: string (nullable = true)\n",
                        " |-- gender: string (nullable = true)\n",
                        " |-- itemInSession: long (nullable = true)\n",
                        " |-- lastName: string (nullable = true)\n",
                        " |-- length: double (nullable = true)\n",
                        " |-- level: string (nullable = true)\n",
                        " |-- location: string (nullable = true)\n",
                        " |-- method: string (nullable = true)\n",
                        " |-- page: string (nullable = true)\n",
                        " |-- registration: long (nullable = true)\n",
                        " |-- sessionId: long (nullable = true)\n",
                        " |-- song: string (nullable = true)\n",
                        " |-- status: long (nullable = true)\n",
                        " |-- ts: long (nullable = true)\n",
                        " |-- userAgent: string (nullable = true)\n",
                        " |-- userId: string (nullable = true)\n",
                        "\n"
                    ]
                }
            ],
            "source": [
                "df_data_1.printSchema()"
            ]
        },
        {
            "cell_type": "code",
            "execution_count": 5,
            "metadata": {},
            "outputs": [
                {
                    "name": "stdout",
                    "output_type": "stream",
                    "text": [
                        "+--------------------+----------+---------+------+-------------+---------+---------+-----+--------------------+------+---------------+-------------+---------+--------------------+------+-------------+--------------------+------+\n",
                        "|              artist|      auth|firstName|gender|itemInSession| lastName|   length|level|            location|method|           page| registration|sessionId|                song|status|           ts|           userAgent|userId|\n",
                        "+--------------------+----------+---------+------+-------------+---------+---------+-----+--------------------+------+---------------+-------------+---------+--------------------+------+-------------+--------------------+------+\n",
                        "|       Martin Orford| Logged In|   Joseph|     M|           20|  Morales|597.55057| free|  Corpus Christi, TX|   PUT|       NextSong|1532063507000|      292|       Grand Designs|   200|1538352011000|\"Mozilla/5.0 (Mac...|   293|\n",
                        "|   John Brown's Body| Logged In|   Sawyer|     M|           74|   Larson|380.21179| free|Houston-The Woodl...|   PUT|       NextSong|1538069638000|       97|               Bulls|   200|1538352025000|\"Mozilla/5.0 (Mac...|    98|\n",
                        "|             Afroman| Logged In| Maverick|     M|          184| Santiago|202.37016| paid|Orlando-Kissimmee...|   PUT|       NextSong|1535953455000|      178|  Because I Got High|   200|1538352118000|\"Mozilla/5.0 (Mac...|   179|\n",
                        "|                null| Logged In| Maverick|     M|          185| Santiago|     null| paid|Orlando-Kissimmee...|   PUT|         Logout|1535953455000|      178|                null|   307|1538352119000|\"Mozilla/5.0 (Mac...|   179|\n",
                        "|          Lily Allen| Logged In|   Gianna|     F|           22|   Campos|194.53342| paid|          Mobile, AL|   PUT|       NextSong|1535931018000|      245|  Smile (Radio Edit)|   200|1538352124000|Mozilla/5.0 (Wind...|   246|\n",
                        "|          Carter USM| Logged In|    Sofia|     F|          266|   Gordon|138.29179| paid|       Rochester, MN|   PUT|       NextSong|1533175710000|      162|       Airplane Food|   200|1538352125000|\"Mozilla/5.0 (Mac...|   163|\n",
                        "|                null|Logged Out|     null|  null|          186|     null|     null| paid|                null|   GET|           Home|         null|      178|                null|   200|1538352148000|                null|      |\n",
                        "|                null|Logged Out|     null|  null|          187|     null|     null| paid|                null|   GET|           Home|         null|      178|                null|   200|1538352151000|                null|      |\n",
                        "|                null|Logged Out|     null|  null|          188|     null|     null| paid|                null|   GET|           Home|         null|      178|                null|   200|1538352168000|                null|      |\n",
                        "|                null|Logged Out|     null|  null|          189|     null|     null| paid|                null|   PUT|          Login|         null|      178|                null|   307|1538352169000|                null|      |\n",
                        "|                null| Logged In| Maverick|     M|          190| Santiago|     null| paid|Orlando-Kissimmee...|   GET|           Home|1535953455000|      178|                null|   200|1538352176000|\"Mozilla/5.0 (Mac...|   179|\n",
                        "|           Aerosmith| Logged In|    Lacey|     F|          107|Castaneda|220.39465| free|        El Campo, TX|   PUT|       NextSong|1537536032000|      442|       Walk This Way|   200|1538352215000|\"Mozilla/5.0 (Mac...|   175|\n",
                        "|                null| Logged In|    Colin|     M|            0|   Larson|     null| free|Dallas-Fort Worth...|   GET|           Home|1537982255000|      497|                null|   200|1538352241000|Mozilla/5.0 (Wind...|   100|\n",
                        "|       Amy Winehouse| Logged In|    Colin|     M|            1|   Larson|201.50812| free|Dallas-Fort Worth...|   PUT|       NextSong|1537982255000|      497|    Teach Me Tonight|   200|1538352259000|Mozilla/5.0 (Wind...|   100|\n",
                        "|Drake / Kanye Wes...| Logged In|    Sofia|     F|          267|   Gordon|357.66812| paid|       Rochester, MN|   PUT|       NextSong|1533175710000|      162|             Forever|   200|1538352263000|\"Mozilla/5.0 (Mac...|   163|\n",
                        "|           Bob Dylan| Logged In|   Gianna|     F|           23|   Campos|256.96608| paid|          Mobile, AL|   PUT|       NextSong|1535931018000|      245|Simple Twist Of Fate|   200|1538352318000|Mozilla/5.0 (Wind...|   246|\n",
                        "|        The Bar-Kays| Logged In| Maverick|     M|          191| Santiago|164.23138| paid|Orlando-Kissimmee...|   PUT|       NextSong|1535953455000|      178|         Montego Bay|   200|1538352320000|\"Mozilla/5.0 (Mac...|   179|\n",
                        "|          Black Kids| Logged In|   Payton|     F|           83| Campbell|251.48036| free|Los Angeles-Long ...|   PUT|       NextSong|1529027541000|       38|Look At Me (When ...|   200|1538352323000|\"Mozilla/5.0 (Win...|    39|\n",
                        "|                null| Logged In|    Sofia|     F|          268|   Gordon|     null| paid|       Rochester, MN|   GET|      Downgrade|1533175710000|      162|                null|   200|1538352336000|\"Mozilla/5.0 (Mac...|   163|\n",
                        "|                null| Logged In| Maverick|     M|          192| Santiago|     null| paid|Orlando-Kissimmee...|   PUT|Add to Playlist|1535953455000|      178|                null|   200|1538352376000|\"Mozilla/5.0 (Mac...|   179|\n",
                        "+--------------------+----------+---------+------+-------------+---------+---------+-----+--------------------+------+---------------+-------------+---------+--------------------+------+-------------+--------------------+------+\n",
                        "only showing top 20 rows\n",
                        "\n"
                    ]
                }
            ],
            "source": [
                "df_data_1.show()"
            ]
        },
        {
            "cell_type": "code",
            "execution_count": 6,
            "metadata": {},
            "outputs": [
                {
                    "name": "stdout",
                    "output_type": "stream",
                    "text": [
                        "(543705, 18)\n"
                    ]
                },
                {
                    "name": "stderr",
                    "output_type": "stream",
                    "text": [
                        "                                                                                \r"
                    ]
                }
            ],
            "source": [
                "print((df_data_1.count(), len(df_data_1.columns)))"
            ]
        },
        {
            "cell_type": "code",
            "execution_count": 8,
            "metadata": {},
            "outputs": [
                {
                    "name": "stderr",
                    "output_type": "stream",
                    "text": [
                        "                                                                                \r"
                    ]
                },
                {
                    "data": {
                        "text/html": [
                            "<div>\n",
                            "<style scoped>\n",
                            "    .dataframe tbody tr th:only-of-type {\n",
                            "        vertical-align: middle;\n",
                            "    }\n",
                            "\n",
                            "    .dataframe tbody tr th {\n",
                            "        vertical-align: top;\n",
                            "    }\n",
                            "\n",
                            "    .dataframe thead th {\n",
                            "        text-align: right;\n",
                            "    }\n",
                            "</style>\n",
                            "<table border=\"1\" class=\"dataframe\">\n",
                            "  <thead>\n",
                            "    <tr style=\"text-align: right;\">\n",
                            "      <th></th>\n",
                            "      <th>artist</th>\n",
                            "      <th>auth</th>\n",
                            "      <th>firstName</th>\n",
                            "      <th>gender</th>\n",
                            "      <th>itemInSession</th>\n",
                            "      <th>lastName</th>\n",
                            "      <th>length</th>\n",
                            "      <th>level</th>\n",
                            "      <th>location</th>\n",
                            "      <th>method</th>\n",
                            "      <th>page</th>\n",
                            "      <th>registration</th>\n",
                            "      <th>sessionId</th>\n",
                            "      <th>song</th>\n",
                            "      <th>status</th>\n",
                            "      <th>ts</th>\n",
                            "      <th>userAgent</th>\n",
                            "      <th>userId</th>\n",
                            "    </tr>\n",
                            "  </thead>\n",
                            "  <tbody>\n",
                            "    <tr>\n",
                            "      <th>0</th>\n",
                            "      <td>Martin Orford</td>\n",
                            "      <td>Logged In</td>\n",
                            "      <td>Joseph</td>\n",
                            "      <td>M</td>\n",
                            "      <td>20</td>\n",
                            "      <td>Morales</td>\n",
                            "      <td>597.55057</td>\n",
                            "      <td>free</td>\n",
                            "      <td>Corpus Christi, TX</td>\n",
                            "      <td>PUT</td>\n",
                            "      <td>NextSong</td>\n",
                            "      <td>1.532064e+12</td>\n",
                            "      <td>292</td>\n",
                            "      <td>Grand Designs</td>\n",
                            "      <td>200</td>\n",
                            "      <td>1538352011000</td>\n",
                            "      <td>\"Mozilla/5.0 (Macintosh; Intel Mac OS X 10_9_4...</td>\n",
                            "      <td>293</td>\n",
                            "    </tr>\n",
                            "    <tr>\n",
                            "      <th>1</th>\n",
                            "      <td>John Brown's Body</td>\n",
                            "      <td>Logged In</td>\n",
                            "      <td>Sawyer</td>\n",
                            "      <td>M</td>\n",
                            "      <td>74</td>\n",
                            "      <td>Larson</td>\n",
                            "      <td>380.21179</td>\n",
                            "      <td>free</td>\n",
                            "      <td>Houston-The Woodlands-Sugar Land, TX</td>\n",
                            "      <td>PUT</td>\n",
                            "      <td>NextSong</td>\n",
                            "      <td>1.538070e+12</td>\n",
                            "      <td>97</td>\n",
                            "      <td>Bulls</td>\n",
                            "      <td>200</td>\n",
                            "      <td>1538352025000</td>\n",
                            "      <td>\"Mozilla/5.0 (Macintosh; Intel Mac OS X 10_9_4...</td>\n",
                            "      <td>98</td>\n",
                            "    </tr>\n",
                            "    <tr>\n",
                            "      <th>2</th>\n",
                            "      <td>Afroman</td>\n",
                            "      <td>Logged In</td>\n",
                            "      <td>Maverick</td>\n",
                            "      <td>M</td>\n",
                            "      <td>184</td>\n",
                            "      <td>Santiago</td>\n",
                            "      <td>202.37016</td>\n",
                            "      <td>paid</td>\n",
                            "      <td>Orlando-Kissimmee-Sanford, FL</td>\n",
                            "      <td>PUT</td>\n",
                            "      <td>NextSong</td>\n",
                            "      <td>1.535953e+12</td>\n",
                            "      <td>178</td>\n",
                            "      <td>Because I Got High</td>\n",
                            "      <td>200</td>\n",
                            "      <td>1538352118000</td>\n",
                            "      <td>\"Mozilla/5.0 (Macintosh; Intel Mac OS X 10_9_4...</td>\n",
                            "      <td>179</td>\n",
                            "    </tr>\n",
                            "    <tr>\n",
                            "      <th>3</th>\n",
                            "      <td>None</td>\n",
                            "      <td>Logged In</td>\n",
                            "      <td>Maverick</td>\n",
                            "      <td>M</td>\n",
                            "      <td>185</td>\n",
                            "      <td>Santiago</td>\n",
                            "      <td>NaN</td>\n",
                            "      <td>paid</td>\n",
                            "      <td>Orlando-Kissimmee-Sanford, FL</td>\n",
                            "      <td>PUT</td>\n",
                            "      <td>Logout</td>\n",
                            "      <td>1.535953e+12</td>\n",
                            "      <td>178</td>\n",
                            "      <td>None</td>\n",
                            "      <td>307</td>\n",
                            "      <td>1538352119000</td>\n",
                            "      <td>\"Mozilla/5.0 (Macintosh; Intel Mac OS X 10_9_4...</td>\n",
                            "      <td>179</td>\n",
                            "    </tr>\n",
                            "    <tr>\n",
                            "      <th>4</th>\n",
                            "      <td>Lily Allen</td>\n",
                            "      <td>Logged In</td>\n",
                            "      <td>Gianna</td>\n",
                            "      <td>F</td>\n",
                            "      <td>22</td>\n",
                            "      <td>Campos</td>\n",
                            "      <td>194.53342</td>\n",
                            "      <td>paid</td>\n",
                            "      <td>Mobile, AL</td>\n",
                            "      <td>PUT</td>\n",
                            "      <td>NextSong</td>\n",
                            "      <td>1.535931e+12</td>\n",
                            "      <td>245</td>\n",
                            "      <td>Smile (Radio Edit)</td>\n",
                            "      <td>200</td>\n",
                            "      <td>1538352124000</td>\n",
                            "      <td>Mozilla/5.0 (Windows NT 6.1; WOW64; rv:31.0) G...</td>\n",
                            "      <td>246</td>\n",
                            "    </tr>\n",
                            "  </tbody>\n",
                            "</table>\n",
                            "</div>"
                        ],
                        "text/plain": [
                            "              artist       auth firstName gender  itemInSession  lastName  \\\n",
                            "0      Martin Orford  Logged In    Joseph      M             20   Morales   \n",
                            "1  John Brown's Body  Logged In    Sawyer      M             74    Larson   \n",
                            "2            Afroman  Logged In  Maverick      M            184  Santiago   \n",
                            "3               None  Logged In  Maverick      M            185  Santiago   \n",
                            "4         Lily Allen  Logged In    Gianna      F             22    Campos   \n",
                            "\n",
                            "      length level                              location method      page  \\\n",
                            "0  597.55057  free                    Corpus Christi, TX    PUT  NextSong   \n",
                            "1  380.21179  free  Houston-The Woodlands-Sugar Land, TX    PUT  NextSong   \n",
                            "2  202.37016  paid         Orlando-Kissimmee-Sanford, FL    PUT  NextSong   \n",
                            "3        NaN  paid         Orlando-Kissimmee-Sanford, FL    PUT    Logout   \n",
                            "4  194.53342  paid                            Mobile, AL    PUT  NextSong   \n",
                            "\n",
                            "   registration  sessionId                song  status             ts  \\\n",
                            "0  1.532064e+12        292       Grand Designs     200  1538352011000   \n",
                            "1  1.538070e+12         97               Bulls     200  1538352025000   \n",
                            "2  1.535953e+12        178  Because I Got High     200  1538352118000   \n",
                            "3  1.535953e+12        178                None     307  1538352119000   \n",
                            "4  1.535931e+12        245  Smile (Radio Edit)     200  1538352124000   \n",
                            "\n",
                            "                                           userAgent userId  \n",
                            "0  \"Mozilla/5.0 (Macintosh; Intel Mac OS X 10_9_4...    293  \n",
                            "1  \"Mozilla/5.0 (Macintosh; Intel Mac OS X 10_9_4...     98  \n",
                            "2  \"Mozilla/5.0 (Macintosh; Intel Mac OS X 10_9_4...    179  \n",
                            "3  \"Mozilla/5.0 (Macintosh; Intel Mac OS X 10_9_4...    179  \n",
                            "4  Mozilla/5.0 (Windows NT 6.1; WOW64; rv:31.0) G...    246  "
                        ]
                    },
                    "execution_count": 8,
                    "metadata": {},
                    "output_type": "execute_result"
                }
            ],
            "source": [
                "df_pandas = df_data_1.toPandas()\n",
                "df_pandas.head()"
            ]
        },
        {
            "cell_type": "code",
            "execution_count": 9,
            "metadata": {},
            "outputs": [
                {
                    "data": {
                        "text/plain": [
                            "(array(['Logged In', 'Logged Out', 'Cancelled', 'Guest'], dtype=object),\n",
                            " array(['free', 'paid'], dtype=object),\n",
                            " array(['PUT', 'GET'], dtype=object),\n",
                            " array(['NextSong', 'Logout', 'Home', 'Login', 'Downgrade',\n",
                            "        'Add to Playlist', 'Roll Advert', 'Thumbs Up', 'Help',\n",
                            "        'Thumbs Down', 'Add Friend', 'About', 'Settings', 'Save Settings',\n",
                            "        'Upgrade', 'Submit Downgrade', 'Cancel',\n",
                            "        'Cancellation Confirmation', 'Submit Upgrade', 'Error', 'Register',\n",
                            "        'Submit Registration'], dtype=object),\n",
                            " array([200, 307, 404]))"
                        ]
                    },
                    "execution_count": 9,
                    "metadata": {},
                    "output_type": "execute_result"
                }
            ],
            "source": [
                "df_pandas.auth.unique(), df_pandas.level.unique(), df_pandas.method.unique(), df_pandas.page.unique(), df_pandas.status.unique()"
            ]
        },
        {
            "cell_type": "code",
            "execution_count": 9,
            "metadata": {},
            "outputs": [
                {
                    "name": "stderr",
                    "output_type": "stream",
                    "text": [
                        "                                                                                \r"
                    ]
                },
                {
                    "data": {
                        "text/plain": [
                            "(21248, 80293, 1006, 193, 4590, 449)"
                        ]
                    },
                    "execution_count": 9,
                    "metadata": {},
                    "output_type": "execute_result"
                }
            ],
            "source": [
                "df_data_1.select('artist').distinct().count(), df_data_1.select('song').distinct().count(), df_data_1.select('itemInSession').distinct().count(), df_data_1.select('location').distinct().count(), \\\n",
                " df_data_1.select('sessionId').distinct().count(), df_data_1.select('userId').distinct().count()"
            ]
        },
        {
            "cell_type": "code",
            "execution_count": 11,
            "metadata": {},
            "outputs": [
                {
                    "data": {
                        "text/plain": [
                            "(15700, 15700)"
                        ]
                    },
                    "execution_count": 11,
                    "metadata": {},
                    "output_type": "execute_result"
                }
            ],
            "source": [
                "df_pandas[df_pandas.userId == '']['userId'].count(), df_pandas[df_pandas.userId == '']['sessionId'].count()"
            ]
        },
        {
            "cell_type": "code",
            "execution_count": 4,
            "metadata": {},
            "outputs": [
                {
                    "data": {
                        "text/plain": [
                            "(0, 0)"
                        ]
                    },
                    "execution_count": 4,
                    "metadata": {},
                    "output_type": "execute_result"
                }
            ],
            "source": [
                "df_data_1 = df_data_1.filter(df_data_1.userId != '')\n",
                "df_data_1.filter(df_data_1.userId == '').count(), df_data_1.filter(df_data_1.sessionId == '').count()"
            ]
        },
        {
            "cell_type": "code",
            "execution_count": 5,
            "metadata": {},
            "outputs": [
                {
                    "name": "stderr",
                    "output_type": "stream",
                    "text": [
                        "                                                                                \r"
                    ]
                },
                {
                    "data": {
                        "text/plain": [
                            "(21248, 80293, 1006, 192, 4470, 448)"
                        ]
                    },
                    "execution_count": 5,
                    "metadata": {},
                    "output_type": "execute_result"
                }
            ],
            "source": [
                "df_pandas = df_data_1.toPandas()\n",
                "df_data_1.select('artist').distinct().count(), df_data_1.select('song').distinct().count(), df_data_1.select('itemInSession').distinct().count(), df_data_1.select('location').distinct().count(), \\\n",
                " df_data_1.select('sessionId').distinct().count(), df_data_1.select('userId').distinct().count()"
            ]
        },
        {
            "cell_type": "code",
            "execution_count": 6,
            "metadata": {},
            "outputs": [
                {
                    "data": {
                        "text/plain": [
                            "(array(['Logged In', 'Cancelled'], dtype=object),\n",
                            " array(['free', 'paid'], dtype=object),\n",
                            " array(['PUT', 'GET'], dtype=object),\n",
                            " array(['NextSong', 'Logout', 'Home', 'Downgrade', 'Add to Playlist',\n",
                            "        'Roll Advert', 'Thumbs Up', 'Help', 'Thumbs Down', 'Add Friend',\n",
                            "        'Settings', 'Save Settings', 'Upgrade', 'About',\n",
                            "        'Submit Downgrade', 'Cancel', 'Cancellation Confirmation',\n",
                            "        'Submit Upgrade', 'Error'], dtype=object),\n",
                            " array([200, 307, 404]))"
                        ]
                    },
                    "execution_count": 6,
                    "metadata": {},
                    "output_type": "execute_result"
                }
            ],
            "source": [
                "df_pandas.auth.unique(), df_pandas.level.unique(), df_pandas.method.unique(), df_pandas.page.unique(), df_pandas.status.unique()"
            ]
        },
        {
            "cell_type": "markdown",
            "metadata": {},
            "source": [
                "**Note**\n",
                "\n",
                "We noticed that the when we cleaned the userId and sessionId, the auth column lost two values 'Logged Out', and 'Guest' and the page column lost some values too which are: 'Login', 'Register', and 'Submit Registration'\n",
                "\n",
                "This is logical, as the users without a usedId, are either guests or logged out users. Only guests can Register, or Submit Registration, while only logged out users can  Login."
            ]
        },
        {
            "cell_type": "markdown",
            "metadata": {},
            "source": [
                "# Data Exploratory Analysis\n",
                "\n",
                "Here we load a medium-sized dataset to work, but the code is scalable to full large dataset."
            ]
        },
        {
            "cell_type": "markdown",
            "metadata": {},
            "source": [
                "## Define Churn\n",
                "\n",
                "Create a column \"Churn\" as the label, here we use \"Cancellation Confirmation\" events to define churn. We calculate churn for each userId, churn = 1 means this user churns."
            ]
        },
        {
            "cell_type": "code",
            "execution_count": 9,
            "metadata": {},
            "outputs": [],
            "source": [
                "cancellation_event = udf(lambda x: 1 if x == 'Cancellation Confirmation' else 0, IntegerType())\n",
                "df_data_1 = df_data_1.withColumn('churn', cancellation_event('page'))\n",
                "window = Window.partitionBy('userId').rangeBetween(Window.unboundedPreceding, Window.unboundedFollowing)\n",
                "df_data_1 = df_data_1.withColumn('churn', sum('churn').over(window))"
            ]
        },
        {
            "cell_type": "code",
            "execution_count": 10,
            "metadata": {},
            "outputs": [
                {
                    "name": "stderr",
                    "output_type": "stream",
                    "text": [
                        "[Stage 43:====>                                                   (1 + 11) / 12]\r"
                    ]
                },
                {
                    "name": "stdout",
                    "output_type": "stream",
                    "text": [
                        "+--------------------+---------+---------+------+-------------+---------+---------+-----+--------------------+------+-----------+-------------+---------+--------------------+------+-------------+--------------------+------+-----+\n",
                        "|              artist|     auth|firstName|gender|itemInSession| lastName|   length|level|            location|method|       page| registration|sessionId|                song|status|           ts|           userAgent|userId|churn|\n",
                        "+--------------------+---------+---------+------+-------------+---------+---------+-----+--------------------+------+-----------+-------------+---------+--------------------+------+-------------+--------------------+------+-----+\n",
                        "|              Darude|Logged In| Darianna|     F|            0|Carpenter|226.08934| free|Bridgeport-Stamfo...|   PUT|   NextSong|1538016340000|       62|           Sandstorm|   200|1538991392000|\"Mozilla/5.0 (iPh...|100010|    1|\n",
                        "|             Justice|Logged In| Darianna|     F|            1|Carpenter|285.41342| free|Bridgeport-Stamfo...|   PUT|   NextSong|1538016340000|       62|Phantom Part 1.5 ...|   200|1538991618000|\"Mozilla/5.0 (iPh...|100010|    1|\n",
                        "|    Five Iron Frenzy|Logged In| Darianna|     F|            2|Carpenter|236.09424| free|Bridgeport-Stamfo...|   PUT|   NextSong|1538016340000|       62|              Canada|   200|1538991903000|\"Mozilla/5.0 (iPh...|100010|    1|\n",
                        "|          Carpenters|Logged In| Darianna|     F|            3|Carpenter|250.25261| free|Bridgeport-Stamfo...|   PUT|   NextSong|1538016340000|       62|      Ticket To Ride|   200|1538992139000|\"Mozilla/5.0 (iPh...|100010|    1|\n",
                        "|               Uffie|Logged In| Darianna|     F|            4|Carpenter|227.52608| free|Bridgeport-Stamfo...|   PUT|   NextSong|1538016340000|       62|   Dismissed (Uffie)|   200|1538992389000|\"Mozilla/5.0 (iPh...|100010|    1|\n",
                        "|       Lonnie Gordon|Logged In| Darianna|     F|            5|Carpenter|181.21098| free|Bridgeport-Stamfo...|   PUT|   NextSong|1538016340000|       62|Catch You Baby (S...|   200|1538992616000|\"Mozilla/5.0 (iPh...|100010|    1|\n",
                        "|            Calle 13|Logged In| Darianna|     F|            6|Carpenter|267.67628| free|Bridgeport-Stamfo...|   PUT|   NextSong|1538016340000|       62|     Fiesta De Locos|   200|1538992797000|\"Mozilla/5.0 (iPh...|100010|    1|\n",
                        "|            Ice Cube|Logged In| Darianna|     F|            7|Carpenter|248.29342| free|Bridgeport-Stamfo...|   PUT|   NextSong|1538016340000|       62|U Ain't Gonna Tak...|   200|1538993064000|\"Mozilla/5.0 (iPh...|100010|    1|\n",
                        "|                null|Logged In| Darianna|     F|            8|Carpenter|     null| free|Bridgeport-Stamfo...|   GET|Roll Advert|1538016340000|       62|                null|   200|1538993076000|\"Mozilla/5.0 (iPh...|100010|    1|\n",
                        "|        Wakey!Wakey!|Logged In| Darianna|     F|            9|Carpenter|173.40036| free|Bridgeport-Stamfo...|   PUT|   NextSong|1538016340000|       62|       Dance So Good|   200|1538993312000|\"Mozilla/5.0 (iPh...|100010|    1|\n",
                        "|Mick Abrahams fro...|Logged In| Darianna|     F|           10|Carpenter| 202.9971| free|Bridgeport-Stamfo...|   PUT|   NextSong|1538016340000|       62|    Sonf For Jeffery|   200|1538993485000|\"Mozilla/5.0 (iPh...|100010|    1|\n",
                        "|                null|Logged In| Darianna|     F|           11|Carpenter|     null| free|Bridgeport-Stamfo...|   GET|       Home|1538016340000|       62|                null|   200|1538993496000|\"Mozilla/5.0 (iPh...|100010|    1|\n",
                        "|      Colbie Caillat|Logged In| Darianna|     F|           12|Carpenter|355.57832| free|Bridgeport-Stamfo...|   PUT|   NextSong|1538016340000|       62|Turn Your Lights ...|   200|1538993687000|\"Mozilla/5.0 (iPh...|100010|    1|\n",
                        "|                  LU|Logged In| Darianna|     F|           13|Carpenter|258.84689| free|Bridgeport-Stamfo...|   PUT|   NextSong|1538016340000|       62|               Maria|   200|1538994042000|\"Mozilla/5.0 (iPh...|100010|    1|\n",
                        "|                null|Logged In| Darianna|     F|           14|Carpenter|     null| free|Bridgeport-Stamfo...|   GET|Roll Advert|1538016340000|       62|                null|   200|1538994047000|\"Mozilla/5.0 (iPh...|100010|    1|\n",
                        "|         Linkin Park|Logged In| Darianna|     F|           15|Carpenter|259.86567| free|Bridgeport-Stamfo...|   PUT|   NextSong|1538016340000|       62|         My December|   200|1538994300000|\"Mozilla/5.0 (iPh...|100010|    1|\n",
                        "|   Alanis Morissette|Logged In| Darianna|     F|           16|Carpenter|239.41179| free|Bridgeport-Stamfo...|   PUT|   NextSong|1538016340000|       62|You Learn (Album ...|   200|1538994559000|\"Mozilla/5.0 (iPh...|100010|    1|\n",
                        "|              G-Unit|Logged In| Darianna|     F|           17|Carpenter|287.00689| free|Bridgeport-Stamfo...|   PUT|   NextSong|1538016340000|       62|              G'D Up|   200|1538994798000|\"Mozilla/5.0 (iPh...|100010|    1|\n",
                        "|       Billy Stewart|Logged In| Darianna|     F|           18|Carpenter|160.70485| free|Bridgeport-Stamfo...|   PUT|   NextSong|1538016340000|       62|          Summertime|   200|1538995085000|\"Mozilla/5.0 (iPh...|100010|    1|\n",
                        "|      Zac Brown Band|Logged In| Darianna|     F|           19|Carpenter|237.08689| free|Bridgeport-Stamfo...|   PUT|   NextSong|1538016340000|       62|Chicken Fried (Al...|   200|1538995245000|\"Mozilla/5.0 (iPh...|100010|    1|\n",
                        "+--------------------+---------+---------+------+-------------+---------+---------+-----+--------------------+------+-----------+-------------+---------+--------------------+------+-------------+--------------------+------+-----+\n",
                        "only showing top 20 rows\n",
                        "\n"
                    ]
                },
                {
                    "name": "stderr",
                    "output_type": "stream",
                    "text": [
                        "                                                                                \r"
                    ]
                }
            ],
            "source": [
                "df_data_1.show()"
            ]
        },
        {
            "cell_type": "markdown",
            "metadata": {},
            "source": [
                "## Explore Data\n",
                "Once we defined churn, perform exploratory analysis to find out who impacts churn."
            ]
        },
        {
            "cell_type": "code",
            "execution_count": 389,
            "metadata": {},
            "outputs": [
                {
                    "name": "stderr",
                    "output_type": "stream",
                    "text": [
                        "[Stage 2856:=================================================>    (12 + 1) / 13]\r"
                    ]
                },
                {
                    "name": "stdout",
                    "output_type": "stream",
                    "text": [
                        "+------+----+---------+------+-------------+--------+------+-----+--------+------+----+------------+---------+-----+------+---+---------+------+-----+----+---+-----+--------+----------------+-----+\n",
                        "|artist|auth|firstName|gender|itemInSession|lastName|length|level|location|method|page|registration|sessionId| song|status| ts|userAgent|userId|churn|hour|day|month|week_day|computer_systems|State|\n",
                        "+------+----+---------+------+-------------+--------+------+-----+--------+------+----+------------+---------+-----+------+---+---------+------+-----+----+---+-----+--------+----------------+-----+\n",
                        "| 95128|   0|        0|     0|            0|       0| 95128|    0|       0|     0|   0|           0|        0|95129|     0|  0|        0|     0|    0|   0|  0|    0|       0|               0|    0|\n",
                        "+------+----+---------+------+-------------+--------+------+-----+--------+------+----+------------+---------+-----+------+---+---------+------+-----+----+---+-----+--------+----------------+-----+\n",
                        "\n"
                    ]
                },
                {
                    "name": "stderr",
                    "output_type": "stream",
                    "text": [
                        "                                                                                \r"
                    ]
                }
            ],
            "source": [
                "# Count missing values for each column\n",
                "# Since number of null rows is high, just keep those rows for now\n",
                "from pyspark.sql.functions import col, trim, lower\n",
                "df_data_1.select([count(when(isnan(c) | col(c).isNull(), c)).alias(c) for c in df_data_1.columns]).show()"
            ]
        },
        {
            "cell_type": "code",
            "execution_count": 12,
            "metadata": {},
            "outputs": [
                {
                    "name": "stderr",
                    "output_type": "stream",
                    "text": [
                        "                                                                                \r"
                    ]
                },
                {
                    "name": "stdout",
                    "output_type": "stream",
                    "text": [
                        "+-----+-----+\n",
                        "|churn|count|\n",
                        "+-----+-----+\n",
                        "|    0|  349|\n",
                        "|    1|   99|\n",
                        "+-----+-----+\n",
                        "\n"
                    ]
                },
                {
                    "name": "stderr",
                    "output_type": "stream",
                    "text": [
                        "                                                                                \r"
                    ]
                },
                {
                    "name": "stdout",
                    "output_type": "stream",
                    "text": [
                        "+-----+------+-----+\n",
                        "|churn|gender|count|\n",
                        "+-----+------+-----+\n",
                        "|    0|     F|  153|\n",
                        "|    1|     M|   54|\n",
                        "|    1|     F|   45|\n",
                        "|    0|     M|  196|\n",
                        "+-----+------+-----+\n",
                        "\n"
                    ]
                },
                {
                    "name": "stderr",
                    "output_type": "stream",
                    "text": [
                        "[Stage 64:====>                                                   (1 + 11) / 12]\r"
                    ]
                },
                {
                    "name": "stdout",
                    "output_type": "stream",
                    "text": [
                        "+-----+-----+-----+\n",
                        "|level|churn|count|\n",
                        "+-----+-----+-----+\n",
                        "| free|    0|  288|\n",
                        "| paid|    0|  246|\n",
                        "| free|    1|   82|\n",
                        "| paid|    1|   75|\n",
                        "+-----+-----+-----+\n",
                        "\n"
                    ]
                },
                {
                    "name": "stderr",
                    "output_type": "stream",
                    "text": [
                        "                                                                                \r"
                    ]
                },
                {
                    "data": {
                        "text/plain": [
                            "(None, None, None)"
                        ]
                    },
                    "execution_count": 12,
                    "metadata": {},
                    "output_type": "execute_result"
                }
            ],
            "source": [
                "df_data_1.drop_duplicates(['userId']).groupby(['churn']).count().show(), \\\n",
                "df_data_1.drop_duplicates(['userId', 'gender']).groupby(['churn', 'gender']).count().show(), \\\n",
                "df_data_1.drop_duplicates(['userId', 'level']).groupby(['level', 'churn']).count().show()"
            ]
        },
        {
            "cell_type": "code",
            "execution_count": 13,
            "metadata": {},
            "outputs": [
                {
                    "name": "stderr",
                    "output_type": "stream",
                    "text": [
                        "                                                                                \r"
                    ]
                }
            ],
            "source": [
                "df_pandas = df_data_1.toPandas()"
            ]
        },
        {
            "cell_type": "code",
            "execution_count": 14,
            "metadata": {},
            "outputs": [
                {
                    "name": "stdout",
                    "output_type": "stream",
                    "text": [
                        "+--------------------+\n",
                        "|                page|\n",
                        "+--------------------+\n",
                        "|              Cancel|\n",
                        "|    Submit Downgrade|\n",
                        "|         Thumbs Down|\n",
                        "|                Home|\n",
                        "|           Downgrade|\n",
                        "|         Roll Advert|\n",
                        "|              Logout|\n",
                        "|       Save Settings|\n",
                        "|Cancellation Conf...|\n",
                        "|               About|\n",
                        "|            Settings|\n",
                        "|     Add to Playlist|\n",
                        "|          Add Friend|\n",
                        "|            NextSong|\n",
                        "|           Thumbs Up|\n",
                        "|                Help|\n",
                        "|             Upgrade|\n",
                        "|               Error|\n",
                        "|      Submit Upgrade|\n",
                        "+--------------------+\n",
                        "\n"
                    ]
                }
            ],
            "source": [
                "df_data_1.select('page').distinct().show()"
            ]
        },
        {
            "cell_type": "markdown",
            "metadata": {},
            "source": [
                "**Note**\n",
                "There are 349 users stay while 99 churn."
            ]
        },
        {
            "cell_type": "code",
            "execution_count": 15,
            "metadata": {},
            "outputs": [
                {
                    "data": {
                        "image/png": "[encoded data removed]",
                        "text/plain": [
                            "<Figure size 576x360 with 1 Axes>"
                        ]
                    },
                    "metadata": {
                        "needs_background": "light"
                    },
                    "output_type": "display_data"
                }
            ],
            "source": [
                "# Plot frequency\n",
                "\n",
                "def plot_frequency(subset, group, labels, x_title = 'Number of users', y_title='Subscription status'):\n",
                "    ax = df_pandas.drop_duplicates(subset = subset).groupby(group)['userId'].count().plot(\n",
                "        kind = 'barh', figsize=(8,5), title='Number of unique users per category')\n",
                "    \n",
                "    ax.set_xlabel(x_title)\n",
                "    ax.set_ylabel(y_title)\n",
                "    ax.set_yticklabels(labels, rotation=0)\n",
                "\n",
                "plot_frequency(['userId'], ['churn'], ['Active', 'Cancelled'])"
            ]
        },
        {
            "cell_type": "markdown",
            "metadata": {},
            "source": [
                "There is a huge number of cancellation, about 25% of the users cancelled!"
            ]
        },
        {
            "cell_type": "code",
            "execution_count": 16,
            "metadata": {},
            "outputs": [
                {
                    "data": {
                        "image/png": "[encoded data removed]",
                        "text/plain": [
                            "<Figure size 576x360 with 1 Axes>"
                        ]
                    },
                    "metadata": {
                        "needs_background": "light"
                    },
                    "output_type": "display_data"
                }
            ],
            "source": [
                "plot_frequency(['userId', 'gender'], ['gender', 'churn'], ['Active-Female', 'Cancelled-Female', 'Active-Male', 'Cancelled-Male'])"
            ]
        },
        {
            "cell_type": "markdown",
            "metadata": {},
            "source": [
                "We see that more male users cancelled than females. Gender may affect churn."
            ]
        },
        {
            "cell_type": "code",
            "execution_count": 17,
            "metadata": {},
            "outputs": [
                {
                    "data": {
                        "image/png": "[encoded data removed]",
                        "text/plain": [
                            "<Figure size 576x360 with 1 Axes>"
                        ]
                    },
                    "metadata": {
                        "needs_background": "light"
                    },
                    "output_type": "display_data"
                }
            ],
            "source": [
                "plot_frequency(['userId', 'level'], ['level', 'churn'], ['Active-Free', 'Cancelled-Free', 'Active-Paid', 'Cancelled-Paid'])"
            ]
        },
        {
            "cell_type": "markdown",
            "metadata": {},
            "source": [
                "Free users cancelled the service slightly more than paid users. Level may impact less than gender on churn."
            ]
        },
        {
            "cell_type": "code",
            "execution_count": 18,
            "metadata": {},
            "outputs": [
                {
                    "name": "stdout",
                    "output_type": "stream",
                    "text": [
                        "page\n",
                        "About                         0.959195\n",
                        "Add Friend                    7.969098\n",
                        "Add to Playlist              11.712552\n",
                        "Cancel                        0.513299\n",
                        "Cancellation Confirmation     0.513299\n",
                        "Downgrade                     4.308602\n",
                        "Error                         0.502929\n",
                        "Help                          2.680562\n",
                        "Home                         19.588324\n",
                        "Logout                        6.138850\n",
                        "Roll Advert                  11.334059\n",
                        "Save Settings                 0.539223\n",
                        "Settings                      3.209416\n",
                        "Submit Downgrade              0.150360\n",
                        "Submit Upgrade                0.362939\n",
                        "Thumbs Down                   5.993674\n",
                        "Thumbs Up                    22.294810\n",
                        "Upgrade                       1.228807\n",
                        "Name: userId, dtype: float64\n"
                    ]
                },
                {
                    "data": {
                        "text/plain": [
                            "Text(0.5, 1.0, 'Percent of envent occurence for active and cancelled users')"
                        ]
                    },
                    "execution_count": 18,
                    "metadata": {},
                    "output_type": "execute_result"
                },
                {
                    "data": {
                        "image/png": "[encoded data removed]",
                        "text/plain": [
                            "<Figure size 576x720 with 1 Axes>"
                        ]
                    },
                    "metadata": {
                        "needs_background": "light"
                    },
                    "output_type": "display_data"
                }
            ],
            "source": [
                "# Check the impact of page types on churn \n",
                "user_0 = df_pandas[df_pandas.churn == 0].groupby(['page'])['userId'].count().drop('NextSong')\n",
                "user_0 = 100 * user_0 /user_0.sum()\n",
                "\n",
                "user_1 = df_pandas[df_pandas.churn == 1].groupby(['page'])['userId'].count().drop('NextSong')\n",
                "user_1 = 100 * user_1 /user_1.sum()\n",
                "print(user_1)\n",
                "\n",
                "df_users = pd.DataFrame({'Active': user_0, 'Cancelled': user_1})\n",
                "ax = df_users.plot(kind = 'barh', figsize = (8, 10))\n",
                "ax.set_xlabel('Percent of envent occurence (%)')\n",
                "ax.set_title('Percent of envent occurence for active and cancelled users')"
            ]
        },
        {
            "cell_type": "markdown",
            "metadata": {},
            "source": [
                "It looks like people reviewing roll advert are more likely to cancel. Also, thumbs down users are more likely to cancel. "
            ]
        },
        {
            "cell_type": "markdown",
            "metadata": {},
            "source": [
                "## Time analysis "
            ]
        },
        {
            "cell_type": "code",
            "execution_count": 19,
            "metadata": {},
            "outputs": [],
            "source": [
                "import datetime\n",
                "\n",
                "\n",
                "get_hour = udf(lambda x: datetime.datetime.fromtimestamp(x / 1000.0).hour)\n",
                "get_day = udf(lambda x: datetime.datetime.fromtimestamp(x / 1000.0).day)\n",
                "get_month = udf(lambda x: datetime.datetime.fromtimestamp(x / 1000.0).month)\n",
                "get_weekday = udf(lambda x: datetime.datetime.fromtimestamp(x / 1000.0).strftime('%w'))\n"
            ]
        },
        {
            "cell_type": "code",
            "execution_count": 20,
            "metadata": {},
            "outputs": [
                {
                    "name": "stdout",
                    "output_type": "stream",
                    "text": [
                        "Column hour add successfully!\n",
                        "Column day add successfully!\n",
                        "Column month add successfully!\n",
                        "Column week_day add successfully!\n"
                    ]
                }
            ],
            "source": [
                "funcs = {'hour': get_hour,'day':get_day, 'month':get_month, 'week_day':get_weekday }\n",
                "for label, func in funcs.items():\n",
                "    df_data_1 = df_data_1.withColumn(label, func(df_data_1.ts))\n",
                "    print(f'Column {label} add successfully!')"
            ]
        },
        {
            "cell_type": "code",
            "execution_count": 21,
            "metadata": {},
            "outputs": [
                {
                    "name": "stderr",
                    "output_type": "stream",
                    "text": [
                        "                                                                                \r"
                    ]
                }
            ],
            "source": [
                "df_p = df_data_1.toPandas()"
            ]
        },
        {
            "cell_type": "code",
            "execution_count": 23,
            "metadata": {},
            "outputs": [
                {
                    "data": {
                        "text/html": [
                            "<div>\n",
                            "<style scoped>\n",
                            "    .dataframe tbody tr th:only-of-type {\n",
                            "        vertical-align: middle;\n",
                            "    }\n",
                            "\n",
                            "    .dataframe tbody tr th {\n",
                            "        vertical-align: top;\n",
                            "    }\n",
                            "\n",
                            "    .dataframe thead th {\n",
                            "        text-align: right;\n",
                            "    }\n",
                            "</style>\n",
                            "<table border=\"1\" class=\"dataframe\">\n",
                            "  <thead>\n",
                            "    <tr style=\"text-align: right;\">\n",
                            "      <th></th>\n",
                            "      <th>artist</th>\n",
                            "      <th>auth</th>\n",
                            "      <th>firstName</th>\n",
                            "      <th>gender</th>\n",
                            "      <th>itemInSession</th>\n",
                            "      <th>lastName</th>\n",
                            "      <th>length</th>\n",
                            "      <th>level</th>\n",
                            "      <th>location</th>\n",
                            "      <th>method</th>\n",
                            "      <th>...</th>\n",
                            "      <th>song</th>\n",
                            "      <th>status</th>\n",
                            "      <th>ts</th>\n",
                            "      <th>userAgent</th>\n",
                            "      <th>userId</th>\n",
                            "      <th>churn</th>\n",
                            "      <th>hour</th>\n",
                            "      <th>day</th>\n",
                            "      <th>month</th>\n",
                            "      <th>week_day</th>\n",
                            "    </tr>\n",
                            "  </thead>\n",
                            "  <tbody>\n",
                            "    <tr>\n",
                            "      <th>0</th>\n",
                            "      <td>Darude</td>\n",
                            "      <td>Logged In</td>\n",
                            "      <td>Darianna</td>\n",
                            "      <td>F</td>\n",
                            "      <td>0</td>\n",
                            "      <td>Carpenter</td>\n",
                            "      <td>226.08934</td>\n",
                            "      <td>free</td>\n",
                            "      <td>Bridgeport-Stamford-Norwalk, CT</td>\n",
                            "      <td>PUT</td>\n",
                            "      <td>...</td>\n",
                            "      <td>Sandstorm</td>\n",
                            "      <td>200</td>\n",
                            "      <td>1538991392000</td>\n",
                            "      <td>\"Mozilla/5.0 (iPhone; CPU iPhone OS 7_1_2 like...</td>\n",
                            "      <td>100010</td>\n",
                            "      <td>1</td>\n",
                            "      <td>5</td>\n",
                            "      <td>8</td>\n",
                            "      <td>10</td>\n",
                            "      <td>1</td>\n",
                            "    </tr>\n",
                            "    <tr>\n",
                            "      <th>1</th>\n",
                            "      <td>Justice</td>\n",
                            "      <td>Logged In</td>\n",
                            "      <td>Darianna</td>\n",
                            "      <td>F</td>\n",
                            "      <td>1</td>\n",
                            "      <td>Carpenter</td>\n",
                            "      <td>285.41342</td>\n",
                            "      <td>free</td>\n",
                            "      <td>Bridgeport-Stamford-Norwalk, CT</td>\n",
                            "      <td>PUT</td>\n",
                            "      <td>...</td>\n",
                            "      <td>Phantom Part 1.5 (Album Version)</td>\n",
                            "      <td>200</td>\n",
                            "      <td>1538991618000</td>\n",
                            "      <td>\"Mozilla/5.0 (iPhone; CPU iPhone OS 7_1_2 like...</td>\n",
                            "      <td>100010</td>\n",
                            "      <td>1</td>\n",
                            "      <td>5</td>\n",
                            "      <td>8</td>\n",
                            "      <td>10</td>\n",
                            "      <td>1</td>\n",
                            "    </tr>\n",
                            "    <tr>\n",
                            "      <th>2</th>\n",
                            "      <td>Five Iron Frenzy</td>\n",
                            "      <td>Logged In</td>\n",
                            "      <td>Darianna</td>\n",
                            "      <td>F</td>\n",
                            "      <td>2</td>\n",
                            "      <td>Carpenter</td>\n",
                            "      <td>236.09424</td>\n",
                            "      <td>free</td>\n",
                            "      <td>Bridgeport-Stamford-Norwalk, CT</td>\n",
                            "      <td>PUT</td>\n",
                            "      <td>...</td>\n",
                            "      <td>Canada</td>\n",
                            "      <td>200</td>\n",
                            "      <td>1538991903000</td>\n",
                            "      <td>\"Mozilla/5.0 (iPhone; CPU iPhone OS 7_1_2 like...</td>\n",
                            "      <td>100010</td>\n",
                            "      <td>1</td>\n",
                            "      <td>5</td>\n",
                            "      <td>8</td>\n",
                            "      <td>10</td>\n",
                            "      <td>1</td>\n",
                            "    </tr>\n",
                            "    <tr>\n",
                            "      <th>3</th>\n",
                            "      <td>Carpenters</td>\n",
                            "      <td>Logged In</td>\n",
                            "      <td>Darianna</td>\n",
                            "      <td>F</td>\n",
                            "      <td>3</td>\n",
                            "      <td>Carpenter</td>\n",
                            "      <td>250.25261</td>\n",
                            "      <td>free</td>\n",
                            "      <td>Bridgeport-Stamford-Norwalk, CT</td>\n",
                            "      <td>PUT</td>\n",
                            "      <td>...</td>\n",
                            "      <td>Ticket To Ride</td>\n",
                            "      <td>200</td>\n",
                            "      <td>1538992139000</td>\n",
                            "      <td>\"Mozilla/5.0 (iPhone; CPU iPhone OS 7_1_2 like...</td>\n",
                            "      <td>100010</td>\n",
                            "      <td>1</td>\n",
                            "      <td>5</td>\n",
                            "      <td>8</td>\n",
                            "      <td>10</td>\n",
                            "      <td>1</td>\n",
                            "    </tr>\n",
                            "    <tr>\n",
                            "      <th>4</th>\n",
                            "      <td>Uffie</td>\n",
                            "      <td>Logged In</td>\n",
                            "      <td>Darianna</td>\n",
                            "      <td>F</td>\n",
                            "      <td>4</td>\n",
                            "      <td>Carpenter</td>\n",
                            "      <td>227.52608</td>\n",
                            "      <td>free</td>\n",
                            "      <td>Bridgeport-Stamford-Norwalk, CT</td>\n",
                            "      <td>PUT</td>\n",
                            "      <td>...</td>\n",
                            "      <td>Dismissed (Uffie)</td>\n",
                            "      <td>200</td>\n",
                            "      <td>1538992389000</td>\n",
                            "      <td>\"Mozilla/5.0 (iPhone; CPU iPhone OS 7_1_2 like...</td>\n",
                            "      <td>100010</td>\n",
                            "      <td>1</td>\n",
                            "      <td>5</td>\n",
                            "      <td>8</td>\n",
                            "      <td>10</td>\n",
                            "      <td>1</td>\n",
                            "    </tr>\n",
                            "  </tbody>\n",
                            "</table>\n",
                            "<p>5 rows × 23 columns</p>\n",
                            "</div>"
                        ],
                        "text/plain": [
                            "             artist       auth firstName gender  itemInSession   lastName  \\\n",
                            "0            Darude  Logged In  Darianna      F              0  Carpenter   \n",
                            "1           Justice  Logged In  Darianna      F              1  Carpenter   \n",
                            "2  Five Iron Frenzy  Logged In  Darianna      F              2  Carpenter   \n",
                            "3        Carpenters  Logged In  Darianna      F              3  Carpenter   \n",
                            "4             Uffie  Logged In  Darianna      F              4  Carpenter   \n",
                            "\n",
                            "      length level                         location method  ...  \\\n",
                            "0  226.08934  free  Bridgeport-Stamford-Norwalk, CT    PUT  ...   \n",
                            "1  285.41342  free  Bridgeport-Stamford-Norwalk, CT    PUT  ...   \n",
                            "2  236.09424  free  Bridgeport-Stamford-Norwalk, CT    PUT  ...   \n",
                            "3  250.25261  free  Bridgeport-Stamford-Norwalk, CT    PUT  ...   \n",
                            "4  227.52608  free  Bridgeport-Stamford-Norwalk, CT    PUT  ...   \n",
                            "\n",
                            "                               song  status             ts  \\\n",
                            "0                         Sandstorm     200  1538991392000   \n",
                            "1  Phantom Part 1.5 (Album Version)     200  1538991618000   \n",
                            "2                            Canada     200  1538991903000   \n",
                            "3                    Ticket To Ride     200  1538992139000   \n",
                            "4                 Dismissed (Uffie)     200  1538992389000   \n",
                            "\n",
                            "                                           userAgent  userId  churn hour day  \\\n",
                            "0  \"Mozilla/5.0 (iPhone; CPU iPhone OS 7_1_2 like...  100010      1    5   8   \n",
                            "1  \"Mozilla/5.0 (iPhone; CPU iPhone OS 7_1_2 like...  100010      1    5   8   \n",
                            "2  \"Mozilla/5.0 (iPhone; CPU iPhone OS 7_1_2 like...  100010      1    5   8   \n",
                            "3  \"Mozilla/5.0 (iPhone; CPU iPhone OS 7_1_2 like...  100010      1    5   8   \n",
                            "4  \"Mozilla/5.0 (iPhone; CPU iPhone OS 7_1_2 like...  100010      1    5   8   \n",
                            "\n",
                            "   month week_day  \n",
                            "0     10        1  \n",
                            "1     10        1  \n",
                            "2     10        1  \n",
                            "3     10        1  \n",
                            "4     10        1  \n",
                            "\n",
                            "[5 rows x 23 columns]"
                        ]
                    },
                    "execution_count": 23,
                    "metadata": {},
                    "output_type": "execute_result"
                }
            ],
            "source": [
                "df_p.head()"
            ]
        },
        {
            "cell_type": "code",
            "execution_count": 22,
            "metadata": {},
            "outputs": [],
            "source": [
                "def get_user_time(time, churn):\n",
                "\n",
                "    user_time = df_p[df_p.churn == churn].groupby(time)['userId'].count()\n",
                "    perc_time = 100 * user_time / user_time.sum()\n",
                "    try:\n",
                "        perc_time.index = perc_time.index.astype(int)\n",
                "    except:\n",
                "        pass\n",
                "    return perc_time.sort_index()\n",
                "\n",
                "\n",
                "def plot_time_dist(time, figsize=(15,4), title=None, label_rotation=0):\n",
                "\n",
                "    df_time = pd.DataFrame({'Cancelled': get_user_time(time, 1), 'Active': get_user_time(time, 0)})\n",
                "    ax = df_time.plot(kind='bar', figsize=figsize)\n",
                "    ax.set_ylabel('Percent of users')\n",
                "    if title == None:\n",
                "        title = time\n",
                "    ax.set_ylabel(f'Percent of users')\n",
                "    #print(ax.get_xticks())\n",
                "    ax.set_xticklabels(ax.get_xticklabels(), rotation=label_rotation)\n",
                "    ax.set_title(f'Percent of users took action per {title}') \n",
                "    return ax"
            ]
        },
        {
            "cell_type": "code",
            "execution_count": 23,
            "metadata": {},
            "outputs": [
                {
                    "data": {
                        "text/plain": [
                            "<AxesSubplot:title={'center':'Percent of users took action per hour of the day'}, xlabel='hour', ylabel='Percent of users'>"
                        ]
                    },
                    "execution_count": 23,
                    "metadata": {},
                    "output_type": "execute_result"
                },
                {
                    "data": {
                        "image/png": "[encoded data removed]",
                        "text/plain": [
                            "<Figure size 1080x288 with 1 Axes>"
                        ]
                    },
                    "metadata": {
                        "needs_background": "light"
                    },
                    "output_type": "display_data"
                }
            ],
            "source": [
                "plot_time_dist('hour', title = 'hour of the day')"
            ]
        },
        {
            "cell_type": "markdown",
            "metadata": {},
            "source": [
                "It looks like the number of active and churn users are pretty close for each hour, except for between 13:00 and 16:00 when more users churn."
            ]
        },
        {
            "cell_type": "code",
            "execution_count": 24,
            "metadata": {},
            "outputs": [
                {
                    "data": {
                        "text/plain": [
                            "<AxesSubplot:title={'center':'Percent of users took action per month'}, xlabel='month', ylabel='Percent of users'>"
                        ]
                    },
                    "execution_count": 24,
                    "metadata": {},
                    "output_type": "execute_result"
                },
                {
                    "data": {
                        "image/png": "[encoded data removed]",
                        "text/plain": [
                            "<Figure size 1080x288 with 1 Axes>"
                        ]
                    },
                    "metadata": {
                        "needs_background": "light"
                    },
                    "output_type": "display_data"
                }
            ],
            "source": [
                "plot_time_dist('month', title = 'month')"
            ]
        },
        {
            "cell_type": "markdown",
            "metadata": {},
            "source": [
                "Obviously, more users churned in October. Month significantly impacts churn rate."
            ]
        },
        {
            "cell_type": "code",
            "execution_count": 25,
            "metadata": {},
            "outputs": [
                {
                    "data": {
                        "text/plain": [
                            "<AxesSubplot:title={'center':'Percent of users took action per day'}, xlabel='day', ylabel='Percent of users'>"
                        ]
                    },
                    "execution_count": 25,
                    "metadata": {},
                    "output_type": "execute_result"
                },
                {
                    "data": {
                        "image/png": "[encoded data removed]",
                        "text/plain": [
                            "<Figure size 1080x288 with 1 Axes>"
                        ]
                    },
                    "metadata": {
                        "needs_background": "light"
                    },
                    "output_type": "display_data"
                }
            ],
            "source": [
                "plot_time_dist('day', title = 'day')"
            ]
        },
        {
            "cell_type": "markdown",
            "metadata": {},
            "source": [
                "More users walked away at the beginning of the month."
            ]
        },
        {
            "cell_type": "code",
            "execution_count": 26,
            "metadata": {},
            "outputs": [
                {
                    "data": {
                        "text/plain": [
                            "[Text(0, 0, 'Mon'),\n",
                            " Text(1, 0, 'Tue'),\n",
                            " Text(2, 0, 'Wed'),\n",
                            " Text(3, 0, 'Thu'),\n",
                            " Text(4, 0, 'Fri'),\n",
                            " Text(5, 0, 'Sat'),\n",
                            " Text(6, 0, 'Sun')]"
                        ]
                    },
                    "execution_count": 26,
                    "metadata": {},
                    "output_type": "execute_result"
                },
                {
                    "data": {
                        "image/png": "[encoded data removed]",
                        "text/plain": [
                            "<Figure size 1080x288 with 1 Axes>"
                        ]
                    },
                    "metadata": {
                        "needs_background": "light"
                    },
                    "output_type": "display_data"
                }
            ],
            "source": [
                "ax = plot_time_dist('week_day', title = 'weekday')\n",
                "ax.set_xticklabels(['Mon', 'Tue', 'Wed', 'Thu', 'Fri', 'Sat', 'Sun'], rotation=0)"
            ]
        },
        {
            "cell_type": "markdown",
            "metadata": {},
            "source": [
                "More churn happened on Mon, Wed, Fri. "
            ]
        },
        {
            "cell_type": "markdown",
            "metadata": {},
            "source": [
                "## Check categorical variables"
            ]
        },
        {
            "cell_type": "markdown",
            "metadata": {},
            "source": [
                "1. User agent"
            ]
        },
        {
            "cell_type": "code",
            "execution_count": 27,
            "metadata": {},
            "outputs": [
                {
                    "data": {
                        "text/plain": [
                            "71"
                        ]
                    },
                    "execution_count": 27,
                    "metadata": {},
                    "output_type": "execute_result"
                }
            ],
            "source": [
                "df_p.userAgent.unique().shape[0]"
            ]
        },
        {
            "cell_type": "code",
            "execution_count": 40,
            "metadata": {},
            "outputs": [],
            "source": [
                "agents = [x.strip() for x  in df_p.userAgent.unique() if x is not None] "
            ]
        },
        {
            "cell_type": "code",
            "execution_count": 43,
            "metadata": {},
            "outputs": [
                {
                    "data": {
                        "text/plain": [
                            "['Compatible',\n",
                            " 'Ipad',\n",
                            " 'Iphone',\n",
                            " 'Macintosh',\n",
                            " 'Windows nt 5.1',\n",
                            " 'Windows nt 6.0',\n",
                            " 'Windows nt 6.1',\n",
                            " 'Windows nt 6.2',\n",
                            " 'Windows nt 6.3',\n",
                            " 'X11']"
                        ]
                    },
                    "execution_count": 43,
                    "metadata": {},
                    "output_type": "execute_result"
                }
            ],
            "source": [
                "sorted(list(set(x[x.find('(') + 1:x.find(')')].split(';')[0].capitalize() for x in agents)))"
            ]
        },
        {
            "cell_type": "code",
            "execution_count": 44,
            "metadata": {},
            "outputs": [
                {
                    "name": "stderr",
                    "output_type": "stream",
                    "text": [
                        "[Stage 81:>                                                         (0 + 1) / 1]\r"
                    ]
                },
                {
                    "name": "stdout",
                    "output_type": "stream",
                    "text": [
                        "+--------------------+---------+---------+------+-------------+---------+---------+-----+--------------------+------+-----------+-------------+---------+--------------------+------+-------------+--------------------+------+-----+----+---+-----+--------+----------------+\n",
                        "|              artist|     auth|firstName|gender|itemInSession| lastName|   length|level|            location|method|       page| registration|sessionId|                song|status|           ts|           userAgent|userId|churn|hour|day|month|week_day|computer_systems|\n",
                        "+--------------------+---------+---------+------+-------------+---------+---------+-----+--------------------+------+-----------+-------------+---------+--------------------+------+-------------+--------------------+------+-----+----+---+-----+--------+----------------+\n",
                        "|              Darude|Logged In| Darianna|     F|            0|Carpenter|226.08934| free|Bridgeport-Stamfo...|   PUT|   NextSong|1538016340000|       62|           Sandstorm|   200|1538991392000|\"Mozilla/5.0 (iPh...|100010|    1|   5|  8|   10|       1|             iOS|\n",
                        "|             Justice|Logged In| Darianna|     F|            1|Carpenter|285.41342| free|Bridgeport-Stamfo...|   PUT|   NextSong|1538016340000|       62|Phantom Part 1.5 ...|   200|1538991618000|\"Mozilla/5.0 (iPh...|100010|    1|   5|  8|   10|       1|             iOS|\n",
                        "|    Five Iron Frenzy|Logged In| Darianna|     F|            2|Carpenter|236.09424| free|Bridgeport-Stamfo...|   PUT|   NextSong|1538016340000|       62|              Canada|   200|1538991903000|\"Mozilla/5.0 (iPh...|100010|    1|   5|  8|   10|       1|             iOS|\n",
                        "|          Carpenters|Logged In| Darianna|     F|            3|Carpenter|250.25261| free|Bridgeport-Stamfo...|   PUT|   NextSong|1538016340000|       62|      Ticket To Ride|   200|1538992139000|\"Mozilla/5.0 (iPh...|100010|    1|   5|  8|   10|       1|             iOS|\n",
                        "|               Uffie|Logged In| Darianna|     F|            4|Carpenter|227.52608| free|Bridgeport-Stamfo...|   PUT|   NextSong|1538016340000|       62|   Dismissed (Uffie)|   200|1538992389000|\"Mozilla/5.0 (iPh...|100010|    1|   5|  8|   10|       1|             iOS|\n",
                        "|       Lonnie Gordon|Logged In| Darianna|     F|            5|Carpenter|181.21098| free|Bridgeport-Stamfo...|   PUT|   NextSong|1538016340000|       62|Catch You Baby (S...|   200|1538992616000|\"Mozilla/5.0 (iPh...|100010|    1|   5|  8|   10|       1|             iOS|\n",
                        "|            Calle 13|Logged In| Darianna|     F|            6|Carpenter|267.67628| free|Bridgeport-Stamfo...|   PUT|   NextSong|1538016340000|       62|     Fiesta De Locos|   200|1538992797000|\"Mozilla/5.0 (iPh...|100010|    1|   5|  8|   10|       1|             iOS|\n",
                        "|            Ice Cube|Logged In| Darianna|     F|            7|Carpenter|248.29342| free|Bridgeport-Stamfo...|   PUT|   NextSong|1538016340000|       62|U Ain't Gonna Tak...|   200|1538993064000|\"Mozilla/5.0 (iPh...|100010|    1|   6|  8|   10|       1|             iOS|\n",
                        "|                null|Logged In| Darianna|     F|            8|Carpenter|     null| free|Bridgeport-Stamfo...|   GET|Roll Advert|1538016340000|       62|                null|   200|1538993076000|\"Mozilla/5.0 (iPh...|100010|    1|   6|  8|   10|       1|             iOS|\n",
                        "|        Wakey!Wakey!|Logged In| Darianna|     F|            9|Carpenter|173.40036| free|Bridgeport-Stamfo...|   PUT|   NextSong|1538016340000|       62|       Dance So Good|   200|1538993312000|\"Mozilla/5.0 (iPh...|100010|    1|   6|  8|   10|       1|             iOS|\n",
                        "|Mick Abrahams fro...|Logged In| Darianna|     F|           10|Carpenter| 202.9971| free|Bridgeport-Stamfo...|   PUT|   NextSong|1538016340000|       62|    Sonf For Jeffery|   200|1538993485000|\"Mozilla/5.0 (iPh...|100010|    1|   6|  8|   10|       1|             iOS|\n",
                        "|                null|Logged In| Darianna|     F|           11|Carpenter|     null| free|Bridgeport-Stamfo...|   GET|       Home|1538016340000|       62|                null|   200|1538993496000|\"Mozilla/5.0 (iPh...|100010|    1|   6|  8|   10|       1|             iOS|\n",
                        "|      Colbie Caillat|Logged In| Darianna|     F|           12|Carpenter|355.57832| free|Bridgeport-Stamfo...|   PUT|   NextSong|1538016340000|       62|Turn Your Lights ...|   200|1538993687000|\"Mozilla/5.0 (iPh...|100010|    1|   6|  8|   10|       1|             iOS|\n",
                        "|                  LU|Logged In| Darianna|     F|           13|Carpenter|258.84689| free|Bridgeport-Stamfo...|   PUT|   NextSong|1538016340000|       62|               Maria|   200|1538994042000|\"Mozilla/5.0 (iPh...|100010|    1|   6|  8|   10|       1|             iOS|\n",
                        "|                null|Logged In| Darianna|     F|           14|Carpenter|     null| free|Bridgeport-Stamfo...|   GET|Roll Advert|1538016340000|       62|                null|   200|1538994047000|\"Mozilla/5.0 (iPh...|100010|    1|   6|  8|   10|       1|             iOS|\n",
                        "|         Linkin Park|Logged In| Darianna|     F|           15|Carpenter|259.86567| free|Bridgeport-Stamfo...|   PUT|   NextSong|1538016340000|       62|         My December|   200|1538994300000|\"Mozilla/5.0 (iPh...|100010|    1|   6|  8|   10|       1|             iOS|\n",
                        "|   Alanis Morissette|Logged In| Darianna|     F|           16|Carpenter|239.41179| free|Bridgeport-Stamfo...|   PUT|   NextSong|1538016340000|       62|You Learn (Album ...|   200|1538994559000|\"Mozilla/5.0 (iPh...|100010|    1|   6|  8|   10|       1|             iOS|\n",
                        "|              G-Unit|Logged In| Darianna|     F|           17|Carpenter|287.00689| free|Bridgeport-Stamfo...|   PUT|   NextSong|1538016340000|       62|              G'D Up|   200|1538994798000|\"Mozilla/5.0 (iPh...|100010|    1|   6|  8|   10|       1|             iOS|\n",
                        "|       Billy Stewart|Logged In| Darianna|     F|           18|Carpenter|160.70485| free|Bridgeport-Stamfo...|   PUT|   NextSong|1538016340000|       62|          Summertime|   200|1538995085000|\"Mozilla/5.0 (iPh...|100010|    1|   6|  8|   10|       1|             iOS|\n",
                        "|      Zac Brown Band|Logged In| Darianna|     F|           19|Carpenter|237.08689| free|Bridgeport-Stamfo...|   PUT|   NextSong|1538016340000|       62|Chicken Fried (Al...|   200|1538995245000|\"Mozilla/5.0 (iPh...|100010|    1|   6|  8|   10|       1|             iOS|\n",
                        "+--------------------+---------+---------+------+-------------+---------+---------+-----+--------------------+------+-----------+-------------+---------+--------------------+------+-------------+--------------------+------+-----+----+---+-----+--------+----------------+\n",
                        "only showing top 20 rows\n",
                        "\n"
                    ]
                },
                {
                    "name": "stderr",
                    "output_type": "stream",
                    "text": [
                        "                                                                                \r"
                    ]
                }
            ],
            "source": [
                "# Create general categories for user agent\n",
                "sys_general = {'Compatible': 'Windows', 'Ipad': 'iOS', 'Iphone': 'iOS', 'Macintosh': 'Mac', \n",
                "                'Windows nt 5.1': 'Windows','Windows nt 6.0': 'Windows', 'Windows nt 6.1': 'Windows',\n",
                "                'Windows nt 6.2': 'Windows', 'Windows nt 6.3': 'Windows', 'X11': 'Linux'}\n",
                "\n",
                "get_sys = udf(lambda x: sys_general[x[x.find('(') + 1:x.find(')')].split(';')[0].capitalize()])\n",
                "df_data_1 = df_data_1.withColumn('computer_systems', get_sys(df_data_1.userAgent))\n",
                "df_data_1.show()"
            ]
        },
        {
            "cell_type": "markdown",
            "metadata": {},
            "source": [
                "2. Location \\\n",
                "We only consider state."
            ]
        },
        {
            "cell_type": "code",
            "execution_count": 45,
            "metadata": {},
            "outputs": [
                {
                    "data": {
                        "text/plain": [
                            "192"
                        ]
                    },
                    "execution_count": 45,
                    "metadata": {},
                    "output_type": "execute_result"
                }
            ],
            "source": [
                "df_p.location.unique().shape[0]"
            ]
        },
        {
            "cell_type": "code",
            "execution_count": 47,
            "metadata": {},
            "outputs": [
                {
                    "data": {
                        "text/plain": [
                            "array(['Bridgeport-Stamford-Norwalk, CT',\n",
                            "       'New York-Newark-Jersey City, NY-NJ-PA',\n",
                            "       'Dallas-Fort Worth-Arlington, TX', 'Denver-Aurora-Lakewood, CO',\n",
                            "       'Providence-Warwick, RI-MA', 'Muncie, IN',\n",
                            "       'Vineland-Bridgeton, NJ', 'Corpus Christi, TX', 'Morgantown, WV',\n",
                            "       'San Francisco-Oakland-Hayward, CA',\n",
                            "       'Chicago-Naperville-Elgin, IL-IN-WI',\n",
                            "       'Lafayette-West Lafayette, IN', 'Seattle-Tacoma-Bellevue, WA',\n",
                            "       'Columbus, GA-AL', 'Boston-Cambridge-Newton, MA-NH',\n",
                            "       'Ottawa-Peru, IL', 'New Orleans-Metairie, LA',\n",
                            "       'Charlotte-Concord-Gastonia, NC-SC',\n",
                            "       'Los Angeles-Long Beach-Anaheim, CA',\n",
                            "       'Allentown-Bethlehem-Easton, PA-NJ', 'Ionia, MI',\n",
                            "       'Detroit-Warren-Dearborn, MI', 'Indianapolis-Carmel-Anderson, IN',\n",
                            "       'Danville, VA', 'Lexington-Fayette, KY',\n",
                            "       'Spokane-Spokane Valley, WA', 'Milwaukee-Waukesha-West Allis, WI',\n",
                            "       'Houston-The Woodlands-Sugar Land, TX', 'Wichita, KS',\n",
                            "       'Miami-Fort Lauderdale-West Palm Beach, FL',\n",
                            "       'San Diego-Carlsbad, CA',\n",
                            "       'Myrtle Beach-Conway-North Myrtle Beach, SC-NC', 'Danville, IL',\n",
                            "       'Modesto, CA', 'Sioux Falls, SD',\n",
                            "       'Sacramento--Roseville--Arden-Arcade, CA', 'Logan, UT-ID',\n",
                            "       'Akron, OH', 'Rochester, NY', 'Cincinnati, OH-KY-IN',\n",
                            "       'Knoxville, TN', 'New Philadelphia-Dover, OH', 'Bozeman, MT',\n",
                            "       'Bakersfield, CA', 'Tampa-St. Petersburg-Clearwater, FL',\n",
                            "       'Deltona-Daytona Beach-Ormond Beach, FL', 'Boulder, CO',\n",
                            "       'Albany-Schenectady-Troy, NY', 'St. Louis, MO-IL', 'Quincy, IL-MO',\n",
                            "       'Austin-Round Rock, TX', 'Pontiac, IL', 'Winston-Salem, NC',\n",
                            "       'Oklahoma City, OK', 'Appleton, WI', 'Show Low, AZ',\n",
                            "       'Hagerstown-Martinsburg, MD-WV', 'Phoenix-Mesa-Scottsdale, AZ',\n",
                            "       'Rockingham, NC', 'New Haven-Milford, CT', 'Cookeville, TN',\n",
                            "       'Washington-Arlington-Alexandria, DC-VA-MD-WV',\n",
                            "       'Atlanta-Sandy Springs-Roswell, GA', 'Tallahassee, FL',\n",
                            "       'Monroe, LA', 'Flint, MI', 'Rochester, MN',\n",
                            "       'Orlando-Kissimmee-Sanford, FL', 'Kansas City, MO-KS',\n",
                            "       'Marion, IN', 'Houghton, MI', 'Brunswick, GA',\n",
                            "       'Truckee-Grass Valley, CA', 'Riverside-San Bernardino-Ontario, CA',\n",
                            "       'Racine, WI', 'Baltimore-Columbia-Towson, MD',\n",
                            "       'Atlantic City-Hammonton, NJ', 'Jackson, MS',\n",
                            "       'Little Rock-North Little Rock-Conway, AR',\n",
                            "       'Kingsport-Bristol-Bristol, TN-VA',\n",
                            "       'Louisville/Jefferson County, KY-IN', 'Lebanon, PA',\n",
                            "       'Philadelphia-Camden-Wilmington, PA-NJ-DE-MD',\n",
                            "       'Salt Lake City, UT', 'Richmond, VA', 'Toledo, OH', 'Tyler, TX',\n",
                            "       'Stockton-Lodi, CA', 'Ozark, AL',\n",
                            "       'Hartford-West Hartford-East Hartford, CT', 'Colorado Springs, CO',\n",
                            "       'Buffalo-Cheektowaga-Niagara Falls, NY', 'Montgomery, AL',\n",
                            "       'Gallup, NM', 'Memphis, TN-MS-AR', 'Cullman, AL', 'Fort Wayne, IN',\n",
                            "       'Albemarle, NC', 'Minneapolis-St. Paul-Bloomington, MN-WI',\n",
                            "       'Rio Grande City, TX', 'Tucson, AZ',\n",
                            "       'San Antonio-New Braunfels, TX', 'Gainesville, FL',\n",
                            "       'McAllen-Edinburg-Mission, TX', 'Syracuse, NY',\n",
                            "       'North Wilkesboro, NC', 'Grand Rapids-Wyoming, MI', 'Billings, MT',\n",
                            "       'Fairbanks, AK', 'Dayton, OH', 'London, KY',\n",
                            "       'Omaha-Council Bluffs, NE-IA', 'Fargo, ND-MN', 'Mobile, AL',\n",
                            "       'Fort Smith, AR-OK', 'El Paso, TX', 'Fresno, CA',\n",
                            "       'Manchester-Nashua, NH', 'Las Vegas-Henderson-Paradise, NV',\n",
                            "       'Tulsa, OK', 'Bowling Green, KY',\n",
                            "       'Greenville-Anderson-Mauldin, SC', 'Sterling, IL', 'Columbus, OH',\n",
                            "       'Janesville-Beloit, WI', 'Cedar City, UT',\n",
                            "       'Virginia Beach-Norfolk-Newport News, VA-NC', 'Roanoke, VA',\n",
                            "       'Topeka, KS', 'Klamath Falls, OR', 'Bremerton-Silverdale, WA',\n",
                            "       'Pittsburgh, PA', 'Albany, OR', 'Boise City, ID', 'Las Vegas, NM',\n",
                            "       'Laurel, MS', 'Milledgeville, GA', 'Salinas, CA',\n",
                            "       'Urban Honolulu, HI', 'Mansfield, OH', 'Oskaloosa, IA',\n",
                            "       'Decatur, AL', 'Killeen-Temple, TX',\n",
                            "       'Portland-Vancouver-Hillsboro, OR-WA', 'Big Spring, TX',\n",
                            "       'Selma, AL', 'Jacksonville, FL', 'Price, UT',\n",
                            "       'Greensboro-High Point, NC', 'Charleston, WV',\n",
                            "       'Norwich-New London, CT', 'Lafayette, LA',\n",
                            "       'Lakeland-Winter Haven, FL', 'Worcester, MA-CT', 'Troy, AL',\n",
                            "       'Beaumont-Port Arthur, TX', 'Valdosta, GA',\n",
                            "       'San Jose-Sunnyvale-Santa Clara, CA', 'Cleveland-Elyria, OH',\n",
                            "       'Birmingham-Hoover, AL', 'Athens, TX', 'Provo-Orem, UT',\n",
                            "       'Rutland, VT', 'Jacksonville, NC',\n",
                            "       'Nashville-Davidson--Murfreesboro--Franklin, TN', 'Auburn, IN',\n",
                            "       'Fort Madison-Keokuk, IA-IL-MO', 'Wilson, NC', 'Newport, TN',\n",
                            "       'Napa, CA', 'Alexandria, LA', 'Española, NM',\n",
                            "       'Oxnard-Thousand Oaks-Ventura, CA', 'Tullahoma-Manchester, TN',\n",
                            "       'El Campo, TX', 'Champaign-Urbana, IL', 'Kankakee, IL',\n",
                            "       'Augusta-Waterville, ME', 'York-Hanover, PA', 'Medford, OR',\n",
                            "       'Duluth, MN-WI', 'Concord, NH', 'Port St. Lucie, FL',\n",
                            "       'Anchorage, AK', 'Santa Maria-Santa Barbara, CA', 'Vermillion, SD',\n",
                            "       'Raleigh, NC', 'Alexandria, MN', 'Midland, MI',\n",
                            "       'Durham-Chapel Hill, NC', 'Madison, WI', 'Dubuque, IA'],\n",
                            "      dtype=object)"
                        ]
                    },
                    "execution_count": 47,
                    "metadata": {},
                    "output_type": "execute_result"
                }
            ],
            "source": [
                "df_p.location.unique()"
            ]
        },
        {
            "cell_type": "code",
            "execution_count": 49,
            "metadata": {},
            "outputs": [
                {
                    "name": "stderr",
                    "output_type": "stream",
                    "text": [
                        "[Stage 87:>                                                         (0 + 1) / 1]\r"
                    ]
                },
                {
                    "name": "stdout",
                    "output_type": "stream",
                    "text": [
                        "+--------------------+---------+---------+------+-------------+---------+---------+-----+--------------------+------+-----------+-------------+---------+--------------------+------+-------------+--------------------+------+-----+----+---+-----+--------+----------------+-----+\n",
                        "|              artist|     auth|firstName|gender|itemInSession| lastName|   length|level|            location|method|       page| registration|sessionId|                song|status|           ts|           userAgent|userId|churn|hour|day|month|week_day|computer_systems|State|\n",
                        "+--------------------+---------+---------+------+-------------+---------+---------+-----+--------------------+------+-----------+-------------+---------+--------------------+------+-------------+--------------------+------+-----+----+---+-----+--------+----------------+-----+\n",
                        "|              Darude|Logged In| Darianna|     F|            0|Carpenter|226.08934| free|Bridgeport-Stamfo...|   PUT|   NextSong|1538016340000|       62|           Sandstorm|   200|1538991392000|\"Mozilla/5.0 (iPh...|100010|    1|   5|  8|   10|       1|             iOS|   CT|\n",
                        "|             Justice|Logged In| Darianna|     F|            1|Carpenter|285.41342| free|Bridgeport-Stamfo...|   PUT|   NextSong|1538016340000|       62|Phantom Part 1.5 ...|   200|1538991618000|\"Mozilla/5.0 (iPh...|100010|    1|   5|  8|   10|       1|             iOS|   CT|\n",
                        "|    Five Iron Frenzy|Logged In| Darianna|     F|            2|Carpenter|236.09424| free|Bridgeport-Stamfo...|   PUT|   NextSong|1538016340000|       62|              Canada|   200|1538991903000|\"Mozilla/5.0 (iPh...|100010|    1|   5|  8|   10|       1|             iOS|   CT|\n",
                        "|          Carpenters|Logged In| Darianna|     F|            3|Carpenter|250.25261| free|Bridgeport-Stamfo...|   PUT|   NextSong|1538016340000|       62|      Ticket To Ride|   200|1538992139000|\"Mozilla/5.0 (iPh...|100010|    1|   5|  8|   10|       1|             iOS|   CT|\n",
                        "|               Uffie|Logged In| Darianna|     F|            4|Carpenter|227.52608| free|Bridgeport-Stamfo...|   PUT|   NextSong|1538016340000|       62|   Dismissed (Uffie)|   200|1538992389000|\"Mozilla/5.0 (iPh...|100010|    1|   5|  8|   10|       1|             iOS|   CT|\n",
                        "|       Lonnie Gordon|Logged In| Darianna|     F|            5|Carpenter|181.21098| free|Bridgeport-Stamfo...|   PUT|   NextSong|1538016340000|       62|Catch You Baby (S...|   200|1538992616000|\"Mozilla/5.0 (iPh...|100010|    1|   5|  8|   10|       1|             iOS|   CT|\n",
                        "|            Calle 13|Logged In| Darianna|     F|            6|Carpenter|267.67628| free|Bridgeport-Stamfo...|   PUT|   NextSong|1538016340000|       62|     Fiesta De Locos|   200|1538992797000|\"Mozilla/5.0 (iPh...|100010|    1|   5|  8|   10|       1|             iOS|   CT|\n",
                        "|            Ice Cube|Logged In| Darianna|     F|            7|Carpenter|248.29342| free|Bridgeport-Stamfo...|   PUT|   NextSong|1538016340000|       62|U Ain't Gonna Tak...|   200|1538993064000|\"Mozilla/5.0 (iPh...|100010|    1|   6|  8|   10|       1|             iOS|   CT|\n",
                        "|                null|Logged In| Darianna|     F|            8|Carpenter|     null| free|Bridgeport-Stamfo...|   GET|Roll Advert|1538016340000|       62|                null|   200|1538993076000|\"Mozilla/5.0 (iPh...|100010|    1|   6|  8|   10|       1|             iOS|   CT|\n",
                        "|        Wakey!Wakey!|Logged In| Darianna|     F|            9|Carpenter|173.40036| free|Bridgeport-Stamfo...|   PUT|   NextSong|1538016340000|       62|       Dance So Good|   200|1538993312000|\"Mozilla/5.0 (iPh...|100010|    1|   6|  8|   10|       1|             iOS|   CT|\n",
                        "|Mick Abrahams fro...|Logged In| Darianna|     F|           10|Carpenter| 202.9971| free|Bridgeport-Stamfo...|   PUT|   NextSong|1538016340000|       62|    Sonf For Jeffery|   200|1538993485000|\"Mozilla/5.0 (iPh...|100010|    1|   6|  8|   10|       1|             iOS|   CT|\n",
                        "|                null|Logged In| Darianna|     F|           11|Carpenter|     null| free|Bridgeport-Stamfo...|   GET|       Home|1538016340000|       62|                null|   200|1538993496000|\"Mozilla/5.0 (iPh...|100010|    1|   6|  8|   10|       1|             iOS|   CT|\n",
                        "|      Colbie Caillat|Logged In| Darianna|     F|           12|Carpenter|355.57832| free|Bridgeport-Stamfo...|   PUT|   NextSong|1538016340000|       62|Turn Your Lights ...|   200|1538993687000|\"Mozilla/5.0 (iPh...|100010|    1|   6|  8|   10|       1|             iOS|   CT|\n",
                        "|                  LU|Logged In| Darianna|     F|           13|Carpenter|258.84689| free|Bridgeport-Stamfo...|   PUT|   NextSong|1538016340000|       62|               Maria|   200|1538994042000|\"Mozilla/5.0 (iPh...|100010|    1|   6|  8|   10|       1|             iOS|   CT|\n",
                        "|                null|Logged In| Darianna|     F|           14|Carpenter|     null| free|Bridgeport-Stamfo...|   GET|Roll Advert|1538016340000|       62|                null|   200|1538994047000|\"Mozilla/5.0 (iPh...|100010|    1|   6|  8|   10|       1|             iOS|   CT|\n",
                        "|         Linkin Park|Logged In| Darianna|     F|           15|Carpenter|259.86567| free|Bridgeport-Stamfo...|   PUT|   NextSong|1538016340000|       62|         My December|   200|1538994300000|\"Mozilla/5.0 (iPh...|100010|    1|   6|  8|   10|       1|             iOS|   CT|\n",
                        "|   Alanis Morissette|Logged In| Darianna|     F|           16|Carpenter|239.41179| free|Bridgeport-Stamfo...|   PUT|   NextSong|1538016340000|       62|You Learn (Album ...|   200|1538994559000|\"Mozilla/5.0 (iPh...|100010|    1|   6|  8|   10|       1|             iOS|   CT|\n",
                        "|              G-Unit|Logged In| Darianna|     F|           17|Carpenter|287.00689| free|Bridgeport-Stamfo...|   PUT|   NextSong|1538016340000|       62|              G'D Up|   200|1538994798000|\"Mozilla/5.0 (iPh...|100010|    1|   6|  8|   10|       1|             iOS|   CT|\n",
                        "|       Billy Stewart|Logged In| Darianna|     F|           18|Carpenter|160.70485| free|Bridgeport-Stamfo...|   PUT|   NextSong|1538016340000|       62|          Summertime|   200|1538995085000|\"Mozilla/5.0 (iPh...|100010|    1|   6|  8|   10|       1|             iOS|   CT|\n",
                        "|      Zac Brown Band|Logged In| Darianna|     F|           19|Carpenter|237.08689| free|Bridgeport-Stamfo...|   PUT|   NextSong|1538016340000|       62|Chicken Fried (Al...|   200|1538995245000|\"Mozilla/5.0 (iPh...|100010|    1|   6|  8|   10|       1|             iOS|   CT|\n",
                        "+--------------------+---------+---------+------+-------------+---------+---------+-----+--------------------+------+-----------+-------------+---------+--------------------+------+-------------+--------------------+------+-----+----+---+-----+--------+----------------+-----+\n",
                        "only showing top 20 rows\n",
                        "\n"
                    ]
                },
                {
                    "name": "stderr",
                    "output_type": "stream",
                    "text": [
                        "                                                                                \r"
                    ]
                }
            ],
            "source": [
                "get_state = udf(lambda x: x.split(',')[1].strip())\n",
                "df_data_1 = df_data_1.withColumn('State', get_state(df_data_1.location))\n",
                "df_data_1.show()"
            ]
        },
        {
            "cell_type": "code",
            "execution_count": 50,
            "metadata": {},
            "outputs": [
                {
                    "name": "stderr",
                    "output_type": "stream",
                    "text": [
                        "                                                                                \r"
                    ]
                },
                {
                    "data": {
                        "text/html": [
                            "<div>\n",
                            "<style scoped>\n",
                            "    .dataframe tbody tr th:only-of-type {\n",
                            "        vertical-align: middle;\n",
                            "    }\n",
                            "\n",
                            "    .dataframe tbody tr th {\n",
                            "        vertical-align: top;\n",
                            "    }\n",
                            "\n",
                            "    .dataframe thead th {\n",
                            "        text-align: right;\n",
                            "    }\n",
                            "</style>\n",
                            "<table border=\"1\" class=\"dataframe\">\n",
                            "  <thead>\n",
                            "    <tr style=\"text-align: right;\">\n",
                            "      <th></th>\n",
                            "      <th>artist</th>\n",
                            "      <th>auth</th>\n",
                            "      <th>firstName</th>\n",
                            "      <th>gender</th>\n",
                            "      <th>itemInSession</th>\n",
                            "      <th>lastName</th>\n",
                            "      <th>length</th>\n",
                            "      <th>level</th>\n",
                            "      <th>location</th>\n",
                            "      <th>method</th>\n",
                            "      <th>...</th>\n",
                            "      <th>ts</th>\n",
                            "      <th>userAgent</th>\n",
                            "      <th>userId</th>\n",
                            "      <th>churn</th>\n",
                            "      <th>hour</th>\n",
                            "      <th>day</th>\n",
                            "      <th>month</th>\n",
                            "      <th>week_day</th>\n",
                            "      <th>computer_systems</th>\n",
                            "      <th>State</th>\n",
                            "    </tr>\n",
                            "  </thead>\n",
                            "  <tbody>\n",
                            "    <tr>\n",
                            "      <th>0</th>\n",
                            "      <td>Darude</td>\n",
                            "      <td>Logged In</td>\n",
                            "      <td>Darianna</td>\n",
                            "      <td>F</td>\n",
                            "      <td>0</td>\n",
                            "      <td>Carpenter</td>\n",
                            "      <td>226.08934</td>\n",
                            "      <td>free</td>\n",
                            "      <td>Bridgeport-Stamford-Norwalk, CT</td>\n",
                            "      <td>PUT</td>\n",
                            "      <td>...</td>\n",
                            "      <td>1538991392000</td>\n",
                            "      <td>\"Mozilla/5.0 (iPhone; CPU iPhone OS 7_1_2 like...</td>\n",
                            "      <td>100010</td>\n",
                            "      <td>1</td>\n",
                            "      <td>5</td>\n",
                            "      <td>8</td>\n",
                            "      <td>10</td>\n",
                            "      <td>1</td>\n",
                            "      <td>iOS</td>\n",
                            "      <td>CT</td>\n",
                            "    </tr>\n",
                            "    <tr>\n",
                            "      <th>1</th>\n",
                            "      <td>Justice</td>\n",
                            "      <td>Logged In</td>\n",
                            "      <td>Darianna</td>\n",
                            "      <td>F</td>\n",
                            "      <td>1</td>\n",
                            "      <td>Carpenter</td>\n",
                            "      <td>285.41342</td>\n",
                            "      <td>free</td>\n",
                            "      <td>Bridgeport-Stamford-Norwalk, CT</td>\n",
                            "      <td>PUT</td>\n",
                            "      <td>...</td>\n",
                            "      <td>1538991618000</td>\n",
                            "      <td>\"Mozilla/5.0 (iPhone; CPU iPhone OS 7_1_2 like...</td>\n",
                            "      <td>100010</td>\n",
                            "      <td>1</td>\n",
                            "      <td>5</td>\n",
                            "      <td>8</td>\n",
                            "      <td>10</td>\n",
                            "      <td>1</td>\n",
                            "      <td>iOS</td>\n",
                            "      <td>CT</td>\n",
                            "    </tr>\n",
                            "    <tr>\n",
                            "      <th>2</th>\n",
                            "      <td>Five Iron Frenzy</td>\n",
                            "      <td>Logged In</td>\n",
                            "      <td>Darianna</td>\n",
                            "      <td>F</td>\n",
                            "      <td>2</td>\n",
                            "      <td>Carpenter</td>\n",
                            "      <td>236.09424</td>\n",
                            "      <td>free</td>\n",
                            "      <td>Bridgeport-Stamford-Norwalk, CT</td>\n",
                            "      <td>PUT</td>\n",
                            "      <td>...</td>\n",
                            "      <td>1538991903000</td>\n",
                            "      <td>\"Mozilla/5.0 (iPhone; CPU iPhone OS 7_1_2 like...</td>\n",
                            "      <td>100010</td>\n",
                            "      <td>1</td>\n",
                            "      <td>5</td>\n",
                            "      <td>8</td>\n",
                            "      <td>10</td>\n",
                            "      <td>1</td>\n",
                            "      <td>iOS</td>\n",
                            "      <td>CT</td>\n",
                            "    </tr>\n",
                            "    <tr>\n",
                            "      <th>3</th>\n",
                            "      <td>Carpenters</td>\n",
                            "      <td>Logged In</td>\n",
                            "      <td>Darianna</td>\n",
                            "      <td>F</td>\n",
                            "      <td>3</td>\n",
                            "      <td>Carpenter</td>\n",
                            "      <td>250.25261</td>\n",
                            "      <td>free</td>\n",
                            "      <td>Bridgeport-Stamford-Norwalk, CT</td>\n",
                            "      <td>PUT</td>\n",
                            "      <td>...</td>\n",
                            "      <td>1538992139000</td>\n",
                            "      <td>\"Mozilla/5.0 (iPhone; CPU iPhone OS 7_1_2 like...</td>\n",
                            "      <td>100010</td>\n",
                            "      <td>1</td>\n",
                            "      <td>5</td>\n",
                            "      <td>8</td>\n",
                            "      <td>10</td>\n",
                            "      <td>1</td>\n",
                            "      <td>iOS</td>\n",
                            "      <td>CT</td>\n",
                            "    </tr>\n",
                            "    <tr>\n",
                            "      <th>4</th>\n",
                            "      <td>Uffie</td>\n",
                            "      <td>Logged In</td>\n",
                            "      <td>Darianna</td>\n",
                            "      <td>F</td>\n",
                            "      <td>4</td>\n",
                            "      <td>Carpenter</td>\n",
                            "      <td>227.52608</td>\n",
                            "      <td>free</td>\n",
                            "      <td>Bridgeport-Stamford-Norwalk, CT</td>\n",
                            "      <td>PUT</td>\n",
                            "      <td>...</td>\n",
                            "      <td>1538992389000</td>\n",
                            "      <td>\"Mozilla/5.0 (iPhone; CPU iPhone OS 7_1_2 like...</td>\n",
                            "      <td>100010</td>\n",
                            "      <td>1</td>\n",
                            "      <td>5</td>\n",
                            "      <td>8</td>\n",
                            "      <td>10</td>\n",
                            "      <td>1</td>\n",
                            "      <td>iOS</td>\n",
                            "      <td>CT</td>\n",
                            "    </tr>\n",
                            "  </tbody>\n",
                            "</table>\n",
                            "<p>5 rows × 25 columns</p>\n",
                            "</div>"
                        ],
                        "text/plain": [
                            "             artist       auth firstName gender  itemInSession   lastName  \\\n",
                            "0            Darude  Logged In  Darianna      F              0  Carpenter   \n",
                            "1           Justice  Logged In  Darianna      F              1  Carpenter   \n",
                            "2  Five Iron Frenzy  Logged In  Darianna      F              2  Carpenter   \n",
                            "3        Carpenters  Logged In  Darianna      F              3  Carpenter   \n",
                            "4             Uffie  Logged In  Darianna      F              4  Carpenter   \n",
                            "\n",
                            "      length level                         location method  ...  \\\n",
                            "0  226.08934  free  Bridgeport-Stamford-Norwalk, CT    PUT  ...   \n",
                            "1  285.41342  free  Bridgeport-Stamford-Norwalk, CT    PUT  ...   \n",
                            "2  236.09424  free  Bridgeport-Stamford-Norwalk, CT    PUT  ...   \n",
                            "3  250.25261  free  Bridgeport-Stamford-Norwalk, CT    PUT  ...   \n",
                            "4  227.52608  free  Bridgeport-Stamford-Norwalk, CT    PUT  ...   \n",
                            "\n",
                            "              ts                                          userAgent  userId  \\\n",
                            "0  1538991392000  \"Mozilla/5.0 (iPhone; CPU iPhone OS 7_1_2 like...  100010   \n",
                            "1  1538991618000  \"Mozilla/5.0 (iPhone; CPU iPhone OS 7_1_2 like...  100010   \n",
                            "2  1538991903000  \"Mozilla/5.0 (iPhone; CPU iPhone OS 7_1_2 like...  100010   \n",
                            "3  1538992139000  \"Mozilla/5.0 (iPhone; CPU iPhone OS 7_1_2 like...  100010   \n",
                            "4  1538992389000  \"Mozilla/5.0 (iPhone; CPU iPhone OS 7_1_2 like...  100010   \n",
                            "\n",
                            "  churn  hour  day month week_day  computer_systems State  \n",
                            "0     1     5    8    10        1               iOS    CT  \n",
                            "1     1     5    8    10        1               iOS    CT  \n",
                            "2     1     5    8    10        1               iOS    CT  \n",
                            "3     1     5    8    10        1               iOS    CT  \n",
                            "4     1     5    8    10        1               iOS    CT  \n",
                            "\n",
                            "[5 rows x 25 columns]"
                        ]
                    },
                    "execution_count": 50,
                    "metadata": {},
                    "output_type": "execute_result"
                }
            ],
            "source": [
                "df_p = df_data_1.toPandas()\n",
                "df_p.head()"
            ]
        },
        {
            "cell_type": "code",
            "execution_count": 52,
            "metadata": {},
            "outputs": [
                {
                    "data": {
                        "text/plain": [
                            "<AxesSubplot:title={'center':'Percent of users took action per computer_systems'}, xlabel='computer_systems', ylabel='Percent of users'>"
                        ]
                    },
                    "execution_count": 52,
                    "metadata": {},
                    "output_type": "execute_result"
                },
                {
                    "data": {
                        "image/png": "[encoded data removed]",
                        "text/plain": [
                            "<Figure size 1080x288 with 1 Axes>"
                        ]
                    },
                    "metadata": {
                        "needs_background": "light"
                    },
                    "output_type": "display_data"
                }
            ],
            "source": [
                "plot_time_dist('computer_systems')"
            ]
        },
        {
            "cell_type": "markdown",
            "metadata": {},
            "source": [
                "It seems that Mac users are more willing to be active than Windows users, but the impact is not significant visually."
            ]
        },
        {
            "cell_type": "code",
            "execution_count": 55,
            "metadata": {},
            "outputs": [
                {
                    "data": {
                        "text/plain": [
                            "<AxesSubplot:title={'center':'Percent of users took action per State'}, xlabel='State', ylabel='Percent of users'>"
                        ]
                    },
                    "execution_count": 55,
                    "metadata": {},
                    "output_type": "execute_result"
                },
                {
                    "data": {
                        "image/png": "[encoded data removed]",
                        "text/plain": [
                            "<Figure size 1440x360 with 1 Axes>"
                        ]
                    },
                    "metadata": {
                        "needs_background": "light"
                    },
                    "output_type": "display_data"
                }
            ],
            "source": [
                "plot_time_dist('State', figsize=(20,5), label_rotation=90)"
            ]
        },
        {
            "cell_type": "code",
            "execution_count": 57,
            "metadata": {},
            "outputs": [
                {
                    "name": "stderr",
                    "output_type": "stream",
                    "text": [
                        "                                                                                \r"
                    ]
                },
                {
                    "data": {
                        "text/plain": [
                            "70"
                        ]
                    },
                    "execution_count": 57,
                    "metadata": {},
                    "output_type": "execute_result"
                }
            ],
            "source": [
                "df_data_1.select('State').distinct().count()"
            ]
        },
        {
            "cell_type": "code",
            "execution_count": 58,
            "metadata": {},
            "outputs": [
                {
                    "name": "stderr",
                    "output_type": "stream",
                    "text": [
                        "[Stage 99:>                                                         (0 + 1) / 1]\r"
                    ]
                },
                {
                    "name": "stdout",
                    "output_type": "stream",
                    "text": [
                        "+--------------------+---------+---------+------+-------------+---------+---------+-----+--------------------+------+-----------+-------------+---------+--------------------+------+-------------+--------------------+------+-----+----+---+-----+--------+----------------+-----+\n",
                        "|              artist|     auth|firstName|gender|itemInSession| lastName|   length|level|            location|method|       page| registration|sessionId|                song|status|           ts|           userAgent|userId|churn|hour|day|month|week_day|computer_systems|State|\n",
                        "+--------------------+---------+---------+------+-------------+---------+---------+-----+--------------------+------+-----------+-------------+---------+--------------------+------+-------------+--------------------+------+-----+----+---+-----+--------+----------------+-----+\n",
                        "|              Darude|Logged In| Darianna|     F|            0|Carpenter|226.08934| free|Bridgeport-Stamfo...|   PUT|   NextSong|1538016340000|       62|           Sandstorm|   200|1538991392000|\"Mozilla/5.0 (iPh...|100010|    1|   5|  8|   10|       1|             iOS|   CT|\n",
                        "|             Justice|Logged In| Darianna|     F|            1|Carpenter|285.41342| free|Bridgeport-Stamfo...|   PUT|   NextSong|1538016340000|       62|Phantom Part 1.5 ...|   200|1538991618000|\"Mozilla/5.0 (iPh...|100010|    1|   5|  8|   10|       1|             iOS|   CT|\n",
                        "|    Five Iron Frenzy|Logged In| Darianna|     F|            2|Carpenter|236.09424| free|Bridgeport-Stamfo...|   PUT|   NextSong|1538016340000|       62|              Canada|   200|1538991903000|\"Mozilla/5.0 (iPh...|100010|    1|   5|  8|   10|       1|             iOS|   CT|\n",
                        "|          Carpenters|Logged In| Darianna|     F|            3|Carpenter|250.25261| free|Bridgeport-Stamfo...|   PUT|   NextSong|1538016340000|       62|      Ticket To Ride|   200|1538992139000|\"Mozilla/5.0 (iPh...|100010|    1|   5|  8|   10|       1|             iOS|   CT|\n",
                        "|               Uffie|Logged In| Darianna|     F|            4|Carpenter|227.52608| free|Bridgeport-Stamfo...|   PUT|   NextSong|1538016340000|       62|   Dismissed (Uffie)|   200|1538992389000|\"Mozilla/5.0 (iPh...|100010|    1|   5|  8|   10|       1|             iOS|   CT|\n",
                        "|       Lonnie Gordon|Logged In| Darianna|     F|            5|Carpenter|181.21098| free|Bridgeport-Stamfo...|   PUT|   NextSong|1538016340000|       62|Catch You Baby (S...|   200|1538992616000|\"Mozilla/5.0 (iPh...|100010|    1|   5|  8|   10|       1|             iOS|   CT|\n",
                        "|            Calle 13|Logged In| Darianna|     F|            6|Carpenter|267.67628| free|Bridgeport-Stamfo...|   PUT|   NextSong|1538016340000|       62|     Fiesta De Locos|   200|1538992797000|\"Mozilla/5.0 (iPh...|100010|    1|   5|  8|   10|       1|             iOS|   CT|\n",
                        "|            Ice Cube|Logged In| Darianna|     F|            7|Carpenter|248.29342| free|Bridgeport-Stamfo...|   PUT|   NextSong|1538016340000|       62|U Ain't Gonna Tak...|   200|1538993064000|\"Mozilla/5.0 (iPh...|100010|    1|   6|  8|   10|       1|             iOS|   CT|\n",
                        "|                null|Logged In| Darianna|     F|            8|Carpenter|     null| free|Bridgeport-Stamfo...|   GET|Roll Advert|1538016340000|       62|                null|   200|1538993076000|\"Mozilla/5.0 (iPh...|100010|    1|   6|  8|   10|       1|             iOS|   CT|\n",
                        "|        Wakey!Wakey!|Logged In| Darianna|     F|            9|Carpenter|173.40036| free|Bridgeport-Stamfo...|   PUT|   NextSong|1538016340000|       62|       Dance So Good|   200|1538993312000|\"Mozilla/5.0 (iPh...|100010|    1|   6|  8|   10|       1|             iOS|   CT|\n",
                        "|Mick Abrahams fro...|Logged In| Darianna|     F|           10|Carpenter| 202.9971| free|Bridgeport-Stamfo...|   PUT|   NextSong|1538016340000|       62|    Sonf For Jeffery|   200|1538993485000|\"Mozilla/5.0 (iPh...|100010|    1|   6|  8|   10|       1|             iOS|   CT|\n",
                        "|                null|Logged In| Darianna|     F|           11|Carpenter|     null| free|Bridgeport-Stamfo...|   GET|       Home|1538016340000|       62|                null|   200|1538993496000|\"Mozilla/5.0 (iPh...|100010|    1|   6|  8|   10|       1|             iOS|   CT|\n",
                        "|      Colbie Caillat|Logged In| Darianna|     F|           12|Carpenter|355.57832| free|Bridgeport-Stamfo...|   PUT|   NextSong|1538016340000|       62|Turn Your Lights ...|   200|1538993687000|\"Mozilla/5.0 (iPh...|100010|    1|   6|  8|   10|       1|             iOS|   CT|\n",
                        "|                  LU|Logged In| Darianna|     F|           13|Carpenter|258.84689| free|Bridgeport-Stamfo...|   PUT|   NextSong|1538016340000|       62|               Maria|   200|1538994042000|\"Mozilla/5.0 (iPh...|100010|    1|   6|  8|   10|       1|             iOS|   CT|\n",
                        "|                null|Logged In| Darianna|     F|           14|Carpenter|     null| free|Bridgeport-Stamfo...|   GET|Roll Advert|1538016340000|       62|                null|   200|1538994047000|\"Mozilla/5.0 (iPh...|100010|    1|   6|  8|   10|       1|             iOS|   CT|\n",
                        "|         Linkin Park|Logged In| Darianna|     F|           15|Carpenter|259.86567| free|Bridgeport-Stamfo...|   PUT|   NextSong|1538016340000|       62|         My December|   200|1538994300000|\"Mozilla/5.0 (iPh...|100010|    1|   6|  8|   10|       1|             iOS|   CT|\n",
                        "|   Alanis Morissette|Logged In| Darianna|     F|           16|Carpenter|239.41179| free|Bridgeport-Stamfo...|   PUT|   NextSong|1538016340000|       62|You Learn (Album ...|   200|1538994559000|\"Mozilla/5.0 (iPh...|100010|    1|   6|  8|   10|       1|             iOS|   CT|\n",
                        "|              G-Unit|Logged In| Darianna|     F|           17|Carpenter|287.00689| free|Bridgeport-Stamfo...|   PUT|   NextSong|1538016340000|       62|              G'D Up|   200|1538994798000|\"Mozilla/5.0 (iPh...|100010|    1|   6|  8|   10|       1|             iOS|   CT|\n",
                        "|       Billy Stewart|Logged In| Darianna|     F|           18|Carpenter|160.70485| free|Bridgeport-Stamfo...|   PUT|   NextSong|1538016340000|       62|          Summertime|   200|1538995085000|\"Mozilla/5.0 (iPh...|100010|    1|   6|  8|   10|       1|             iOS|   CT|\n",
                        "|      Zac Brown Band|Logged In| Darianna|     F|           19|Carpenter|237.08689| free|Bridgeport-Stamfo...|   PUT|   NextSong|1538016340000|       62|Chicken Fried (Al...|   200|1538995245000|\"Mozilla/5.0 (iPh...|100010|    1|   6|  8|   10|       1|             iOS|   CT|\n",
                        "+--------------------+---------+---------+------+-------------+---------+---------+-----+--------------------+------+-----------+-------------+---------+--------------------+------+-------------+--------------------+------+-----+----+---+-----+--------+----------------+-----+\n",
                        "only showing top 20 rows\n",
                        "\n"
                    ]
                },
                {
                    "name": "stderr",
                    "output_type": "stream",
                    "text": [
                        "                                                                                \r"
                    ]
                }
            ],
            "source": [
                "df_data_1.show()"
            ]
        },
        {
            "cell_type": "markdown",
            "metadata": {},
            "source": [
                "# Feature engineering\n",
                "We have completed data exploratory based on which many features would be kept:\n",
                "\n",
                "- Gender\n",
                "- payment level (free and paid)\n",
                "- Used computer system (userAgent)\n",
                "- location (State)\n",
                "- Number of thumbs up/down\n",
                "- Number of downgrades\n",
                "- Number of roll advert\n",
                "- time-related variables: Session duration, user's subscription age, ......\n",
                "\n",
                "We need to create a user-customized table as the modeling dataset."
            ]
        },
        {
            "cell_type": "code",
            "execution_count": 106,
            "metadata": {},
            "outputs": [
                {
                    "name": "stderr",
                    "output_type": "stream",
                    "text": [
                        "                                                                                \r"
                    ]
                },
                {
                    "data": {
                        "text/plain": [
                            "448"
                        ]
                    },
                    "execution_count": 106,
                    "metadata": {},
                    "output_type": "execute_result"
                }
            ],
            "source": [
                "churn_users = df_data_1.select('userId', 'churn').dropDuplicates()\n",
                "churn_users.count()"
            ]
        },
        {
            "cell_type": "code",
            "execution_count": 100,
            "metadata": {},
            "outputs": [],
            "source": [
                "def get_dummy(column, val):\n",
                "    \n",
                "    df_data_2 = df_data_1.select('userId', column).dropDuplicates()\n",
                "    df = df_data_2.withColumn(f'{column}_num', when(col(column) == val, 1).otherwise(0)).select('userId', col(f'{column}_num').cast('int'))\n",
                "    print(df.printSchema(), df.show(3))\n",
                "\n",
                "    return df"
            ]
        },
        {
            "cell_type": "code",
            "execution_count": 103,
            "metadata": {},
            "outputs": [
                {
                    "name": "stdout",
                    "output_type": "stream",
                    "text": [
                        "root\n",
                        " |-- userId: string (nullable = true)\n",
                        " |-- gender_num: integer (nullable = false)\n",
                        "\n"
                    ]
                },
                {
                    "name": "stderr",
                    "output_type": "stream",
                    "text": [
                        "                                                                                \r"
                    ]
                },
                {
                    "name": "stdout",
                    "output_type": "stream",
                    "text": [
                        "+------+----------+\n",
                        "|userId|gender_num|\n",
                        "+------+----------+\n",
                        "|   234|         1|\n",
                        "|   188|         0|\n",
                        "|   273|         1|\n",
                        "+------+----------+\n",
                        "only showing top 3 rows\n",
                        "\n",
                        "None None\n"
                    ]
                },
                {
                    "data": {
                        "text/plain": [
                            "448"
                        ]
                    },
                    "execution_count": 103,
                    "metadata": {},
                    "output_type": "execute_result"
                }
            ],
            "source": [
                "gender_df = get_dummy('gender', 'M')\n",
                "gender_df.count()"
            ]
        },
        {
            "cell_type": "code",
            "execution_count": 235,
            "metadata": {},
            "outputs": [
                {
                    "name": "stdout",
                    "output_type": "stream",
                    "text": [
                        "root\n",
                        " |-- userId: string (nullable = true)\n",
                        " |-- level_num: integer (nullable = false)\n",
                        "\n",
                        "+------+---------+\n",
                        "|userId|level_num|\n",
                        "+------+---------+\n",
                        "|   185|        0|\n",
                        "|   207|        0|\n",
                        "|     6|        0|\n",
                        "+------+---------+\n",
                        "only showing top 3 rows\n",
                        "\n",
                        "None None\n"
                    ]
                },
                {
                    "name": "stderr",
                    "output_type": "stream",
                    "text": [
                        "                                                                                \r"
                    ]
                }
            ],
            "source": [
                "level_df = get_dummy('level', 'paid')"
            ]
        },
        {
            "cell_type": "code",
            "execution_count": 248,
            "metadata": {},
            "outputs": [],
            "source": [
                "# Create dummy variables for computer_systems and state\n",
                "def dummy_sys_state(column_name):\n",
                "\n",
                "    sys_list = df_data_1.select(column_name).distinct().rdd.flatMap(lambda x: x).collect()\n",
                "    list_exp = [when(col(column_name) == x, 1).otherwise(0).alias(x) for x in sys_list]\n",
                "    df = df_data_1.select('userId', *list_exp).dropDuplicates()\n",
                "    df.show(10)\n",
                "\n",
                "    return df"
            ]
        },
        {
            "cell_type": "code",
            "execution_count": 249,
            "metadata": {},
            "outputs": [
                {
                    "name": "stderr",
                    "output_type": "stream",
                    "text": [
                        "[Stage 714:>                (0 + 1) / 1][Stage 772:>              (0 + 11) / 12]\r"
                    ]
                },
                {
                    "name": "stdout",
                    "output_type": "stream",
                    "text": [
                        "+------+---+-----+---+-------+\n",
                        "|userId|iOS|Linux|Mac|Windows|\n",
                        "+------+---+-----+---+-------+\n",
                        "|    57|  0|    0|  1|      0|\n",
                        "|    40|  0|    0|  0|      1|\n",
                        "|   119|  0|    0|  0|      1|\n",
                        "|   221|  1|    0|  0|      0|\n",
                        "|    24|  0|    0|  0|      1|\n",
                        "|   232|  0|    0|  1|      0|\n",
                        "|   212|  0|    0|  0|      1|\n",
                        "|   203|  0|    0|  1|      0|\n",
                        "|     4|  0|    0|  0|      1|\n",
                        "|   263|  0|    0|  1|      0|\n",
                        "+------+---+-----+---+-------+\n",
                        "only showing top 10 rows\n",
                        "\n"
                    ]
                },
                {
                    "name": "stderr",
                    "output_type": "stream",
                    "text": [
                        "                                                                                \r"
                    ]
                },
                {
                    "name": "stderr",
                    "output_type": "stream",
                    "text": [
                        "[Stage 714:>                                                        (0 + 1) / 1]\r"
                    ]
                }
            ],
            "source": [
                "sys_df = dummy_sys_state('computer_systems')"
            ]
        },
        {
            "cell_type": "code",
            "execution_count": 251,
            "metadata": {},
            "outputs": [
                {
                    "name": "stderr",
                    "output_type": "stream",
                    "text": [
                        "                                                                                \r"
                    ]
                },
                {
                    "name": "stdout",
                    "output_type": "stream",
                    "text": [
                        "+------+---+---+-----+---+---+-----+-----+---+-----+-----+---+-----+-----+-----+---+--------+---+---+---+---+---+---+---+---+---+---+-----+---+-----+---+---+---+---+---+-----+---+---+---+---+---+-----------+---+-----+-----+-----------+---+-----+---+--------+--------+---+-----+---+---+---+-----+---+--------+-----+---+-----+--------+---+---+---+---+-----+---+-----+---+\n",
                        "|userId| AZ| SC|GA-AL| LA| MN|RI-MA|MA-CT| NJ|IL-MO|MN-WI| OR|PA-NJ|SC-NC|MD-WV| VA|NY-NJ-PA| KY| NH| MI| NV| WI| CA| CT| MT| NC| MD|NE-IA| IL|ND-MN| ME| WA| MS| AL| IN|AR-OK| OH| TN| NM| PA| SD|DC-VA-MD-WV| NY|MO-KS|KY-IN|PA-NJ-DE-MD| TX|VA-NC| GA|IL-IN-WI|OH-KY-IN| KS|MO-IL| FL| CO| AK|MA-NH| OK|TN-MS-AR|TN-VA| UT|NC-SC|IA-IL-MO| IA| WV| ID| VT|OR-WA| AR|UT-ID| HI|\n",
                        "+------+---+---+-----+---+---+-----+-----+---+-----+-----+---+-----+-----+-----+---+--------+---+---+---+---+---+---+---+---+---+---+-----+---+-----+---+---+---+---+---+-----+---+---+---+---+---+-----------+---+-----+-----+-----------+---+-----+---+--------+--------+---+-----+---+---+---+-----+---+--------+-----+---+-----+--------+---+---+---+---+-----+---+-----+---+\n",
                        "|    49|  0|  0|    0|  0|  0|    0|    0|  0|    0|    0|  0|    0|    0|    0|  0|       0|  0|  0|  0|  0|  0|  1|  0|  0|  0|  0|    0|  0|    0|  0|  0|  0|  0|  0|    0|  0|  0|  0|  0|  0|          0|  0|    0|    0|          0|  0|    0|  0|       0|       0|  0|    0|  0|  0|  0|    0|  0|       0|    0|  0|    0|       0|  0|  0|  0|  0|    0|  0|    0|  0|\n",
                        "|   122|  0|  0|    0|  0|  0|    0|    0|  0|    0|    0|  0|    0|    0|    0|  0|       0|  0|  0|  0|  0|  0|  0|  0|  0|  0|  0|    0|  0|    0|  0|  0|  0|  0|  0|    0|  0|  0|  0|  0|  0|          0|  0|    0|    0|          0|  0|    0|  0|       0|       0|  0|    0|  0|  0|  0|    0|  0|       1|    0|  0|    0|       0|  0|  0|  0|  0|    0|  0|    0|  0|\n",
                        "|   183|  0|  0|    0|  0|  0|    0|    0|  0|    0|    0|  0|    0|    0|    0|  0|       0|  0|  0|  0|  0|  0|  0|  0|  0|  0|  0|    0|  0|    0|  0|  0|  0|  0|  0|    0|  0|  0|  0|  0|  0|          0|  0|    0|    0|          0|  0|    0|  0|       0|       0|  0|    0|  0|  0|  0|    0|  1|       0|    0|  0|    0|       0|  0|  0|  0|  0|    0|  0|    0|  0|\n",
                        "|   152|  0|  1|    0|  0|  0|    0|    0|  0|    0|    0|  0|    0|    0|    0|  0|       0|  0|  0|  0|  0|  0|  0|  0|  0|  0|  0|    0|  0|    0|  0|  0|  0|  0|  0|    0|  0|  0|  0|  0|  0|          0|  0|    0|    0|          0|  0|    0|  0|       0|       0|  0|    0|  0|  0|  0|    0|  0|       0|    0|  0|    0|       0|  0|  0|  0|  0|    0|  0|    0|  0|\n",
                        "|   111|  0|  0|    0|  0|  0|    0|    0|  0|    0|    0|  0|    0|    0|    0|  0|       0|  0|  0|  1|  0|  0|  0|  0|  0|  0|  0|    0|  0|    0|  0|  0|  0|  0|  0|    0|  0|  0|  0|  0|  0|          0|  0|    0|    0|          0|  0|    0|  0|       0|       0|  0|    0|  0|  0|  0|    0|  0|       0|    0|  0|    0|       0|  0|  0|  0|  0|    0|  0|    0|  0|\n",
                        "|   188|  0|  0|    0|  0|  0|    0|    0|  0|    0|    0|  0|    0|    0|    0|  0|       0|  0|  0|  0|  0|  0|  0|  0|  0|  0|  0|    0|  0|    0|  0|  0|  0|  0|  0|    0|  0|  0|  0|  0|  0|          0|  0|    0|    0|          0|  0|    0|  0|       1|       0|  0|    0|  0|  0|  0|    0|  0|       0|    0|  0|    0|       0|  0|  0|  0|  0|    0|  0|    0|  0|\n",
                        "|   129|  0|  0|    0|  0|  0|    0|    0|  0|    0|    0|  0|    0|    0|    0|  0|       0|  0|  0|  1|  0|  0|  0|  0|  0|  0|  0|    0|  0|    0|  0|  0|  0|  0|  0|    0|  0|  0|  0|  0|  0|          0|  0|    0|    0|          0|  0|    0|  0|       0|       0|  0|    0|  0|  0|  0|    0|  0|       0|    0|  0|    0|       0|  0|  0|  0|  0|    0|  0|    0|  0|\n",
                        "|   205|  0|  0|    0|  0|  0|    0|    0|  0|    0|    0|  0|    0|    0|    0|  0|       0|  0|  0|  0|  0|  0|  0|  0|  0|  0|  0|    0|  1|    0|  0|  0|  0|  0|  0|    0|  0|  0|  0|  0|  0|          0|  0|    0|    0|          0|  0|    0|  0|       0|       0|  0|    0|  0|  0|  0|    0|  0|       0|    0|  0|    0|       0|  0|  0|  0|  0|    0|  0|    0|  0|\n",
                        "|   214|  1|  0|    0|  0|  0|    0|    0|  0|    0|    0|  0|    0|    0|    0|  0|       0|  0|  0|  0|  0|  0|  0|  0|  0|  0|  0|    0|  0|    0|  0|  0|  0|  0|  0|    0|  0|  0|  0|  0|  0|          0|  0|    0|    0|          0|  0|    0|  0|       0|       0|  0|    0|  0|  0|  0|    0|  0|       0|    0|  0|    0|       0|  0|  0|  0|  0|    0|  0|    0|  0|\n",
                        "|   121|  0|  0|    0|  0|  0|    0|    0|  0|    0|    0|  0|    0|    0|    0|  0|       0|  0|  0|  0|  0|  0|  1|  0|  0|  0|  0|    0|  0|    0|  0|  0|  0|  0|  0|    0|  0|  0|  0|  0|  0|          0|  0|    0|    0|          0|  0|    0|  0|       0|       0|  0|    0|  0|  0|  0|    0|  0|       0|    0|  0|    0|       0|  0|  0|  0|  0|    0|  0|    0|  0|\n",
                        "+------+---+---+-----+---+---+-----+-----+---+-----+-----+---+-----+-----+-----+---+--------+---+---+---+---+---+---+---+---+---+---+-----+---+-----+---+---+---+---+---+-----+---+---+---+---+---+-----------+---+-----+-----+-----------+---+-----+---+--------+--------+---+-----+---+---+---+-----+---+--------+-----+---+-----+--------+---+---+---+---+-----+---+-----+---+\n",
                        "only showing top 10 rows\n",
                        "\n"
                    ]
                },
                {
                    "name": "stderr",
                    "output_type": "stream",
                    "text": [
                        "                                                                                \r"
                    ]
                },
                {
                    "data": {
                        "text/plain": [
                            "448"
                        ]
                    },
                    "execution_count": 251,
                    "metadata": {},
                    "output_type": "execute_result"
                }
            ],
            "source": [
                "loc_df = dummy_sys_state('State')\n",
                "loc_df.count()"
            ]
        },
        {
            "cell_type": "code",
            "execution_count": 120,
            "metadata": {},
            "outputs": [
                {
                    "name": "stderr",
                    "output_type": "stream",
                    "text": [
                        "                                                                                \r"
                    ]
                },
                {
                    "data": {
                        "text/plain": [
                            "448"
                        ]
                    },
                    "execution_count": 120,
                    "metadata": {},
                    "output_type": "execute_result"
                }
            ],
            "source": [
                "loc_df.dropDuplicates().count()"
            ]
        },
        {
            "cell_type": "markdown",
            "metadata": {},
            "source": [
                "**Number of page events**"
            ]
        },
        {
            "cell_type": "code",
            "execution_count": 187,
            "metadata": {},
            "outputs": [
                {
                    "name": "stdout",
                    "output_type": "stream",
                    "text": [
                        "+------+-----+----------+---------------+---------+-----+----+----+------+--------+-----------+-------------+--------+----------------+--------------+-----------+---------+-------+\n",
                        "|userId|About|Add Friend|Add to Playlist|Downgrade|Error|Help|Home|Logout|NextSong|Roll Advert|Save Settings|Settings|Submit Downgrade|Submit Upgrade|Thumbs Down|Thumbs Up|Upgrade|\n",
                        "+------+-----+----------+---------------+---------+-----+----+----+------+--------+-----------+-------------+--------+----------------+--------------+-----------+---------+-------+\n",
                        "|   296|    0|         2|              3|        1|    0|   2|   7|     3|     112|          9|            0|       1|               0|             1|          0|        8|      1|\n",
                        "|100010|    0|         3|              1|        0|    0|   0|   3|     1|      96|         22|            0|       0|               0|             0|          3|        4|      2|\n",
                        "|200002|    1|         2|              6|        3|    0|   1|  23|    11|     310|         11|            0|       2|               0|             1|          5|       15|      2|\n",
                        "|   125|    0|         3|              2|        0|    0|   2|   2|     0|      62|          6|            0|       3|               0|             0|          1|        3|      0|\n",
                        "|   124|    3|        26|             45|       21|    0|  10|  70|    17|    1826|          1|            3|      15|               0|             0|         15|      102|      0|\n",
                        "|     7|    2|        16|              6|        0|    0|   3|  36|    11|     462|         35|            2|       5|               0|             0|          4|       12|      6|\n",
                        "|    51|    0|         3|              8|        4|    2|   0|  17|     6|     266|          1|            0|       2|               0|             0|          1|       16|      0|\n",
                        "|200037|    1|         2|              4|        0|    0|   0|   6|     0|     122|          9|            0|       1|               0|             0|          3|        5|      0|\n",
                        "|   169|    0|         6|              0|        0|    0|   0|   6|     0|     112|         13|            1|       3|               0|             0|          0|        6|      2|\n",
                        "|   205|    3|        21|             25|       10|    1|  11|  43|    17|    1048|          0|            2|       3|               0|             0|         10|       50|      0|\n",
                        "|   272|    0|         0|              3|        0|    0|   0|   5|     2|      97|         12|            0|       0|               0|             0|          4|        7|      1|\n",
                        "|   232|    6|        43|             61|       14|    1|  21|  95|    30|    1876|         38|            4|      13|               1|             2|         17|       97|      6|\n",
                        "|    54|    2|        20|             15|        5|    0|   2|  20|     5|     517|          0|            0|       3|               0|             0|          7|       26|      0|\n",
                        "|   234|    3|        17|             51|       14|    2|   7|  64|    22|    1674|         30|            2|      17|               0|             1|         22|       91|      2|\n",
                        "|   282|    6|        79|             66|       19|    4|  19| 110|    34|    2629|         37|            3|      17|               0|             1|         29|      133|      5|\n",
                        "|    15|    3|        32|             57|       26|    1|  12|  66|    20|    1835|          0|            0|      12|               0|             0|         16|       93|      0|\n",
                        "|   155|    0|         0|              4|        1|    1|   1|  11|     3|     140|          0|            2|       2|               0|             0|          0|        7|      0|\n",
                        "|200043|    0|        12|             23|        1|    0|   3|  29|    12|     615|         41|            2|      10|               0|             1|         22|       33|      4|\n",
                        "|   132|    1|         4|              4|        2|    0|   0|   4|     1|     113|          5|            0|       0|               0|             1|          1|        4|      2|\n",
                        "|   154|    0|         4|              4|        0|    0|   0|   4|     1|      93|          9|            1|       2|               0|             0|          2|        4|      0|\n",
                        "+------+-----+----------+---------------+---------+-----+----+----+------+--------+-----------+-------------+--------+----------------+--------------+-----------+---------+-------+\n",
                        "only showing top 20 rows\n",
                        "\n"
                    ]
                }
            ],
            "source": [
                "user_page_distribution = df_data_1.groupby('userId').pivot('page').count().na.fill(0) \n",
                "drop_col = ['Cancel', 'Cancellation Confirmation']\n",
                "user_page_distribution = user_page_distribution.drop(*drop_col)\n",
                "user_page_distribution.show()"
            ]
        },
        {
            "cell_type": "code",
            "execution_count": 188,
            "metadata": {},
            "outputs": [],
            "source": [
                "# Normalize each row sum to 1\n",
                "page_cols = user_page_distribution.columns[1:]\n",
                "old_col_names = user_page_distribution.columns\n",
                "user_page_distribution = user_page_distribution.withColumn('rowsum', p.sum([col(c) for c in page_cols]))\n",
                "\n",
                "for c in page_cols:\n",
                "    user_page_distribution = user_page_distribution.withColumn(f'{c}_norm', col(c)/col('rowsum')*100)\n",
                "\n",
                "user_page_distribution = user_page_distribution.drop(*page_cols)\n",
                "user_page_distribution = user_page_distribution.drop('rowsum')\n",
                "\n",
                "\n",
                "new_col_names = user_page_distribution.columns\n",
                "\n",
                "for idx in range(len(old_col_names)):\n",
                "    user_page_distribution = user_page_distribution.withColumnRenamed(new_col_names[idx], old_col_names[idx])\n"
            ]
        },
        {
            "cell_type": "code",
            "execution_count": 190,
            "metadata": {},
            "outputs": [
                {
                    "data": {
                        "text/html": [
                            "<div>\n",
                            "<style scoped>\n",
                            "    .dataframe tbody tr th:only-of-type {\n",
                            "        vertical-align: middle;\n",
                            "    }\n",
                            "\n",
                            "    .dataframe tbody tr th {\n",
                            "        vertical-align: top;\n",
                            "    }\n",
                            "\n",
                            "    .dataframe thead th {\n",
                            "        text-align: right;\n",
                            "    }\n",
                            "</style>\n",
                            "<table border=\"1\" class=\"dataframe\">\n",
                            "  <thead>\n",
                            "    <tr style=\"text-align: right;\">\n",
                            "      <th></th>\n",
                            "      <th>userId</th>\n",
                            "      <th>About</th>\n",
                            "      <th>Add Friend</th>\n",
                            "      <th>Add to Playlist</th>\n",
                            "      <th>Downgrade</th>\n",
                            "      <th>Error</th>\n",
                            "      <th>Help</th>\n",
                            "      <th>Home</th>\n",
                            "      <th>Logout</th>\n",
                            "      <th>NextSong</th>\n",
                            "      <th>Roll Advert</th>\n",
                            "      <th>Save Settings</th>\n",
                            "      <th>Settings</th>\n",
                            "      <th>Submit Downgrade</th>\n",
                            "      <th>Submit Upgrade</th>\n",
                            "      <th>Thumbs Down</th>\n",
                            "      <th>Thumbs Up</th>\n",
                            "      <th>Upgrade</th>\n",
                            "    </tr>\n",
                            "  </thead>\n",
                            "  <tbody>\n",
                            "    <tr>\n",
                            "      <th>0</th>\n",
                            "      <td>296</td>\n",
                            "      <td>0.000000</td>\n",
                            "      <td>1.333333</td>\n",
                            "      <td>2.000000</td>\n",
                            "      <td>0.666667</td>\n",
                            "      <td>0.0</td>\n",
                            "      <td>1.333333</td>\n",
                            "      <td>4.666667</td>\n",
                            "      <td>2.000000</td>\n",
                            "      <td>74.666667</td>\n",
                            "      <td>6.000000</td>\n",
                            "      <td>0.000000</td>\n",
                            "      <td>0.666667</td>\n",
                            "      <td>0.0</td>\n",
                            "      <td>0.666667</td>\n",
                            "      <td>0.000000</td>\n",
                            "      <td>5.333333</td>\n",
                            "      <td>0.666667</td>\n",
                            "    </tr>\n",
                            "    <tr>\n",
                            "      <th>1</th>\n",
                            "      <td>100010</td>\n",
                            "      <td>0.000000</td>\n",
                            "      <td>2.222222</td>\n",
                            "      <td>0.740741</td>\n",
                            "      <td>0.000000</td>\n",
                            "      <td>0.0</td>\n",
                            "      <td>0.000000</td>\n",
                            "      <td>2.222222</td>\n",
                            "      <td>0.740741</td>\n",
                            "      <td>71.111111</td>\n",
                            "      <td>16.296296</td>\n",
                            "      <td>0.000000</td>\n",
                            "      <td>0.000000</td>\n",
                            "      <td>0.0</td>\n",
                            "      <td>0.000000</td>\n",
                            "      <td>2.222222</td>\n",
                            "      <td>2.962963</td>\n",
                            "      <td>1.481481</td>\n",
                            "    </tr>\n",
                            "    <tr>\n",
                            "      <th>2</th>\n",
                            "      <td>200002</td>\n",
                            "      <td>0.254453</td>\n",
                            "      <td>0.508906</td>\n",
                            "      <td>1.526718</td>\n",
                            "      <td>0.763359</td>\n",
                            "      <td>0.0</td>\n",
                            "      <td>0.254453</td>\n",
                            "      <td>5.852417</td>\n",
                            "      <td>2.798982</td>\n",
                            "      <td>78.880407</td>\n",
                            "      <td>2.798982</td>\n",
                            "      <td>0.000000</td>\n",
                            "      <td>0.508906</td>\n",
                            "      <td>0.0</td>\n",
                            "      <td>0.254453</td>\n",
                            "      <td>1.272265</td>\n",
                            "      <td>3.816794</td>\n",
                            "      <td>0.508906</td>\n",
                            "    </tr>\n",
                            "    <tr>\n",
                            "      <th>3</th>\n",
                            "      <td>125</td>\n",
                            "      <td>0.000000</td>\n",
                            "      <td>3.571429</td>\n",
                            "      <td>2.380952</td>\n",
                            "      <td>0.000000</td>\n",
                            "      <td>0.0</td>\n",
                            "      <td>2.380952</td>\n",
                            "      <td>2.380952</td>\n",
                            "      <td>0.000000</td>\n",
                            "      <td>73.809524</td>\n",
                            "      <td>7.142857</td>\n",
                            "      <td>0.000000</td>\n",
                            "      <td>3.571429</td>\n",
                            "      <td>0.0</td>\n",
                            "      <td>0.000000</td>\n",
                            "      <td>1.190476</td>\n",
                            "      <td>3.571429</td>\n",
                            "      <td>0.000000</td>\n",
                            "    </tr>\n",
                            "    <tr>\n",
                            "      <th>4</th>\n",
                            "      <td>124</td>\n",
                            "      <td>0.139276</td>\n",
                            "      <td>1.207057</td>\n",
                            "      <td>2.089136</td>\n",
                            "      <td>0.974930</td>\n",
                            "      <td>0.0</td>\n",
                            "      <td>0.464253</td>\n",
                            "      <td>3.249768</td>\n",
                            "      <td>0.789229</td>\n",
                            "      <td>84.772516</td>\n",
                            "      <td>0.046425</td>\n",
                            "      <td>0.139276</td>\n",
                            "      <td>0.696379</td>\n",
                            "      <td>0.0</td>\n",
                            "      <td>0.000000</td>\n",
                            "      <td>0.696379</td>\n",
                            "      <td>4.735376</td>\n",
                            "      <td>0.000000</td>\n",
                            "    </tr>\n",
                            "  </tbody>\n",
                            "</table>\n",
                            "</div>"
                        ],
                        "text/plain": [
                            "   userId     About  Add Friend  Add to Playlist  Downgrade  Error      Help  \\\n",
                            "0     296  0.000000    1.333333         2.000000   0.666667    0.0  1.333333   \n",
                            "1  100010  0.000000    2.222222         0.740741   0.000000    0.0  0.000000   \n",
                            "2  200002  0.254453    0.508906         1.526718   0.763359    0.0  0.254453   \n",
                            "3     125  0.000000    3.571429         2.380952   0.000000    0.0  2.380952   \n",
                            "4     124  0.139276    1.207057         2.089136   0.974930    0.0  0.464253   \n",
                            "\n",
                            "       Home    Logout   NextSong  Roll Advert  Save Settings  Settings  \\\n",
                            "0  4.666667  2.000000  74.666667     6.000000       0.000000  0.666667   \n",
                            "1  2.222222  0.740741  71.111111    16.296296       0.000000  0.000000   \n",
                            "2  5.852417  2.798982  78.880407     2.798982       0.000000  0.508906   \n",
                            "3  2.380952  0.000000  73.809524     7.142857       0.000000  3.571429   \n",
                            "4  3.249768  0.789229  84.772516     0.046425       0.139276  0.696379   \n",
                            "\n",
                            "   Submit Downgrade  Submit Upgrade  Thumbs Down  Thumbs Up   Upgrade  \n",
                            "0               0.0        0.666667     0.000000   5.333333  0.666667  \n",
                            "1               0.0        0.000000     2.222222   2.962963  1.481481  \n",
                            "2               0.0        0.254453     1.272265   3.816794  0.508906  \n",
                            "3               0.0        0.000000     1.190476   3.571429  0.000000  \n",
                            "4               0.0        0.000000     0.696379   4.735376  0.000000  "
                        ]
                    },
                    "execution_count": 190,
                    "metadata": {},
                    "output_type": "execute_result"
                }
            ],
            "source": [
                "user_page_distribution.toPandas().head()"
            ]
        },
        {
            "cell_type": "markdown",
            "metadata": {},
            "source": [
                "**Number of artist the user likes**"
            ]
        },
        {
            "cell_type": "code",
            "execution_count": 191,
            "metadata": {},
            "outputs": [
                {
                    "name": "stderr",
                    "output_type": "stream",
                    "text": [
                        "[Stage 421:>                                                      (0 + 12) / 12]\r"
                    ]
                },
                {
                    "name": "stdout",
                    "output_type": "stream",
                    "text": [
                        "+------+----------+\n",
                        "|userId|num_artist|\n",
                        "+------+----------+\n",
                        "|   296|       109|\n",
                        "|100010|        95|\n",
                        "|200002|       288|\n",
                        "|   125|        62|\n",
                        "|   124|      1241|\n",
                        "|    51|       234|\n",
                        "|     7|       408|\n",
                        "|200037|       115|\n",
                        "|   205|       804|\n",
                        "|   169|       112|\n",
                        "|   272|        94|\n",
                        "|    54|       439|\n",
                        "|   234|      1174|\n",
                        "|   282|      1642|\n",
                        "|   232|      1281|\n",
                        "|    15|      1287|\n",
                        "|   155|       134|\n",
                        "|200043|       513|\n",
                        "|   132|       107|\n",
                        "|   154|        93|\n",
                        "+------+----------+\n",
                        "only showing top 20 rows\n",
                        "\n"
                    ]
                },
                {
                    "name": "stderr",
                    "output_type": "stream",
                    "text": [
                        "                                                                                \r"
                    ]
                }
            ],
            "source": [
                "artists = df_data_1.select('userId', 'artist').dropDuplicates().groupBy('userId').count().withColumnRenamed('count', 'num_artist')\n",
                "artists.show()"
            ]
        },
        {
            "cell_type": "markdown",
            "metadata": {},
            "source": [
                "**Session Duration**"
            ]
        },
        {
            "cell_type": "code",
            "execution_count": 197,
            "metadata": {},
            "outputs": [
                {
                    "name": "stderr",
                    "output_type": "stream",
                    "text": [
                        "[Stage 431:>                                                      (0 + 12) / 12]\r"
                    ]
                },
                {
                    "name": "stdout",
                    "output_type": "stream",
                    "text": [
                        "+------+---------+--------------------+\n",
                        "|userId|sessionId|session_duration (h)|\n",
                        "+------+---------+--------------------+\n",
                        "|    77|      343|  10.395277777777778|\n",
                        "|    39|      904|              3.9525|\n",
                        "|   137|      136|  3.2683333333333335|\n",
                        "|   273|      520|   3.100277777777778|\n",
                        "|   127|     1067|  12.248888888888889|\n",
                        "+------+---------+--------------------+\n",
                        "only showing top 5 rows\n",
                        "\n"
                    ]
                },
                {
                    "name": "stderr",
                    "output_type": "stream",
                    "text": [
                        "                                                                                \r"
                    ]
                }
            ],
            "source": [
                "start = df_data_1.groupBy('userId', 'sessionId').min('ts').withColumnRenamed('min(ts)', 'start')\n",
                "end = df_data_1.groupBy('userId', 'sessionId').max('ts').withColumnRenamed('max(ts)', 'end')\n",
                "sesseion_duration = start.join(end, ['userId', 'sessionId'])\n",
                "ticks_per_hours = 1000 * 60 * 60\n",
                "session_df = sesseion_duration.select('userId', 'sessionId', ((col('end')-col('start'))/ticks_per_hours).alias('session_duration (h)'))\n",
                "session_df.show(5)"
            ]
        },
        {
            "cell_type": "code",
            "execution_count": 201,
            "metadata": {},
            "outputs": [
                {
                    "name": "stderr",
                    "output_type": "stream",
                    "text": [
                        "                                                                                \r"
                    ]
                },
                {
                    "name": "stdout",
                    "output_type": "stream",
                    "text": [
                        "+------+------------------+------------------+\n",
                        "|userId|     mean_duration|      std_duration|\n",
                        "+------+------------------+------------------+\n",
                        "|   296|1.6172777777777774|1.4737091207327395|\n",
                        "|100010|3.5062499999999996|0.2873603391321997|\n",
                        "|200002| 4.384333333333333|2.9375948802643896|\n",
                        "|   125| 1.416388888888889| 1.892293418768889|\n",
                        "|    51| 3.661388888888889| 4.110719111378728|\n",
                        "+------+------------------+------------------+\n",
                        "only showing top 5 rows\n",
                        "\n"
                    ]
                }
            ],
            "source": [
                "user_session_hr = session_df.groupBy('userId').agg(avg('session_duration (h)').alias('mean_duration'), stddev('session_duration (h)').alias('std_duration')).na.fill(0)\n",
                "user_session_hr.show(5)"
            ]
        },
        {
            "cell_type": "markdown",
            "metadata": {},
            "source": [
                "**Session Count**"
            ]
        },
        {
            "cell_type": "code",
            "execution_count": 202,
            "metadata": {},
            "outputs": [
                {
                    "name": "stderr",
                    "output_type": "stream",
                    "text": [
                        "[Stage 474:====>                                                  (1 + 11) / 12]\r"
                    ]
                },
                {
                    "name": "stdout",
                    "output_type": "stream",
                    "text": [
                        "+------+------------+\n",
                        "|userId|num_sessions|\n",
                        "+------+------------+\n",
                        "|   296|           5|\n",
                        "|100010|           2|\n",
                        "|200002|           5|\n",
                        "|   125|           3|\n",
                        "|    51|           5|\n",
                        "|     7|          15|\n",
                        "|   124|          17|\n",
                        "|200037|           7|\n",
                        "|   205|           5|\n",
                        "|   169|           8|\n",
                        "|   272|           2|\n",
                        "|    54|           8|\n",
                        "|   232|          23|\n",
                        "|   282|          29|\n",
                        "|   234|          26|\n",
                        "|    15|          18|\n",
                        "|   155|           4|\n",
                        "|200043|          12|\n",
                        "|   154|           4|\n",
                        "|   132|           2|\n",
                        "+------+------------+\n",
                        "only showing top 20 rows\n",
                        "\n"
                    ]
                },
                {
                    "name": "stderr",
                    "output_type": "stream",
                    "text": [
                        "                                                                                \r"
                    ]
                }
            ],
            "source": [
                "session_count = df_data_1.select('userId', 'sessionId').dropDuplicates().groupBy('userId').count().withColumnRenamed('count', 'num_sessions')\n",
                "session_count.show()"
            ]
        },
        {
            "cell_type": "markdown",
            "metadata": {},
            "source": [
                "**The user's subscription duration**"
            ]
        },
        {
            "cell_type": "code",
            "execution_count": 203,
            "metadata": {},
            "outputs": [],
            "source": [
                "def subscription_age(df_data_1, col_name):\n",
                "    reg_time = df_data_1.select('userId', 'registration').dropDuplicates().withColumnRenamed('registration', 'registration_time')\n",
                "    max_time = df_data_1.groupBy('userId').max('ts').withColumnRenamed('max(ts)', 'current')\n",
                "    reg_df = reg_time.join(max_time, 'userId')\n",
                "    ticks_per_day = 1000 * 60 * 60 * 24 # as the timestamp is in ticks (0.001 seconds)\n",
                "    reg_df = reg_df.select('userId', ((reg_df.current - reg_df.registration_time)/ticks_per_day).alias(col_name))\n",
                "\n",
                "    return reg_df"
            ]
        },
        {
            "cell_type": "code",
            "execution_count": 204,
            "metadata": {},
            "outputs": [
                {
                    "name": "stderr",
                    "output_type": "stream",
                    "text": [
                        "[Stage 481:>                                                      (0 + 12) / 12]\r"
                    ]
                },
                {
                    "name": "stdout",
                    "output_type": "stream",
                    "text": [
                        "+------+------------------+\n",
                        "|userId|  subscription_age|\n",
                        "+------+------------------+\n",
                        "|   296| 26.63826388888889|\n",
                        "|   125|105.42211805555556|\n",
                        "|    51| 18.84582175925926|\n",
                        "|   124| 112.5537962962963|\n",
                        "|     7| 78.02979166666667|\n",
                        "+------+------------------+\n",
                        "only showing top 5 rows\n",
                        "\n"
                    ]
                },
                {
                    "name": "stderr",
                    "output_type": "stream",
                    "text": [
                        "                                                                                \r"
                    ]
                }
            ],
            "source": [
                "reg_df = subscription_age(df_data_1, 'subscription_age')\n",
                "reg_df.show(5)"
            ]
        },
        {
            "cell_type": "markdown",
            "metadata": {},
            "source": [
                "**Collect all to prepare the dataset for modeling**"
            ]
        },
        {
            "cell_type": "code",
            "execution_count": 349,
            "metadata": {},
            "outputs": [
                {
                    "name": "stderr",
                    "output_type": "stream",
                    "text": [
                        "                                                                                \r"
                    ]
                },
                {
                    "name": "stdout",
                    "output_type": "stream",
                    "text": [
                        "the new frame's dimensions is: 448 * 3\n"
                    ]
                },
                {
                    "name": "stderr",
                    "output_type": "stream",
                    "text": [
                        "                                                                                \r"
                    ]
                },
                {
                    "name": "stdout",
                    "output_type": "stream",
                    "text": [
                        "the new frame's dimensions is: 691 * 4\n"
                    ]
                },
                {
                    "name": "stderr",
                    "output_type": "stream",
                    "text": [
                        "                                                                                \r"
                    ]
                },
                {
                    "name": "stdout",
                    "output_type": "stream",
                    "text": [
                        "the new frame's dimensions is: 691 * 8\n"
                    ]
                },
                {
                    "name": "stderr",
                    "output_type": "stream",
                    "text": [
                        "                                                                                \r"
                    ]
                },
                {
                    "name": "stdout",
                    "output_type": "stream",
                    "text": [
                        "the new frame's dimensions is: 691 * 78\n"
                    ]
                },
                {
                    "name": "stderr",
                    "output_type": "stream",
                    "text": [
                        "                                                                                \r"
                    ]
                },
                {
                    "name": "stdout",
                    "output_type": "stream",
                    "text": [
                        "the new frame's dimensions is: 691 * 95\n"
                    ]
                },
                {
                    "name": "stderr",
                    "output_type": "stream",
                    "text": [
                        "                                                                                \r"
                    ]
                },
                {
                    "name": "stdout",
                    "output_type": "stream",
                    "text": [
                        "the new frame's dimensions is: 691 * 96\n"
                    ]
                },
                {
                    "name": "stderr",
                    "output_type": "stream",
                    "text": [
                        "                                                                                \r"
                    ]
                },
                {
                    "name": "stdout",
                    "output_type": "stream",
                    "text": [
                        "the new frame's dimensions is: 691 * 98\n"
                    ]
                },
                {
                    "name": "stderr",
                    "output_type": "stream",
                    "text": [
                        "                                                                                \r"
                    ]
                },
                {
                    "name": "stdout",
                    "output_type": "stream",
                    "text": [
                        "the new frame's dimensions is: 691 * 99\n"
                    ]
                },
                {
                    "name": "stderr",
                    "output_type": "stream",
                    "text": [
                        "                                                                                \r"
                    ]
                },
                {
                    "name": "stdout",
                    "output_type": "stream",
                    "text": [
                        "the new frame's dimensions is: 691 * 100\n",
                        "*** Dataset is ready! ***\n"
                    ]
                }
            ],
            "source": [
                "features = [gender_df, level_df, sys_df, loc_df, user_page_distribution, artists, user_session_hr, session_count, reg_df]\n",
                "\n",
                "new_df = churn_users\n",
                "\n",
                "for i, feature in enumerate(features):\n",
                "    new_df = new_df.join(feature, 'userId', how = 'inner')\n",
                "    print(f\"the new frame's dimensions is: {new_df.count()} * {len(new_df.columns)}\")\n",
                "\n",
                "final_df = new_df.orderBy('userId', ascending = True)\n",
                "print('*** Dataset is ready! ***')"
            ]
        },
        {
            "cell_type": "markdown",
            "metadata": {},
            "source": [
                "**Save data to local**"
            ]
        },
        {
            "cell_type": "code",
            "execution_count": 351,
            "metadata": {},
            "outputs": [
                {
                    "name": "stderr",
                    "output_type": "stream",
                    "text": [
                        "                                                                                \r"
                    ]
                }
            ],
            "source": [
                "final_df.write.csv('churn_model_data.csv', header = True)"
            ]
        },
        {
            "cell_type": "markdown",
            "metadata": {},
            "source": [
                "# Modeling\n",
                "In this section, we will split dataset into train, valid, and test sets. Try different machine learning methods including:\n",
                "\n",
                "- Logistic Regression\n",
                "- Decision Tree Classifier\n",
                "- Gradient Boosting Trees (GBTs)\n",
                "- Random Forest\n",
                "- Multilayer Perceptron Classifier"
            ]
        },
        {
            "cell_type": "markdown",
            "metadata": {},
            "source": [
                "## 1. Load training data"
            ]
        },
        {
            "cell_type": "code",
            "execution_count": 411,
            "metadata": {},
            "outputs": [],
            "source": [
                "import time\n",
                "from pyspark.ml import Pipeline\n",
                "from pyspark.ml.classification import LogisticRegression, RandomForestClassifier, DecisionTreeClassifier, GBTClassifier, MultilayerPerceptronClassifier\n",
                "from pyspark.ml.evaluation import BinaryClassificationEvaluator\n",
                "from pyspark.ml.evaluation import MulticlassClassificationEvaluator\n",
                "from pyspark.ml.tuning import CrossValidator, ParamGridBuilder\n",
                "from sklearn.inspection import permutation_importance\n",
                "from pyspark.ml.feature import VectorAssembler, StandardScaler\n",
                "from sklearn.metrics import f1_score\n",
                "from pyspark.sql.types import IntegerType, FloatType"
            ]
        },
        {
            "cell_type": "code",
            "execution_count": 353,
            "metadata": {},
            "outputs": [
                {
                    "name": "stdout",
                    "output_type": "stream",
                    "text": [
                        "+------+-----+----------+---------+---+-----+---+-------+---+---+-----+---+---+-----+-----+---+-----+-----+---+-----+-----+-----+---+--------+---+---+---+---+---+---+---+---+---+---+-----+---+-----+---+---+---+---+---+-----+---+---+---+---+---+-----------+---+-----+-----+-----------+---+-----+---+--------+--------+---+-----+---+---+---+-----+---+--------+-----+---+-----+--------+---+---+---+---+-----+---+-----+---+-----+------------------+----------------+-------------------+-------------------+------------------+------------------+------------------+----------------+-----------+-------------+------------------+----------------+--------------+-------------------+-----------------+-------+----------+-------------+------------+------------+------------------+\n",
                        "|userId|churn|gender_num|level_num|iOS|Linux|Mac|Windows| AZ| SC|GA-AL| LA| MN|RI-MA|MA-CT| NJ|IL-MO|MN-WI| OR|PA-NJ|SC-NC|MD-WV| VA|NY-NJ-PA| KY| NH| MI| NV| WI| CA| CT| MT| NC| MD|NE-IA| IL|ND-MN| ME| WA| MS| AL| IN|AR-OK| OH| TN| NM| PA| SD|DC-VA-MD-WV| NY|MO-KS|KY-IN|PA-NJ-DE-MD| TX|VA-NC| GA|IL-IN-WI|OH-KY-IN| KS|MO-IL| FL| CO| AK|MA-NH| OK|TN-MS-AR|TN-VA| UT|NC-SC|IA-IL-MO| IA| WV| ID| VT|OR-WA| AR|UT-ID| HI|About|        Add Friend| Add to Playlist|          Downgrade|              Error|              Help|              Home|            Logout|        NextSong|Roll Advert|Save Settings|          Settings|Submit Downgrade|Submit Upgrade|        Thumbs Down|        Thumbs Up|Upgrade|num_artist|mean_duration|std_duration|num_sessions|  subscription_age|\n",
                        "+------+-----+----------+---------+---+-----+---+-------+---+---+-----+---+---+-----+-----+---+-----+-----+---+-----+-----+-----+---+--------+---+---+---+---+---+---+---+---+---+---+-----+---+-----+---+---+---+---+---+-----+---+---+---+---+---+-----------+---+-----+-----+-----------+---+-----+---+--------+--------+---+-----+---+---+---+-----+---+--------+-----+---+-----+--------+---+---+---+---+-----+---+-----+---+-----+------------------+----------------+-------------------+-------------------+------------------+------------------+------------------+----------------+-----------+-------------+------------------+----------------+--------------+-------------------+-----------------+-------+----------+-------------+------------+------------+------------------+\n",
                        "|    10|    1|         1|        1|  0|    0|  1|      0|  0|  0|    0|  0|  0|    0|    0|  0|    0|    0|  0|    0|    0|    0|  0|       0|  0|  0|  0|  0|  0|  0|  0|  0|  0|  0|    0|  0|    0|  0|  0|  1|  0|  0|    0|  0|  0|  0|  0|  0|          0|  0|    0|    0|          0|  0|    0|  0|       0|       0|  0|    0|  0|  0|  0|    0|  0|       0|    0|  0|    0|       0|  0|  0|  0|  0|    0|  0|    0|  0|  0.0|0.7125890736342043|3.32541567695962|0.23752969121140144|0.23752969121140144|0.7125890736342043|3.5629453681710213|0.9501187648456058|85.5106888361045|        0.0|          0.0|0.4750593824228029|             0.0|           0.0|0.23752969121140144|4.038004750593824|    0.0|       307|        25.04|         0.0|           1|10.368854166666667|\n",
                        "+------+-----+----------+---------+---+-----+---+-------+---+---+-----+---+---+-----+-----+---+-----+-----+---+-----+-----+-----+---+--------+---+---+---+---+---+---+---+---+---+---+-----+---+-----+---+---+---+---+---+-----+---+---+---+---+---+-----------+---+-----+-----+-----------+---+-----+---+--------+--------+---+-----+---+---+---+-----+---+--------+-----+---+-----+--------+---+---+---+---+-----+---+-----+---+-----+------------------+----------------+-------------------+-------------------+------------------+------------------+------------------+----------------+-----------+-------------+------------------+----------------+--------------+-------------------+-----------------+-------+----------+-------------+------------+------------+------------------+\n",
                        "only showing top 1 row\n",
                        "\n"
                    ]
                }
            ],
            "source": [
                "final_df = spark.read.csv('churn_model_data.csv', header=True)\n",
                "final_df.show(1)"
            ]
        },
        {
            "cell_type": "code",
            "execution_count": 354,
            "metadata": {},
            "outputs": [
                {
                    "name": "stdout",
                    "output_type": "stream",
                    "text": [
                        "['userId', 'churn', 'gender_num', 'level_num', 'iOS', 'Linux', 'Mac', 'Windows', 'AZ', 'SC', 'GA_AL', 'LA', 'MN', 'RI_MA', 'MA_CT', 'NJ', 'IL_MO', 'MN_WI', 'OR', 'PA_NJ', 'SC_NC', 'MD_WV', 'VA', 'NY_NJ_PA', 'KY', 'NH', 'MI', 'NV', 'WI', 'CA', 'CT', 'MT', 'NC', 'MD', 'NE_IA', 'IL', 'ND_MN', 'ME', 'WA', 'MS', 'AL', 'IN', 'AR_OK', 'OH', 'TN', 'NM', 'PA', 'SD', 'DC_VA_MD_WV', 'NY', 'MO_KS', 'KY_IN', 'PA_NJ_DE_MD', 'TX', 'VA_NC', 'GA', 'IL_IN_WI', 'OH_KY_IN', 'KS', 'MO_IL', 'FL', 'CO', 'AK', 'MA_NH', 'OK', 'TN_MS_AR', 'TN_VA', 'UT', 'NC_SC', 'IA_IL_MO', 'IA', 'WV', 'ID', 'VT', 'OR_WA', 'AR', 'UT_ID', 'HI', 'About', 'Add_Friend', 'Add_to_Playlist', 'Downgrade', 'Error', 'Help', 'Home', 'Logout', 'NextSong', 'Roll_Advert', 'Save_Settings', 'Settings', 'Submit_Downgrade', 'Submit_Upgrade', 'Thumbs_Down', 'Thumbs_Up', 'Upgrade', 'num_artist', 'mean_duration', 'std_duration', 'num_sessions', 'subscription_age']\n"
                    ]
                }
            ],
            "source": [
                "# replace space in column names with underscore\n",
                "for col in final_df.columns:\n",
                "    final_df = final_df.withColumnRenamed(col, col.replace(' ', '_').replace('-', '_'))\n",
                "print(final_df.columns)"
            ]
        },
        {
            "cell_type": "code",
            "execution_count": 358,
            "metadata": {},
            "outputs": [
                {
                    "name": "stdout",
                    "output_type": "stream",
                    "text": [
                        "root\n",
                        " |-- userId: integer (nullable = true)\n",
                        " |-- churn: integer (nullable = true)\n",
                        " |-- gender_num: integer (nullable = true)\n",
                        " |-- level_num: integer (nullable = true)\n",
                        " |-- iOS: integer (nullable = true)\n",
                        " |-- Linux: integer (nullable = true)\n",
                        " |-- Mac: integer (nullable = true)\n",
                        " |-- Windows: integer (nullable = true)\n",
                        " |-- AZ: integer (nullable = true)\n",
                        " |-- SC: integer (nullable = true)\n",
                        " |-- GA_AL: integer (nullable = true)\n",
                        " |-- LA: integer (nullable = true)\n",
                        " |-- MN: integer (nullable = true)\n",
                        " |-- RI_MA: integer (nullable = true)\n",
                        " |-- MA_CT: integer (nullable = true)\n",
                        " |-- NJ: integer (nullable = true)\n",
                        " |-- IL_MO: integer (nullable = true)\n",
                        " |-- MN_WI: integer (nullable = true)\n",
                        " |-- OR: integer (nullable = true)\n",
                        " |-- PA_NJ: integer (nullable = true)\n",
                        " |-- SC_NC: integer (nullable = true)\n",
                        " |-- MD_WV: integer (nullable = true)\n",
                        " |-- VA: integer (nullable = true)\n",
                        " |-- NY_NJ_PA: integer (nullable = true)\n",
                        " |-- KY: integer (nullable = true)\n",
                        " |-- NH: integer (nullable = true)\n",
                        " |-- MI: integer (nullable = true)\n",
                        " |-- NV: integer (nullable = true)\n",
                        " |-- WI: integer (nullable = true)\n",
                        " |-- CA: integer (nullable = true)\n",
                        " |-- CT: integer (nullable = true)\n",
                        " |-- MT: integer (nullable = true)\n",
                        " |-- NC: integer (nullable = true)\n",
                        " |-- MD: integer (nullable = true)\n",
                        " |-- NE_IA: integer (nullable = true)\n",
                        " |-- IL: integer (nullable = true)\n",
                        " |-- ND_MN: integer (nullable = true)\n",
                        " |-- ME: integer (nullable = true)\n",
                        " |-- WA: integer (nullable = true)\n",
                        " |-- MS: integer (nullable = true)\n",
                        " |-- AL: integer (nullable = true)\n",
                        " |-- IN: integer (nullable = true)\n",
                        " |-- AR_OK: integer (nullable = true)\n",
                        " |-- OH: integer (nullable = true)\n",
                        " |-- TN: integer (nullable = true)\n",
                        " |-- NM: integer (nullable = true)\n",
                        " |-- PA: integer (nullable = true)\n",
                        " |-- SD: integer (nullable = true)\n",
                        " |-- DC_VA_MD_WV: integer (nullable = true)\n",
                        " |-- NY: integer (nullable = true)\n",
                        " |-- MO_KS: integer (nullable = true)\n",
                        " |-- KY_IN: integer (nullable = true)\n",
                        " |-- PA_NJ_DE_MD: integer (nullable = true)\n",
                        " |-- TX: integer (nullable = true)\n",
                        " |-- VA_NC: integer (nullable = true)\n",
                        " |-- GA: integer (nullable = true)\n",
                        " |-- IL_IN_WI: integer (nullable = true)\n",
                        " |-- OH_KY_IN: integer (nullable = true)\n",
                        " |-- KS: integer (nullable = true)\n",
                        " |-- MO_IL: integer (nullable = true)\n",
                        " |-- FL: integer (nullable = true)\n",
                        " |-- CO: integer (nullable = true)\n",
                        " |-- AK: integer (nullable = true)\n",
                        " |-- MA_NH: integer (nullable = true)\n",
                        " |-- OK: integer (nullable = true)\n",
                        " |-- TN_MS_AR: integer (nullable = true)\n",
                        " |-- TN_VA: integer (nullable = true)\n",
                        " |-- UT: integer (nullable = true)\n",
                        " |-- NC_SC: integer (nullable = true)\n",
                        " |-- IA_IL_MO: integer (nullable = true)\n",
                        " |-- IA: integer (nullable = true)\n",
                        " |-- WV: integer (nullable = true)\n",
                        " |-- ID: integer (nullable = true)\n",
                        " |-- VT: integer (nullable = true)\n",
                        " |-- OR_WA: integer (nullable = true)\n",
                        " |-- AR: integer (nullable = true)\n",
                        " |-- UT_ID: integer (nullable = true)\n",
                        " |-- HI: integer (nullable = true)\n",
                        " |-- About: integer (nullable = true)\n",
                        " |-- Add_Friend: integer (nullable = true)\n",
                        " |-- Add_to_Playlist: float (nullable = true)\n",
                        " |-- Downgrade: float (nullable = true)\n",
                        " |-- Error: float (nullable = true)\n",
                        " |-- Help: float (nullable = true)\n",
                        " |-- Home: float (nullable = true)\n",
                        " |-- Logout: float (nullable = true)\n",
                        " |-- NextSong: float (nullable = true)\n",
                        " |-- Roll_Advert: float (nullable = true)\n",
                        " |-- Save_Settings: float (nullable = true)\n",
                        " |-- Settings: float (nullable = true)\n",
                        " |-- Submit_Downgrade: float (nullable = true)\n",
                        " |-- Submit_Upgrade: float (nullable = true)\n",
                        " |-- Thumbs_Down: float (nullable = true)\n",
                        " |-- Thumbs_Up: float (nullable = true)\n",
                        " |-- Upgrade: float (nullable = true)\n",
                        " |-- num_artist: float (nullable = true)\n",
                        " |-- mean_duration: float (nullable = true)\n",
                        " |-- std_duration: float (nullable = true)\n",
                        " |-- num_sessions: float (nullable = true)\n",
                        " |-- subscription_age: float (nullable = true)\n",
                        "\n"
                    ]
                }
            ],
            "source": [
                "# change string userId to numeric\n",
                "final_df = final_df.withColumn('userId', final_df.userId.cast(IntegerType()))\n",
                "final_df = final_df.withColumn('churn', final_df.churn.cast(IntegerType()))\n",
                "\n",
                "for col in final_df.columns[2:80]:\n",
                "    final_df = final_df.withColumn(col, final_df[col].cast(IntegerType()))\n",
                "final_df.printSchema()"
            ]
        },
        {
            "cell_type": "code",
            "execution_count": 378,
            "metadata": {},
            "outputs": [
                {
                    "name": "stdout",
                    "output_type": "stream",
                    "text": [
                        "+------+-----+----------+---------+---+-----+---+-------+---+---+-----+---+---+-----+-----+---+-----+-----+---+-----+-----+-----+---+--------+---+---+---+---+---+---+---+---+---+---+-----+---+-----+---+---+---+---+---+-----+---+---+---+---+---+-----------+---+-----+-----+-----------+---+-----+---+--------+--------+---+-----+---+---+---+-----+---+--------+-----+---+-----+--------+---+---+---+---+-----+---+-----+---+-----+----------+---------------+---------+-----------+---------+---------+----------+---------+-----------+-------------+---------+----------------+--------------+-----------+---------+-----------+----------+-------------+------------+------------+----------------+\n",
                        "|userId|churn|gender_num|level_num|iOS|Linux|Mac|Windows| AZ| SC|GA_AL| LA| MN|RI_MA|MA_CT| NJ|IL_MO|MN_WI| OR|PA_NJ|SC_NC|MD_WV| VA|NY_NJ_PA| KY| NH| MI| NV| WI| CA| CT| MT| NC| MD|NE_IA| IL|ND_MN| ME| WA| MS| AL| IN|AR_OK| OH| TN| NM| PA| SD|DC_VA_MD_WV| NY|MO_KS|KY_IN|PA_NJ_DE_MD| TX|VA_NC| GA|IL_IN_WI|OH_KY_IN| KS|MO_IL| FL| CO| AK|MA_NH| OK|TN_MS_AR|TN_VA| UT|NC_SC|IA_IL_MO| IA| WV| ID| VT|OR_WA| AR|UT_ID| HI|About|Add_Friend|Add_to_Playlist|Downgrade|      Error|     Help|     Home|    Logout| NextSong|Roll_Advert|Save_Settings| Settings|Submit_Downgrade|Submit_Upgrade|Thumbs_Down|Thumbs_Up|    Upgrade|num_artist|mean_duration|std_duration|num_sessions|subscription_age|\n",
                        "+------+-----+----------+---------+---+-----+---+-------+---+---+-----+---+---+-----+-----+---+-----+-----+---+-----+-----+-----+---+--------+---+---+---+---+---+---+---+---+---+---+-----+---+-----+---+---+---+---+---+-----+---+---+---+---+---+-----------+---+-----+-----+-----------+---+-----+---+--------+--------+---+-----+---+---+---+-----+---+--------+-----+---+-----+--------+---+---+---+---+-----+---+-----+---+-----+----------+---------------+---------+-----------+---------+---------+----------+---------+-----------+-------------+---------+----------------+--------------+-----------+---------+-----------+----------+-------------+------------+------------+----------------+\n",
                        "|    10|    1|         1|        1|  0|    0|  1|      0|  0|  0|    0|  0|  0|    0|    0|  0|    0|    0|  0|    0|    0|    0|  0|       0|  0|  0|  0|  0|  0|  0|  0|  0|  0|  0|    0|  0|    0|  0|  0|  1|  0|  0|    0|  0|  0|  0|  0|  0|          0|  0|    0|    0|          0|  0|    0|  0|       0|       0|  0|    0|  0|  0|  0|    0|  0|       0|    0|  0|    0|       0|  0|  0|  0|  0|    0|  0|    0|  0|    0|         0|      3.3254156|0.2375297|  0.2375297|0.7125891|3.5629454| 0.9501188| 85.51069|        0.0|          0.0|0.4750594|             0.0|           0.0|  0.2375297| 4.038005|        0.0|     307.0|        25.04|         0.0|         1.0|      10.3688545|\n",
                        "|   100|    0|         1|        0|  0|    0|  0|      1|  0|  0|    0|  0|  0|    0|    0|  0|    0|    0|  0|    0|    0|    0|  0|       0|  0|  0|  0|  0|  0|  0|  0|  0|  0|  0|    0|  0|    0|  0|  0|  0|  0|  0|    0|  0|  0|  0|  0|  0|          0|  0|    0|    0|          0|  1|    0|  0|       0|       0|  0|    0|  0|  0|  0|    0|  0|       0|    0|  0|    0|       0|  0|  0|  0|  0|    0|  0|    0|  0|    0|         1|      2.3505876|1.0002501|0.075018756|0.4251063| 3.375844|0.90022504|84.571144| 0.20005001|  0.050012503|0.4251063|             0.0|   0.025006251| 0.92523134|3.5758939|0.025006251|    1964.0|     5.841296|   6.2801757|        39.0|       65.095055|\n",
                        "+------+-----+----------+---------+---+-----+---+-------+---+---+-----+---+---+-----+-----+---+-----+-----+---+-----+-----+-----+---+--------+---+---+---+---+---+---+---+---+---+---+-----+---+-----+---+---+---+---+---+-----+---+---+---+---+---+-----------+---+-----+-----+-----------+---+-----+---+--------+--------+---+-----+---+---+---+-----+---+--------+-----+---+-----+--------+---+---+---+---+-----+---+-----+---+-----+----------+---------------+---------+-----------+---------+---------+----------+---------+-----------+-------------+---------+----------------+--------------+-----------+---------+-----------+----------+-------------+------------+------------+----------------+\n",
                        "only showing top 2 rows\n",
                        "\n"
                    ]
                }
            ],
            "source": [
                "# Remove null anywhere and replace with 0\n",
                "final_df = final_df.na.fill(0)\n",
                "final_df.show(2)"
            ]
        },
        {
            "cell_type": "code",
            "execution_count": 454,
            "metadata": {},
            "outputs": [
                {
                    "name": "stdout",
                    "output_type": "stream",
                    "text": [
                        "+--------------------+\n",
                        "|            features|\n",
                        "+--------------------+\n",
                        "|(98,[0,1,4,37,78,...|\n",
                        "|(98,[0,5,51,77,78...|\n",
                        "|(98,[0,1,5,51,77,...|\n",
                        "|(98,[4,58,78,81,8...|\n",
                        "|(98,[1,5,27,78,79...|\n",
                        "|(98,[5,27,78,79,8...|\n",
                        "|(98,[1,5,58,78,79...|\n",
                        "|(98,[5,58,78,79,8...|\n",
                        "|(98,[5,47,77,78,8...|\n",
                        "|(98,[0,4,9,78,82,...|\n",
                        "+--------------------+\n",
                        "only showing top 10 rows\n",
                        "\n"
                    ]
                }
            ],
            "source": [
                "# Collect features using VectorAssembler\n",
                "feature_labels = final_df.columns[2:]\n",
                "assembler = VectorAssembler(inputCols=feature_labels, outputCol='features')\n",
                "input = assembler.transform(final_df)\n",
                "input.select('features').show(10)"
            ]
        },
        {
            "cell_type": "code",
            "execution_count": 455,
            "metadata": {},
            "outputs": [
                {
                    "name": "stdout",
                    "output_type": "stream",
                    "text": [
                        "+-----+--------------------+\n",
                        "|label|            features|\n",
                        "+-----+--------------------+\n",
                        "|    1|[0.89611034902926...|\n",
                        "|    0|[0.89611034902926...|\n",
                        "|    0|[0.89611034902926...|\n",
                        "|    1|[-1.1143190379162...|\n",
                        "|    0|[-1.1143190379162...|\n",
                        "+-----+--------------------+\n",
                        "only showing top 5 rows\n",
                        "\n"
                    ]
                }
            ],
            "source": [
                "# Scale the features\n",
                "feature_scaler = StandardScaler(withMean=True, withStd=True, inputCol='features', outputCol='scaled_features')\n",
                "scaler_fit = feature_scaler.fit(input)\n",
                "scaled_input = scaler_fit.transform(input)\n",
                "model_data = scaled_input.select(scaled_input.churn.alias('label'), scaled_input.scaled_features.alias('features'))\n",
                "model_data.show(5)"
            ]
        },
        {
            "cell_type": "code",
            "execution_count": 456,
            "metadata": {},
            "outputs": [],
            "source": [
                "train, test = model_data.randomSplit([0.9, 0.1], seed = 42)"
            ]
        },
        {
            "cell_type": "markdown",
            "metadata": {},
            "source": [
                "## 2. Train and test model"
            ]
        },
        {
            "cell_type": "code",
            "execution_count": 535,
            "metadata": {},
            "outputs": [],
            "source": [
                "\n",
                "def model_fit(data, model_type, param_grid, save_model, num_folds=10, random_seed=42):\n",
                "    '''\n",
                "    '''\n",
                "    cross_val = CrossValidator(estimator=model_type, estimatorParamMaps=param_grid, \\\n",
                "                            evaluator=MulticlassClassificationEvaluator(), numFolds=num_folds, seed=random_seed)\n",
                "    \n",
                "    start = time.time()\n",
                "    model = cross_val.fit(data)      \n",
                "    training_duration = time.time() - start\n",
                "    print(\"training time is {}s\".format(training_duration))\n",
                "\n",
                "    try:\n",
                "        model.save(save_model)  \n",
                "    except:\n",
                "        model.write().overwrite().save(save_model)\n",
                "\n",
                "    return model    \n",
                "\n",
                "\n",
                "def get_metrics(metrics):\n",
                "    '''\n",
                "    '''\n",
                "    acc = metrics.accuracy\n",
                "    general_score = np.array((metrics.weightedFMeasure(), metrics.weightedPrecision, metrics.weightedRecall,\n",
                "                              metrics.weightedTruePositiveRate, metrics.weightedFalsePositiveRate))\n",
                "    general_score = general_score.reshape(1, general_score.shape[0])\n",
                "    labels = ['General'] + [f'Churn={x}' for x in metrics.labels]\n",
                "    label_score = np.array((metrics.fMeasureByLabel(), metrics.precisionByLabel, metrics.recallByLabel,\n",
                "                            metrics.truePositiveRateByLabel, metrics.falsePositiveRateByLabel))\n",
                "\n",
                "    concat_results = np.concatenate((general_score.T, label_score), axis=1)\n",
                "    metrics_name = ['F-Measure', 'Precision', 'Recall', 'True_+ve_Rate', 'False_+ve_Rate']\n",
                "    df = pd.DataFrame(concat_results, columns = labels, index=metrics_name)\n",
                "\n",
                "    return acc, df\n",
                "\n",
                "\n",
                "def model_testing(test_data, model):\n",
                "    '''\n",
                "    '''\n",
                "    metrics_train = model.bestModel.summary\n",
                "    train_acc, train_score = get_metrics(metrics_train)\n",
                "\n",
                "    label_predictions = model.bestModel.evaluate(test_data)\n",
                "    metrics_test = label_predictions\n",
                "    test_acc, test_score = get_metrics(metrics_test)\n",
                "\n",
                "    # Concatenate training and testing score\n",
                "    con_df = pd.concat([train_score, test_score], axis=1, keys=[\n",
                "        f'Training Accuracy = {train_acc*100:4.2f}%',\n",
                "        f'Testing Accuracy = {test_acc*100:4.2f}%'\n",
                "    ])\n",
                "\n",
                "    return con_df\n",
                "\n",
                "\n",
                "def draw_features_contribution(model, x_labels):\n",
                "    '''\n",
                "    '''\n",
                "    coeffs = model.bestModel.coefficientMatrix\n",
                "    coeffs = coeffs.values\n",
                "\n",
                "    positive_coeffs = np.array([x if x >= 0 else 0 for x in coeffs])\n",
                "    negative_coeffs = np.array([x if x <= 0 else 0 for x in coeffs])\n",
                "\n",
                "    coeffs_sum = positive_coeffs.sum() + np.absolute(negative_coeffs).sum()\n",
                "    positive_coeffs /= coeffs_sum\n",
                "    negative_coeffs /= coeffs_sum\n",
                "    positive_coeffs *= 100\n",
                "    negative_coeffs *= 100\n",
                "\n",
                "    fig, ax = plt.subplots(figsize=(20, 9))\n",
                "    ax.bar(x_labels, positive_coeffs,color='r')\n",
                "    ax.bar(x_labels, negative_coeffs, color='g')\n",
                "    ax.set_xlabel('Features')\n",
                "    ax.set_ylabel('The user is most likely to churn (%)')\n",
                "    ax.set_title('Contribution of each feature to the churn decission')\n",
                "    ax.set_xticklabels(labels = x_labels, rotation='vertical')\n",
                "\n",
                "\n",
                "def compute_classifier_metrics(data, model, label):\n",
                "    '''\n",
                "    '''\n",
                "    pred = model.transform(data).select('label', 'prediction')\n",
                "    true_positive = pred.filter((pred.label == 1) & (pred.label == pred.prediction)).count()\n",
                "    false_positive = pred.filter((pred.label == 0) & (pred.label != pred.prediction)).count()\n",
                "    false_negative = pred.filter((pred.label == 1) & (pred.label != pred.prediction)).count()\n",
                "    accuracy = pred.filter(pred.label == pred.prediction).count() / pred.count() * 100\n",
                "    precision = true_positive / (true_positive + false_positive)\n",
                "    recall = true_positive / (true_positive + false_negative)\n",
                "    f1 = 2*precision*recall / (precision + recall)\n",
                "    labels = [label]\n",
                "    idx = ['Accuracy', 'Precision', 'Recall', 'F-Score']\n",
                "    df = pd.DataFrame(np.array([accuracy, precision, recall, f1]), columns=labels, index=idx)\n",
                "\n",
                "    return df\n",
                "\n",
                "\n",
                "def get_classifier_metrics(train, test, model):\n",
                "    '''\n",
                "    '''\n",
                "    train_score_df = compute_classifier_metrics(train, model, 'Train')\n",
                "    test_score_df = compute_classifier_metrics(test, model, 'Test')\n",
                "    metrics_df = pd.concat([train_score_df, test_score_df], axis = 1)\n",
                "\n",
                "    return metrics_df\n",
                "\n",
                "\n",
                "def draw_classifier_feature_importance(model, xlabels, threshold):\n",
                "    '''\n",
                "    '''\n",
                "    importance = list(model.bestModel.featureImportances.toArray())\n",
                "    keep_features = [x for x in importance if x >= threshold/100]\n",
                "\n",
                "    idx = [importance.index(x) for x in keep_features]\n",
                "    features_label = [xlabels[x] for x in idx]\n",
                "\n",
                "    # sorting\n",
                "    features_label =[x for _, x in sorted(zip(keep_features, features_label))]\n",
                "    keep_features = sorted(keep_features)\n",
                "\n",
                "    # Draw\n",
                "    fig, ax = plt.subplots(figsize=(16, 9))\n",
                "    ax.pie(keep_features[::-1], labels=features_label[::-1] , \n",
                "           autopct='%1.1f%%', shadow=True, \n",
                "           startangle=90)\n",
                "    ax.set_title('Importance of each feature to the churn decission')\n",
                "    ax.axis('equal')\n"
            ]
        },
        {
            "cell_type": "markdown",
            "metadata": {},
            "source": [
                "**Logistic Regression**"
            ]
        },
        {
            "cell_type": "code",
            "execution_count": 485,
            "metadata": {},
            "outputs": [
                {
                    "name": "stdout",
                    "output_type": "stream",
                    "text": [
                        "training time is 105.20699787139893s\n"
                    ]
                }
            ],
            "source": [
                "# Logistic Regressions\n",
                "model = LogisticRegression()\n",
                "param_grid = ParamGridBuilder() \\\n",
                "            .addGrid(model.regParam, [0.01, 0.1]) \\\n",
                "            .addGrid(model.elasticNetParam, [0.0, 0.5]) \\\n",
                "            .build()\n",
                "\n",
                "fit_model = model_fit(train, model, param_grid, 'LogisticRegression.model')\n",
                "features_label = final_df.columns[2:]"
            ]
        },
        {
            "cell_type": "code",
            "execution_count": 486,
            "metadata": {},
            "outputs": [
                {
                    "data": {
                        "text/html": [
                            "<div>\n",
                            "<style scoped>\n",
                            "    .dataframe tbody tr th:only-of-type {\n",
                            "        vertical-align: middle;\n",
                            "    }\n",
                            "\n",
                            "    .dataframe tbody tr th {\n",
                            "        vertical-align: top;\n",
                            "    }\n",
                            "\n",
                            "    .dataframe thead tr th {\n",
                            "        text-align: left;\n",
                            "    }\n",
                            "</style>\n",
                            "<table border=\"1\" class=\"dataframe\">\n",
                            "  <thead>\n",
                            "    <tr>\n",
                            "      <th></th>\n",
                            "      <th colspan=\"3\" halign=\"left\">Training Accuracy = 86.99%</th>\n",
                            "      <th colspan=\"3\" halign=\"left\">Testing Accuracy = 86.79%</th>\n",
                            "    </tr>\n",
                            "    <tr>\n",
                            "      <th></th>\n",
                            "      <th>General</th>\n",
                            "      <th>Churn=0.0</th>\n",
                            "      <th>Churn=1.0</th>\n",
                            "      <th>General</th>\n",
                            "      <th>Churn=0.0</th>\n",
                            "      <th>Churn=1.0</th>\n",
                            "    </tr>\n",
                            "  </thead>\n",
                            "  <tbody>\n",
                            "    <tr>\n",
                            "      <th>F-Measure</th>\n",
                            "      <td>0.858254</td>\n",
                            "      <td>0.920115</td>\n",
                            "      <td>0.649789</td>\n",
                            "      <td>0.842187</td>\n",
                            "      <td>0.923077</td>\n",
                            "      <td>0.533333</td>\n",
                            "    </tr>\n",
                            "    <tr>\n",
                            "      <th>Precision</th>\n",
                            "      <td>0.867518</td>\n",
                            "      <td>0.873857</td>\n",
                            "      <td>0.846154</td>\n",
                            "      <td>0.886792</td>\n",
                            "      <td>0.857143</td>\n",
                            "      <td>1.000000</td>\n",
                            "    </tr>\n",
                            "    <tr>\n",
                            "      <th>Recall</th>\n",
                            "      <td>0.869906</td>\n",
                            "      <td>0.971545</td>\n",
                            "      <td>0.527397</td>\n",
                            "      <td>0.867925</td>\n",
                            "      <td>1.000000</td>\n",
                            "      <td>0.363636</td>\n",
                            "    </tr>\n",
                            "    <tr>\n",
                            "      <th>True_+ve_Rate</th>\n",
                            "      <td>0.869906</td>\n",
                            "      <td>0.971545</td>\n",
                            "      <td>0.527397</td>\n",
                            "      <td>0.867925</td>\n",
                            "      <td>1.000000</td>\n",
                            "      <td>0.363636</td>\n",
                            "    </tr>\n",
                            "    <tr>\n",
                            "      <th>False_+ve_Rate</th>\n",
                            "      <td>0.370964</td>\n",
                            "      <td>0.472603</td>\n",
                            "      <td>0.028455</td>\n",
                            "      <td>0.504288</td>\n",
                            "      <td>0.636364</td>\n",
                            "      <td>0.000000</td>\n",
                            "    </tr>\n",
                            "  </tbody>\n",
                            "</table>\n",
                            "</div>"
                        ],
                        "text/plain": [
                            "               Training Accuracy = 86.99%                      \\\n",
                            "                                  General Churn=0.0 Churn=1.0   \n",
                            "F-Measure                        0.858254  0.920115  0.649789   \n",
                            "Precision                        0.867518  0.873857  0.846154   \n",
                            "Recall                           0.869906  0.971545  0.527397   \n",
                            "True_+ve_Rate                    0.869906  0.971545  0.527397   \n",
                            "False_+ve_Rate                   0.370964  0.472603  0.028455   \n",
                            "\n",
                            "               Testing Accuracy = 86.79%                      \n",
                            "                                 General Churn=0.0 Churn=1.0  \n",
                            "F-Measure                       0.842187  0.923077  0.533333  \n",
                            "Precision                       0.886792  0.857143  1.000000  \n",
                            "Recall                          0.867925  1.000000  0.363636  \n",
                            "True_+ve_Rate                   0.867925  1.000000  0.363636  \n",
                            "False_+ve_Rate                  0.504288  0.636364  0.000000  "
                        ]
                    },
                    "execution_count": 486,
                    "metadata": {},
                    "output_type": "execute_result"
                }
            ],
            "source": [
                "model_testing(test, fit_model)"
            ]
        },
        {
            "cell_type": "code",
            "execution_count": 487,
            "metadata": {},
            "outputs": [
                {
                    "name": "stderr",
                    "output_type": "stream",
                    "text": [
                        "/var/folders/rh/5tkty3715h119sm4y35zw4dr0000gn/T/ipykernel_76398/3699032736.py:78: UserWarning: FixedFormatter should only be used together with FixedLocator\n",
                        "  ax.set_xticklabels(labels = x_labels, rotation='vertical')\n"
                    ]
                },
                {
                    "data": {
                        "image/png": "[encoded data removed]",
                        "text/plain": [
                            "<Figure size 1440x648 with 1 Axes>"
                        ]
                    },
                    "metadata": {
                        "needs_background": "light"
                    },
                    "output_type": "display_data"
                }
            ],
            "source": [
                "draw_features_contribution(fit_model, features_label)"
            ]
        },
        {
            "cell_type": "markdown",
            "metadata": {},
            "source": [
                "**Decision Tree Classifier**"
            ]
        },
        {
            "cell_type": "code",
            "execution_count": 488,
            "metadata": {},
            "outputs": [
                {
                    "name": "stdout",
                    "output_type": "stream",
                    "text": [
                        "training time is 71.68580794334412s\n"
                    ]
                }
            ],
            "source": [
                "model = DecisionTreeClassifier()\n",
                "param_grid = ParamGridBuilder() \\\n",
                "            .addGrid(model.maxDepth, [5, 10]) \\\n",
                "            .addGrid(model.impurity,['entropy', 'gini']) \\\n",
                "            .build()\n",
                "\n",
                "fit_model = model_fit(train, model, param_grid, 'DecisionTreeClassifier.model')\n",
                "features_label = final_df.columns[2:]\n"
            ]
        },
        {
            "cell_type": "code",
            "execution_count": 506,
            "metadata": {},
            "outputs": [
                {
                    "data": {
                        "text/html": [
                            "<div>\n",
                            "<style scoped>\n",
                            "    .dataframe tbody tr th:only-of-type {\n",
                            "        vertical-align: middle;\n",
                            "    }\n",
                            "\n",
                            "    .dataframe tbody tr th {\n",
                            "        vertical-align: top;\n",
                            "    }\n",
                            "\n",
                            "    .dataframe thead th {\n",
                            "        text-align: right;\n",
                            "    }\n",
                            "</style>\n",
                            "<table border=\"1\" class=\"dataframe\">\n",
                            "  <thead>\n",
                            "    <tr style=\"text-align: right;\">\n",
                            "      <th></th>\n",
                            "      <th>Train</th>\n",
                            "      <th>Test</th>\n",
                            "    </tr>\n",
                            "  </thead>\n",
                            "  <tbody>\n",
                            "    <tr>\n",
                            "      <th>Accuracy</th>\n",
                            "      <td>98.589342</td>\n",
                            "      <td>94.339623</td>\n",
                            "    </tr>\n",
                            "    <tr>\n",
                            "      <th>Precision</th>\n",
                            "      <td>1.000000</td>\n",
                            "      <td>1.000000</td>\n",
                            "    </tr>\n",
                            "    <tr>\n",
                            "      <th>Recall</th>\n",
                            "      <td>0.938356</td>\n",
                            "      <td>0.727273</td>\n",
                            "    </tr>\n",
                            "    <tr>\n",
                            "      <th>F-Score</th>\n",
                            "      <td>0.968198</td>\n",
                            "      <td>0.842105</td>\n",
                            "    </tr>\n",
                            "  </tbody>\n",
                            "</table>\n",
                            "</div>"
                        ],
                        "text/plain": [
                            "               Train       Test\n",
                            "Accuracy   98.589342  94.339623\n",
                            "Precision   1.000000   1.000000\n",
                            "Recall      0.938356   0.727273\n",
                            "F-Score     0.968198   0.842105"
                        ]
                    },
                    "execution_count": 506,
                    "metadata": {},
                    "output_type": "execute_result"
                }
            ],
            "source": [
                "get_classifier_metrics(train, test, fit_model)"
            ]
        },
        {
            "cell_type": "code",
            "execution_count": 511,
            "metadata": {},
            "outputs": [
                {
                    "data": {
                        "image/png": "[encoded data removed]",
                        "text/plain": [
                            "<Figure size 1152x648 with 1 Axes>"
                        ]
                    },
                    "metadata": {},
                    "output_type": "display_data"
                }
            ],
            "source": [
                "draw_classifier_feature_importance(fit_model, features_label, threshold = 3)"
            ]
        },
        {
            "cell_type": "code",
            "execution_count": 512,
            "metadata": {},
            "outputs": [
                {
                    "name": "stdout",
                    "output_type": "stream",
                    "text": [
                        "training time is 257.276487827301s\n"
                    ]
                }
            ],
            "source": [
                "\n",
                "model = GBTClassifier()\n",
                "param_grid = ParamGridBuilder() \\\n",
                "            .addGrid(model.maxDepth, [5, 10]) \\\n",
                "            .addGrid(model.maxBins,[5, 10]) \\\n",
                "            .addGrid(model.maxIter, [5, 10]) \\\n",
                "            .build()\n",
                "\n",
                "fit_model = model_fit(train, model, param_grid, 'GradientBoostedTrees.model')\n",
                "features_label = final_df.columns[2:]"
            ]
        },
        {
            "cell_type": "code",
            "execution_count": 513,
            "metadata": {},
            "outputs": [
                {
                    "data": {
                        "text/html": [
                            "<div>\n",
                            "<style scoped>\n",
                            "    .dataframe tbody tr th:only-of-type {\n",
                            "        vertical-align: middle;\n",
                            "    }\n",
                            "\n",
                            "    .dataframe tbody tr th {\n",
                            "        vertical-align: top;\n",
                            "    }\n",
                            "\n",
                            "    .dataframe thead th {\n",
                            "        text-align: right;\n",
                            "    }\n",
                            "</style>\n",
                            "<table border=\"1\" class=\"dataframe\">\n",
                            "  <thead>\n",
                            "    <tr style=\"text-align: right;\">\n",
                            "      <th></th>\n",
                            "      <th>Train</th>\n",
                            "      <th>Test</th>\n",
                            "    </tr>\n",
                            "  </thead>\n",
                            "  <tbody>\n",
                            "    <tr>\n",
                            "      <th>Accuracy</th>\n",
                            "      <td>100.0</td>\n",
                            "      <td>90.566038</td>\n",
                            "    </tr>\n",
                            "    <tr>\n",
                            "      <th>Precision</th>\n",
                            "      <td>1.0</td>\n",
                            "      <td>0.800000</td>\n",
                            "    </tr>\n",
                            "    <tr>\n",
                            "      <th>Recall</th>\n",
                            "      <td>1.0</td>\n",
                            "      <td>0.727273</td>\n",
                            "    </tr>\n",
                            "    <tr>\n",
                            "      <th>F-Score</th>\n",
                            "      <td>1.0</td>\n",
                            "      <td>0.761905</td>\n",
                            "    </tr>\n",
                            "  </tbody>\n",
                            "</table>\n",
                            "</div>"
                        ],
                        "text/plain": [
                            "           Train       Test\n",
                            "Accuracy   100.0  90.566038\n",
                            "Precision    1.0   0.800000\n",
                            "Recall       1.0   0.727273\n",
                            "F-Score      1.0   0.761905"
                        ]
                    },
                    "execution_count": 513,
                    "metadata": {},
                    "output_type": "execute_result"
                }
            ],
            "source": [
                "get_classifier_metrics(train, test, fit_model)"
            ]
        },
        {
            "cell_type": "code",
            "execution_count": 536,
            "metadata": {},
            "outputs": [
                {
                    "data": {
                        "image/png": "[encoded data removed]",
                        "text/plain": [
                            "<Figure size 1152x648 with 1 Axes>"
                        ]
                    },
                    "metadata": {},
                    "output_type": "display_data"
                }
            ],
            "source": [
                "draw_classifier_feature_importance(fit_model, features_label, threshold = 3)"
            ]
        },
        {
            "cell_type": "code",
            "execution_count": null,
            "metadata": {},
            "outputs": [],
            "source": []
        }
    ],
    "metadata": {
        "kernelspec": {
            "display_name": "Python 3.9.12 ('.venv': venv)",
            "language": "python",
            "name": "python3"
        },
        "language_info": {
            "codemirror_mode": {
                "name": "ipython",
                "version": 3
            },
            "file_extension": ".py",
            "mimetype": "text/x-python",
            "name": "python",
            "nbconvert_exporter": "python",
            "pygments_lexer": "ipython3",
            "version": "3.9.12"
        },
        "vscode": {
            "interpreter": {
                "hash": "8d1ef3b3d21a8f5d62fec297b2de45fe0670853a5f20151ae07585d912ea79d8"
            }
        }
    },
    "nbformat": 4,
    "nbformat_minor": 1
}
